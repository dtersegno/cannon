{
 "cells": [
  {
   "cell_type": "markdown",
   "id": "ade50ac1",
   "metadata": {},
   "source": [
    "Actor-critic cartesian rocket\n",
    "---"
   ]
  },
  {
   "cell_type": "code",
   "execution_count": 205,
   "id": "a4080776",
   "metadata": {},
   "outputs": [],
   "source": [
    "import numpy as np\n",
    "import tensorflow as tf\n",
    "import keras\n",
    "import matplotlib.pyplot as plt\n",
    "plt.style.use('dark_background')"
   ]
  },
  {
   "cell_type": "code",
   "execution_count": 431,
   "id": "c7eb234d",
   "metadata": {},
   "outputs": [],
   "source": [
    "class cartesian_rocket:\n",
    "    def __init__(self,\n",
    "                 dry_mass = 10.,\n",
    "                 wet_mass = 50.,\n",
    "                 isp = 500.,\n",
    "                 time_step = 0.1,\n",
    "                 drag_coef = 0.75,\n",
    "                 max_fuel_rate = .75, # per second\n",
    "#                  throttle_rate = 0.1 #increase of fuel use \n",
    "                 reference_height = 200, #m, for barometric pressure\n",
    "                 g = 9.81\n",
    "                ):\n",
    "        self.dry_mass = dry_mass\n",
    "        self.wet_mass = wet_mass\n",
    "        self.isp = isp\n",
    "        self.time_step = time_step\n",
    "        self.drag_coef = drag_coef\n",
    "        self.max_fuel_rate = max_fuel_rate\n",
    "#         self.throttle_rate = throttle_rate\n",
    "        \n",
    "        #keep track of time\n",
    "        self.stopwatch = 0.\n",
    "        \n",
    "        #keep track of velocity\n",
    "        self.velocity = np.array([0.,0.])\n",
    "        \n",
    "        #keep track of position\n",
    "        self.position = np.array([0.,0.])\n",
    "        \n",
    "        #drag\n",
    "        self.area = 1.\n",
    "        self.reference_height = reference_height\n",
    "        \n",
    "        #gravity\n",
    "        self.g = np.array([0., -g])\n",
    "        \n",
    "        #history.\n",
    "        self.history_position = [\n",
    "            self.position\n",
    "        ]\n",
    "        self.history_velocity = [\n",
    "            self.velocity\n",
    "        ]\n",
    "        \n",
    "        right = np.array([1.,0.])\n",
    "        up = np.array([0.,1.])\n",
    "        self.directions = {\n",
    "            1:right,\n",
    "            2:up,\n",
    "            3:-right,\n",
    "            4:-up\n",
    "        }\n",
    "    \n",
    "    #increase fuel in direction. Adds to velocity at the cost of fuel\n",
    "    def fire(self, direction_code):\n",
    "        direction = self.directions[direction_code]\n",
    "        fuel_used = self.max_fuel_rate * self.time_step\n",
    "        if fuel_used > self.wet_mass:\n",
    "            fuel_used = self.wet_mass\n",
    "        self.wet_mass = self.wet_mass - fuel_used\n",
    "        impulse = direction*self.time_step*self.isp*np.linalg.norm(self.g)*fuel_used\n",
    "        accel = impulse / (self.wet_mass + self.dry_mass)\n",
    "        self.velocity = self.velocity + accel\n",
    "        return accel\n",
    "        \n",
    "    def apply_drag(self):\n",
    "        atm = np.exp(-self.position[1]/self.reference_height)\n",
    "        drag_force = -0.5*atm*self.drag_coef*self.area*np.linalg.norm(self.velocity)*self.velocity\n",
    "        drag_dv =  self.time_step*drag_force / (self.wet_mass + self.dry_mass)\n",
    "        drag_dv_norm = np.linalg.norm(drag_dv)\n",
    "        velocity_norm = np.linalg.norm(self.velocity)\n",
    "        if drag_dv_norm > 0.25*velocity_norm:\n",
    "            print(f'Warning: drag dv is {100*drag_dv_norm/velocity_norm}% of velocity.')\n",
    "        self.velocity = self.velocity + drag_dv\n",
    "    \n",
    "    def apply_gravity(self):\n",
    "        accel = self.time_step*self.g\n",
    "        self.velocity = self.velocity + accel\n",
    "        return accel\n",
    "    \n",
    "    def advance(self, report = True):\n",
    "#         self.apply_gravity()\n",
    "#         self.apply_drag()\n",
    "        self.position = self.position + self.velocity * self.time_step \n",
    "        self.history_position.append(self.position)\n",
    "        self.history_velocity.append(self.velocity)\n",
    "        self.stopwatch += self.time_step\n",
    "        if report:\n",
    "            state = np.array([self.position, self.velocity, [self.dry_mass, self.wet_mass]])\n",
    "            state = np.reshape(state, (1,6,))                \n",
    "            return state\n",
    "        \n",
    "    def is_crashed(self, ground_level):\n",
    "        if self.position[1] < ground_level:\n",
    "            return True\n",
    "        else:\n",
    "            return False\n",
    "    \n",
    "    def plot_trajectory(self, label = None, to_show = True, figsize = (12,12)):\n",
    "        x = np.array(self.history_position)[:,0]\n",
    "        y = np.array(self.history_position)[:,1]\n",
    "        if to_show:\n",
    "            plt.figure(figsize = figsize)\n",
    "            plt.plot(x,y, label = label)\n",
    "            plt.show()\n",
    "        else:\n",
    "            plt.plot(x,y, label = label)"
   ]
  },
  {
   "cell_type": "code",
   "execution_count": 432,
   "id": "4e4b264c",
   "metadata": {},
   "outputs": [
    {
     "name": "stdout",
     "output_type": "stream",
     "text": [
      "Model: \"model_27\"\n",
      "__________________________________________________________________________________________________\n",
      " Layer (type)                   Output Shape         Param #     Connected to                     \n",
      "==================================================================================================\n",
      " input_28 (InputLayer)          [(None, 6)]          0           []                               \n",
      "                                                                                                  \n",
      " dense_81 (Dense)               (None, 32)           224         ['input_28[0][0]']               \n",
      "                                                                                                  \n",
      " dense_82 (Dense)               (None, 5)            165         ['dense_81[0][0]']               \n",
      "                                                                                                  \n",
      " dense_83 (Dense)               (None, 1)            33          ['dense_81[0][0]']               \n",
      "                                                                                                  \n",
      "==================================================================================================\n",
      "Total params: 422\n",
      "Trainable params: 422\n",
      "Non-trainable params: 0\n",
      "__________________________________________________________________________________________________\n"
     ]
    }
   ],
   "source": [
    "#inputs are the state of the rocket. Six values returned from advance()\n",
    "num_inputs = 6\n",
    "#actions are fire right, up, left, down, none\n",
    "num_actions = 5\n",
    "num_hidden = 32\n",
    "\n",
    "\n",
    "init_seed = 20221\n",
    "initializer = tf.initializers.he_normal(init_seed)\n",
    "\n",
    "inputs = keras.layers.Input(shape = (num_inputs,))\n",
    "common1 = keras.layers.Dense(num_hidden, activation = 'relu', kernel_initializer=initializer)(inputs)\n",
    "actor = keras.layers.Dense(num_actions, activation = 'softmax')(common1)\n",
    "critic = keras.layers.Dense(1)(common1)\n",
    "# common2 = keras.layers.Dense(num_hidden, activation = 'relu', kernel_initializer=initializer, bias_initializer=initializer)(common1)\n",
    "# actor = keras.layers.Dense(num_actions, activation = 'softmax', kernel_initializer=initializer, bias_initializer=initializer)(common2)\n",
    "# critic = keras.layers.Dense(1)(common2)\n",
    "#\n",
    "model = keras.Model(inputs = inputs, outputs = [actor, critic])\n",
    "model.summary()"
   ]
  },
  {
   "cell_type": "code",
   "execution_count": 433,
   "id": "4c664853",
   "metadata": {},
   "outputs": [],
   "source": [
    "target_vel = np.array([100., 10.])\n",
    "target_alt = np.array([-60.])\n",
    "\n",
    "#gives error values for the velocity and altitude\n",
    "def calculate_errors(rocket_state, target_velocity = target_vel, target_altitude = target_alt):\n",
    "    pos_x, altitude, vel_x, vel_y, dry_mass, wet_mass = rocket_state[0]\n",
    "#     velocity = np.array([vel_x, vel_y])\n",
    "#     speed_square_error =  np.linalg.norm(velocity - target_velocity)**2\n",
    "    speed_square_error =  (vel_x - target_velocity[0])**2 + (vel_y - target_velocity[1])**2\n",
    "    altitude_square_error = (altitude - target_altitude)**2\n",
    "    return speed_square_error, altitude_square_error\n",
    "    "
   ]
  },
  {
   "cell_type": "code",
   "execution_count": 434,
   "id": "40ce67c6",
   "metadata": {},
   "outputs": [],
   "source": [
    "seed = 2022\n",
    "rng = np.random.default_rng(seed)\n",
    "\n",
    "\n",
    "gamma = 0.5\n",
    "max_simulation_time = 60*1 #seconds\n",
    "eps = np.finfo(np.float32).eps.item()\n",
    "\n",
    "\n",
    "huber = tf.losses.Huber()"
   ]
  },
  {
   "cell_type": "code",
   "execution_count": 435,
   "id": "bf438ed2",
   "metadata": {
    "scrolled": false
   },
   "outputs": [
    {
     "name": "stdout",
     "output_type": "stream",
     "text": [
      "average loss: 85618.23/sec at episode 10, rocket lasted 60.0 sec, last action 2, last accel [0.         2.17035398]\n",
      "average loss: 117728.45/sec at episode 20, rocket lasted 60.0 sec, last action 2, last accel [0.         1.43421053]\n"
     ]
    },
    {
     "ename": "KeyboardInterrupt",
     "evalue": "",
     "output_type": "error",
     "traceback": [
      "\u001b[1;31m---------------------------------------------------------------------------\u001b[0m",
      "\u001b[1;31mKeyboardInterrupt\u001b[0m                         Traceback (most recent call last)",
      "\u001b[1;32m~\\AppData\\Local\\Temp/ipykernel_13168/3657653261.py\u001b[0m in \u001b[0;36m<module>\u001b[1;34m\u001b[0m\n\u001b[0;32m    101\u001b[0m \u001b[1;31m#             diff = true_reward - critic_reward\u001b[0m\u001b[1;33m\u001b[0m\u001b[1;33m\u001b[0m\u001b[0m\n\u001b[0;32m    102\u001b[0m \u001b[1;31m#             actor_losses.append(-log_prob*abs_diff)\u001b[0m\u001b[1;33m\u001b[0m\u001b[1;33m\u001b[0m\u001b[0m\n\u001b[1;32m--> 103\u001b[1;33m             \u001b[0mcritic_loss\u001b[0m \u001b[1;33m=\u001b[0m \u001b[0mhuber\u001b[0m\u001b[1;33m(\u001b[0m\u001b[0mtf\u001b[0m\u001b[1;33m.\u001b[0m\u001b[0mexpand_dims\u001b[0m\u001b[1;33m(\u001b[0m\u001b[0mcritic_reward\u001b[0m\u001b[1;33m,\u001b[0m \u001b[1;36m0\u001b[0m\u001b[1;33m)\u001b[0m\u001b[1;33m,\u001b[0m \u001b[0mtf\u001b[0m\u001b[1;33m.\u001b[0m\u001b[0mexpand_dims\u001b[0m\u001b[1;33m(\u001b[0m\u001b[0mtrue_reward\u001b[0m\u001b[1;33m,\u001b[0m\u001b[1;36m0\u001b[0m\u001b[1;33m)\u001b[0m\u001b[1;33m)\u001b[0m\u001b[1;33m\u001b[0m\u001b[1;33m\u001b[0m\u001b[0m\n\u001b[0m\u001b[0;32m    104\u001b[0m             critic_losses.append(\n\u001b[0;32m    105\u001b[0m                 \u001b[0mcritic_loss\u001b[0m\u001b[1;33m\u001b[0m\u001b[1;33m\u001b[0m\u001b[0m\n",
      "\u001b[1;32mC:\\ProgramData\\Anaconda3\\lib\\site-packages\\keras\\losses.py\u001b[0m in \u001b[0;36m__call__\u001b[1;34m(self, y_true, y_pred, sample_weight)\u001b[0m\n\u001b[0;32m    139\u001b[0m       \u001b[1;32melse\u001b[0m\u001b[1;33m:\u001b[0m\u001b[1;33m\u001b[0m\u001b[1;33m\u001b[0m\u001b[0m\n\u001b[0;32m    140\u001b[0m         \u001b[0mcall_fn\u001b[0m \u001b[1;33m=\u001b[0m \u001b[0mtf\u001b[0m\u001b[1;33m.\u001b[0m\u001b[0m__internal__\u001b[0m\u001b[1;33m.\u001b[0m\u001b[0mautograph\u001b[0m\u001b[1;33m.\u001b[0m\u001b[0mtf_convert\u001b[0m\u001b[1;33m(\u001b[0m\u001b[0mself\u001b[0m\u001b[1;33m.\u001b[0m\u001b[0mcall\u001b[0m\u001b[1;33m,\u001b[0m \u001b[0mtf\u001b[0m\u001b[1;33m.\u001b[0m\u001b[0m__internal__\u001b[0m\u001b[1;33m.\u001b[0m\u001b[0mautograph\u001b[0m\u001b[1;33m.\u001b[0m\u001b[0mcontrol_status_ctx\u001b[0m\u001b[1;33m(\u001b[0m\u001b[1;33m)\u001b[0m\u001b[1;33m)\u001b[0m\u001b[1;33m\u001b[0m\u001b[1;33m\u001b[0m\u001b[0m\n\u001b[1;32m--> 141\u001b[1;33m       \u001b[0mlosses\u001b[0m \u001b[1;33m=\u001b[0m \u001b[0mcall_fn\u001b[0m\u001b[1;33m(\u001b[0m\u001b[0my_true\u001b[0m\u001b[1;33m,\u001b[0m \u001b[0my_pred\u001b[0m\u001b[1;33m)\u001b[0m\u001b[1;33m\u001b[0m\u001b[1;33m\u001b[0m\u001b[0m\n\u001b[0m\u001b[0;32m    142\u001b[0m       return losses_utils.compute_weighted_loss(\n\u001b[0;32m    143\u001b[0m           losses, sample_weight, reduction=self._get_reduction())\n",
      "\u001b[1;32mC:\\ProgramData\\Anaconda3\\lib\\site-packages\\keras\\losses.py\u001b[0m in \u001b[0;36mcall\u001b[1;34m(self, y_true, y_pred)\u001b[0m\n\u001b[0;32m    243\u001b[0m \u001b[1;33m\u001b[0m\u001b[0m\n\u001b[0;32m    244\u001b[0m     \u001b[0mag_fn\u001b[0m \u001b[1;33m=\u001b[0m \u001b[0mtf\u001b[0m\u001b[1;33m.\u001b[0m\u001b[0m__internal__\u001b[0m\u001b[1;33m.\u001b[0m\u001b[0mautograph\u001b[0m\u001b[1;33m.\u001b[0m\u001b[0mtf_convert\u001b[0m\u001b[1;33m(\u001b[0m\u001b[0mself\u001b[0m\u001b[1;33m.\u001b[0m\u001b[0mfn\u001b[0m\u001b[1;33m,\u001b[0m \u001b[0mtf\u001b[0m\u001b[1;33m.\u001b[0m\u001b[0m__internal__\u001b[0m\u001b[1;33m.\u001b[0m\u001b[0mautograph\u001b[0m\u001b[1;33m.\u001b[0m\u001b[0mcontrol_status_ctx\u001b[0m\u001b[1;33m(\u001b[0m\u001b[1;33m)\u001b[0m\u001b[1;33m)\u001b[0m\u001b[1;33m\u001b[0m\u001b[1;33m\u001b[0m\u001b[0m\n\u001b[1;32m--> 245\u001b[1;33m     \u001b[1;32mreturn\u001b[0m \u001b[0mag_fn\u001b[0m\u001b[1;33m(\u001b[0m\u001b[0my_true\u001b[0m\u001b[1;33m,\u001b[0m \u001b[0my_pred\u001b[0m\u001b[1;33m,\u001b[0m \u001b[1;33m**\u001b[0m\u001b[0mself\u001b[0m\u001b[1;33m.\u001b[0m\u001b[0m_fn_kwargs\u001b[0m\u001b[1;33m)\u001b[0m\u001b[1;33m\u001b[0m\u001b[1;33m\u001b[0m\u001b[0m\n\u001b[0m\u001b[0;32m    246\u001b[0m \u001b[1;33m\u001b[0m\u001b[0m\n\u001b[0;32m    247\u001b[0m   \u001b[1;32mdef\u001b[0m \u001b[0mget_config\u001b[0m\u001b[1;33m(\u001b[0m\u001b[0mself\u001b[0m\u001b[1;33m)\u001b[0m\u001b[1;33m:\u001b[0m\u001b[1;33m\u001b[0m\u001b[1;33m\u001b[0m\u001b[0m\n",
      "\u001b[1;32mC:\\ProgramData\\Anaconda3\\lib\\site-packages\\tensorflow\\python\\util\\traceback_utils.py\u001b[0m in \u001b[0;36merror_handler\u001b[1;34m(*args, **kwargs)\u001b[0m\n\u001b[0;32m    148\u001b[0m     \u001b[0mfiltered_tb\u001b[0m \u001b[1;33m=\u001b[0m \u001b[1;32mNone\u001b[0m\u001b[1;33m\u001b[0m\u001b[1;33m\u001b[0m\u001b[0m\n\u001b[0;32m    149\u001b[0m     \u001b[1;32mtry\u001b[0m\u001b[1;33m:\u001b[0m\u001b[1;33m\u001b[0m\u001b[1;33m\u001b[0m\u001b[0m\n\u001b[1;32m--> 150\u001b[1;33m       \u001b[1;32mreturn\u001b[0m \u001b[0mfn\u001b[0m\u001b[1;33m(\u001b[0m\u001b[1;33m*\u001b[0m\u001b[0margs\u001b[0m\u001b[1;33m,\u001b[0m \u001b[1;33m**\u001b[0m\u001b[0mkwargs\u001b[0m\u001b[1;33m)\u001b[0m\u001b[1;33m\u001b[0m\u001b[1;33m\u001b[0m\u001b[0m\n\u001b[0m\u001b[0;32m    151\u001b[0m     \u001b[1;32mexcept\u001b[0m \u001b[0mException\u001b[0m \u001b[1;32mas\u001b[0m \u001b[0me\u001b[0m\u001b[1;33m:\u001b[0m\u001b[1;33m\u001b[0m\u001b[1;33m\u001b[0m\u001b[0m\n\u001b[0;32m    152\u001b[0m       \u001b[0mfiltered_tb\u001b[0m \u001b[1;33m=\u001b[0m \u001b[0m_process_traceback_frames\u001b[0m\u001b[1;33m(\u001b[0m\u001b[0me\u001b[0m\u001b[1;33m.\u001b[0m\u001b[0m__traceback__\u001b[0m\u001b[1;33m)\u001b[0m\u001b[1;33m\u001b[0m\u001b[1;33m\u001b[0m\u001b[0m\n",
      "\u001b[1;32mC:\\ProgramData\\Anaconda3\\lib\\site-packages\\tensorflow\\python\\util\\dispatch.py\u001b[0m in \u001b[0;36mop_dispatch_handler\u001b[1;34m(*args, **kwargs)\u001b[0m\n\u001b[0;32m   1080\u001b[0m       \u001b[1;31m# Fallback dispatch system (dispatch v1):\u001b[0m\u001b[1;33m\u001b[0m\u001b[1;33m\u001b[0m\u001b[0m\n\u001b[0;32m   1081\u001b[0m       \u001b[1;32mtry\u001b[0m\u001b[1;33m:\u001b[0m\u001b[1;33m\u001b[0m\u001b[1;33m\u001b[0m\u001b[0m\n\u001b[1;32m-> 1082\u001b[1;33m         \u001b[1;32mreturn\u001b[0m \u001b[0mdispatch_target\u001b[0m\u001b[1;33m(\u001b[0m\u001b[1;33m*\u001b[0m\u001b[0margs\u001b[0m\u001b[1;33m,\u001b[0m \u001b[1;33m**\u001b[0m\u001b[0mkwargs\u001b[0m\u001b[1;33m)\u001b[0m\u001b[1;33m\u001b[0m\u001b[1;33m\u001b[0m\u001b[0m\n\u001b[0m\u001b[0;32m   1083\u001b[0m       \u001b[1;32mexcept\u001b[0m \u001b[1;33m(\u001b[0m\u001b[0mTypeError\u001b[0m\u001b[1;33m,\u001b[0m \u001b[0mValueError\u001b[0m\u001b[1;33m)\u001b[0m\u001b[1;33m:\u001b[0m\u001b[1;33m\u001b[0m\u001b[1;33m\u001b[0m\u001b[0m\n\u001b[0;32m   1084\u001b[0m         \u001b[1;31m# Note: convert_to_eager_tensor currently raises a ValueError, not a\u001b[0m\u001b[1;33m\u001b[0m\u001b[1;33m\u001b[0m\u001b[0m\n",
      "\u001b[1;32mC:\\ProgramData\\Anaconda3\\lib\\site-packages\\keras\\losses.py\u001b[0m in \u001b[0;36mhuber\u001b[1;34m(y_true, y_pred, delta)\u001b[0m\n\u001b[0;32m   1699\u001b[0m   return backend.mean(\n\u001b[0;32m   1700\u001b[0m       tf.where(abs_error <= delta, half * tf.square(error),\n\u001b[1;32m-> 1701\u001b[1;33m                          delta * abs_error - half * tf.square(delta)),\n\u001b[0m\u001b[0;32m   1702\u001b[0m       axis=-1)\n\u001b[0;32m   1703\u001b[0m \u001b[1;33m\u001b[0m\u001b[0m\n",
      "\u001b[1;32mC:\\ProgramData\\Anaconda3\\lib\\site-packages\\tensorflow\\python\\util\\traceback_utils.py\u001b[0m in \u001b[0;36merror_handler\u001b[1;34m(*args, **kwargs)\u001b[0m\n\u001b[0;32m    148\u001b[0m     \u001b[0mfiltered_tb\u001b[0m \u001b[1;33m=\u001b[0m \u001b[1;32mNone\u001b[0m\u001b[1;33m\u001b[0m\u001b[1;33m\u001b[0m\u001b[0m\n\u001b[0;32m    149\u001b[0m     \u001b[1;32mtry\u001b[0m\u001b[1;33m:\u001b[0m\u001b[1;33m\u001b[0m\u001b[1;33m\u001b[0m\u001b[0m\n\u001b[1;32m--> 150\u001b[1;33m       \u001b[1;32mreturn\u001b[0m \u001b[0mfn\u001b[0m\u001b[1;33m(\u001b[0m\u001b[1;33m*\u001b[0m\u001b[0margs\u001b[0m\u001b[1;33m,\u001b[0m \u001b[1;33m**\u001b[0m\u001b[0mkwargs\u001b[0m\u001b[1;33m)\u001b[0m\u001b[1;33m\u001b[0m\u001b[1;33m\u001b[0m\u001b[0m\n\u001b[0m\u001b[0;32m    151\u001b[0m     \u001b[1;32mexcept\u001b[0m \u001b[0mException\u001b[0m \u001b[1;32mas\u001b[0m \u001b[0me\u001b[0m\u001b[1;33m:\u001b[0m\u001b[1;33m\u001b[0m\u001b[1;33m\u001b[0m\u001b[0m\n\u001b[0;32m    152\u001b[0m       \u001b[0mfiltered_tb\u001b[0m \u001b[1;33m=\u001b[0m \u001b[0m_process_traceback_frames\u001b[0m\u001b[1;33m(\u001b[0m\u001b[0me\u001b[0m\u001b[1;33m.\u001b[0m\u001b[0m__traceback__\u001b[0m\u001b[1;33m)\u001b[0m\u001b[1;33m\u001b[0m\u001b[1;33m\u001b[0m\u001b[0m\n",
      "\u001b[1;32mC:\\ProgramData\\Anaconda3\\lib\\site-packages\\tensorflow\\python\\ops\\math_ops.py\u001b[0m in \u001b[0;36mbinary_op_wrapper\u001b[1;34m(x, y)\u001b[0m\n\u001b[0;32m   1404\u001b[0m         \u001b[1;31m#   r_binary_op_wrapper use different force_same_dtype values.\u001b[0m\u001b[1;33m\u001b[0m\u001b[1;33m\u001b[0m\u001b[0m\n\u001b[0;32m   1405\u001b[0m         \u001b[0mx\u001b[0m\u001b[1;33m,\u001b[0m \u001b[0my\u001b[0m \u001b[1;33m=\u001b[0m \u001b[0mmaybe_promote_tensors\u001b[0m\u001b[1;33m(\u001b[0m\u001b[0mx\u001b[0m\u001b[1;33m,\u001b[0m \u001b[0my\u001b[0m\u001b[1;33m)\u001b[0m\u001b[1;33m\u001b[0m\u001b[1;33m\u001b[0m\u001b[0m\n\u001b[1;32m-> 1406\u001b[1;33m         \u001b[1;32mreturn\u001b[0m \u001b[0mfunc\u001b[0m\u001b[1;33m(\u001b[0m\u001b[0mx\u001b[0m\u001b[1;33m,\u001b[0m \u001b[0my\u001b[0m\u001b[1;33m,\u001b[0m \u001b[0mname\u001b[0m\u001b[1;33m=\u001b[0m\u001b[0mname\u001b[0m\u001b[1;33m)\u001b[0m\u001b[1;33m\u001b[0m\u001b[1;33m\u001b[0m\u001b[0m\n\u001b[0m\u001b[0;32m   1407\u001b[0m       \u001b[1;32mexcept\u001b[0m \u001b[1;33m(\u001b[0m\u001b[0mTypeError\u001b[0m\u001b[1;33m,\u001b[0m \u001b[0mValueError\u001b[0m\u001b[1;33m)\u001b[0m \u001b[1;32mas\u001b[0m \u001b[0me\u001b[0m\u001b[1;33m:\u001b[0m\u001b[1;33m\u001b[0m\u001b[1;33m\u001b[0m\u001b[0m\n\u001b[0;32m   1408\u001b[0m         \u001b[1;31m# Even if dispatching the op failed, the RHS may be a tensor aware\u001b[0m\u001b[1;33m\u001b[0m\u001b[1;33m\u001b[0m\u001b[0m\n",
      "\u001b[1;32mC:\\ProgramData\\Anaconda3\\lib\\site-packages\\tensorflow\\python\\util\\traceback_utils.py\u001b[0m in \u001b[0;36merror_handler\u001b[1;34m(*args, **kwargs)\u001b[0m\n\u001b[0;32m    148\u001b[0m     \u001b[0mfiltered_tb\u001b[0m \u001b[1;33m=\u001b[0m \u001b[1;32mNone\u001b[0m\u001b[1;33m\u001b[0m\u001b[1;33m\u001b[0m\u001b[0m\n\u001b[0;32m    149\u001b[0m     \u001b[1;32mtry\u001b[0m\u001b[1;33m:\u001b[0m\u001b[1;33m\u001b[0m\u001b[1;33m\u001b[0m\u001b[0m\n\u001b[1;32m--> 150\u001b[1;33m       \u001b[1;32mreturn\u001b[0m \u001b[0mfn\u001b[0m\u001b[1;33m(\u001b[0m\u001b[1;33m*\u001b[0m\u001b[0margs\u001b[0m\u001b[1;33m,\u001b[0m \u001b[1;33m**\u001b[0m\u001b[0mkwargs\u001b[0m\u001b[1;33m)\u001b[0m\u001b[1;33m\u001b[0m\u001b[1;33m\u001b[0m\u001b[0m\n\u001b[0m\u001b[0;32m    151\u001b[0m     \u001b[1;32mexcept\u001b[0m \u001b[0mException\u001b[0m \u001b[1;32mas\u001b[0m \u001b[0me\u001b[0m\u001b[1;33m:\u001b[0m\u001b[1;33m\u001b[0m\u001b[1;33m\u001b[0m\u001b[0m\n\u001b[0;32m    152\u001b[0m       \u001b[0mfiltered_tb\u001b[0m \u001b[1;33m=\u001b[0m \u001b[0m_process_traceback_frames\u001b[0m\u001b[1;33m(\u001b[0m\u001b[0me\u001b[0m\u001b[1;33m.\u001b[0m\u001b[0m__traceback__\u001b[0m\u001b[1;33m)\u001b[0m\u001b[1;33m\u001b[0m\u001b[1;33m\u001b[0m\u001b[0m\n",
      "\u001b[1;32mC:\\ProgramData\\Anaconda3\\lib\\site-packages\\tensorflow\\python\\util\\dispatch.py\u001b[0m in \u001b[0;36mop_dispatch_handler\u001b[1;34m(*args, **kwargs)\u001b[0m\n\u001b[0;32m   1080\u001b[0m       \u001b[1;31m# Fallback dispatch system (dispatch v1):\u001b[0m\u001b[1;33m\u001b[0m\u001b[1;33m\u001b[0m\u001b[0m\n\u001b[0;32m   1081\u001b[0m       \u001b[1;32mtry\u001b[0m\u001b[1;33m:\u001b[0m\u001b[1;33m\u001b[0m\u001b[1;33m\u001b[0m\u001b[0m\n\u001b[1;32m-> 1082\u001b[1;33m         \u001b[1;32mreturn\u001b[0m \u001b[0mdispatch_target\u001b[0m\u001b[1;33m(\u001b[0m\u001b[1;33m*\u001b[0m\u001b[0margs\u001b[0m\u001b[1;33m,\u001b[0m \u001b[1;33m**\u001b[0m\u001b[0mkwargs\u001b[0m\u001b[1;33m)\u001b[0m\u001b[1;33m\u001b[0m\u001b[1;33m\u001b[0m\u001b[0m\n\u001b[0m\u001b[0;32m   1083\u001b[0m       \u001b[1;32mexcept\u001b[0m \u001b[1;33m(\u001b[0m\u001b[0mTypeError\u001b[0m\u001b[1;33m,\u001b[0m \u001b[0mValueError\u001b[0m\u001b[1;33m)\u001b[0m\u001b[1;33m:\u001b[0m\u001b[1;33m\u001b[0m\u001b[1;33m\u001b[0m\u001b[0m\n\u001b[0;32m   1084\u001b[0m         \u001b[1;31m# Note: convert_to_eager_tensor currently raises a ValueError, not a\u001b[0m\u001b[1;33m\u001b[0m\u001b[1;33m\u001b[0m\u001b[0m\n",
      "\u001b[1;32mC:\\ProgramData\\Anaconda3\\lib\\site-packages\\tensorflow\\python\\ops\\math_ops.py\u001b[0m in \u001b[0;36msubtract\u001b[1;34m(x, y, name)\u001b[0m\n\u001b[0;32m    546\u001b[0m \u001b[1;33m@\u001b[0m\u001b[0mdispatch\u001b[0m\u001b[1;33m.\u001b[0m\u001b[0madd_dispatch_support\u001b[0m\u001b[1;33m\u001b[0m\u001b[1;33m\u001b[0m\u001b[0m\n\u001b[0;32m    547\u001b[0m \u001b[1;32mdef\u001b[0m \u001b[0msubtract\u001b[0m\u001b[1;33m(\u001b[0m\u001b[0mx\u001b[0m\u001b[1;33m,\u001b[0m \u001b[0my\u001b[0m\u001b[1;33m,\u001b[0m \u001b[0mname\u001b[0m\u001b[1;33m=\u001b[0m\u001b[1;32mNone\u001b[0m\u001b[1;33m)\u001b[0m\u001b[1;33m:\u001b[0m\u001b[1;33m\u001b[0m\u001b[1;33m\u001b[0m\u001b[0m\n\u001b[1;32m--> 548\u001b[1;33m   \u001b[1;32mreturn\u001b[0m \u001b[0mgen_math_ops\u001b[0m\u001b[1;33m.\u001b[0m\u001b[0msub\u001b[0m\u001b[1;33m(\u001b[0m\u001b[0mx\u001b[0m\u001b[1;33m,\u001b[0m \u001b[0my\u001b[0m\u001b[1;33m,\u001b[0m \u001b[0mname\u001b[0m\u001b[1;33m)\u001b[0m\u001b[1;33m\u001b[0m\u001b[1;33m\u001b[0m\u001b[0m\n\u001b[0m\u001b[0;32m    549\u001b[0m \u001b[1;33m\u001b[0m\u001b[0m\n\u001b[0;32m    550\u001b[0m \u001b[1;33m\u001b[0m\u001b[0m\n",
      "\u001b[1;32mC:\\ProgramData\\Anaconda3\\lib\\site-packages\\tensorflow\\python\\ops\\gen_math_ops.py\u001b[0m in \u001b[0;36msub\u001b[1;34m(x, y, name)\u001b[0m\n\u001b[0;32m  11123\u001b[0m   \u001b[1;32mif\u001b[0m \u001b[0mtld\u001b[0m\u001b[1;33m.\u001b[0m\u001b[0mis_eager\u001b[0m\u001b[1;33m:\u001b[0m\u001b[1;33m\u001b[0m\u001b[1;33m\u001b[0m\u001b[0m\n\u001b[0;32m  11124\u001b[0m     \u001b[1;32mtry\u001b[0m\u001b[1;33m:\u001b[0m\u001b[1;33m\u001b[0m\u001b[1;33m\u001b[0m\u001b[0m\n\u001b[1;32m> 11125\u001b[1;33m       _result = pywrap_tfe.TFE_Py_FastPathExecute(\n\u001b[0m\u001b[0;32m  11126\u001b[0m         _ctx, \"Sub\", name, x, y)\n\u001b[0;32m  11127\u001b[0m       \u001b[1;32mreturn\u001b[0m \u001b[0m_result\u001b[0m\u001b[1;33m\u001b[0m\u001b[1;33m\u001b[0m\u001b[0m\n",
      "\u001b[1;31mKeyboardInterrupt\u001b[0m: "
     ]
    },
    {
     "data": {
      "image/png": "[encoded data removed]",
      "text/plain": [
       "<Figure size 864x864 with 1 Axes>"
      ]
     },
     "metadata": {},
     "output_type": "display_data"
    }
   ],
   "source": [
    "############################\n",
    "#losses and rewards\n",
    "############################\n",
    "\n",
    "\n",
    "action_probs_history = []\n",
    "critic_value_history = []\n",
    "rewards_history = []\n",
    "\n",
    "\n",
    "\n",
    "\n",
    "############################\n",
    "#optimizer and learning rate\n",
    "############################\n",
    "\n",
    "\n",
    "# # is_learning_rate_decaying = False\n",
    "# # # is_learning_rate_decaying = True\n",
    "# learning_rate_start = 0.001\n",
    "# # learning_rate_end = 0.0001\n",
    "\n",
    "# if is_learning_rate_decaying:\n",
    "#     learning_rate_decay = (learning_rate_end/learning_rate_start)**(1/num_episodes)\n",
    "# else:\n",
    "#     learning_rate_decay = 1\n",
    "\n",
    "\n",
    "\n",
    "optimizer = tf.optimizers.Adam(learning_rate =.01)\n",
    "#                               beta_1=0.999,\n",
    "#                               beta_2=0.9,\n",
    "#                                epsilon=1e-06,\n",
    "#                               amsgrad=False)\n",
    "\n",
    "# optimizer = tf.optimizers.Adam(learning_rate = learning_rate_start, beta_1 = learning_rate_decay)\n",
    "\n",
    "############################\n",
    "# number of episodes\n",
    "############################\n",
    "\n",
    "num_episodes = 100\n",
    "episode_update_period = 10\n",
    "episode_count = 0\n",
    "\n",
    "\n",
    "############################\n",
    "#go\n",
    "############################\n",
    "plt.figure(figsize = (12,12))\n",
    "\n",
    "for epoch in range(num_episodes):\n",
    "    rkt = cartesian_rocket()\n",
    "    rkt.velocity = (rng.random(2)-np.array([0.5,0.]))*5\n",
    "    starting_state = np.array([rkt.position, rkt.velocity, [rkt.dry_mass, rkt.wet_mass]])\n",
    "    starting_state = np.reshape(starting_state, (1,6))\n",
    "    state = tf.convert_to_tensor(starting_state)\n",
    "    \n",
    "    episode_reward = 0\n",
    "    \n",
    "    with tf.GradientTape() as tape:\n",
    "        while not rkt.is_crashed(ground_level = -25.) and rkt.stopwatch < max_simulation_time:\n",
    "                \n",
    "            action_probs, critic_value = model(state)\n",
    "            critic_value_history.append(critic_value[0,0])\n",
    "\n",
    "            action = rng.choice(num_actions, p = np.squeeze(action_probs))\n",
    "            action_probs_history.append(tf.math.log(action_probs[0, action]))\n",
    "\n",
    "            #fire in the appropriate direction unless the action is number 0: coast\n",
    "            if action == 0:\n",
    "                accel = np.array([0.,0.])\n",
    "            else:\n",
    "                accel = rkt.fire(action)\n",
    "\n",
    "            state = rkt.advance()\n",
    "            \n",
    "            velocity_error, altitude_error = calculate_errors(state)\n",
    "            total_error = velocity_error+altitude_error-1*rkt.stopwatch\n",
    "            total_reward = -total_error #100000.-total_error\n",
    "            rewards_history.append(total_reward)\n",
    "            episode_reward += total_reward\n",
    "        \n",
    "#         running_reward = 0.05 * episode_reward + (1-0.05) * running_reward\n",
    "        \n",
    "        rewards = []\n",
    "        discounted_sum = 0\n",
    "    \n",
    "        for r in rewards_history[::-1]:\n",
    "            discounted_sum = r + gamma*discounted_sum\n",
    "            rewards.insert(0, discounted_sum)\n",
    "        rewards = np.array(rewards)\n",
    "        rewards = (rewards - np.mean(rewards)) / (np.std(rewards) + eps)\n",
    "        rewards = rewards.tolist()\n",
    "        \n",
    "        history = zip(action_probs_history, critic_value_history, rewards)\n",
    "        actor_losses = []\n",
    "        critic_losses = []\n",
    "        for log_prob, critic_reward, true_reward in history:\n",
    "            abs_diff = abs(true_reward - critic_reward)\n",
    "#             diff = true_reward - critic_reward\n",
    "#             actor_losses.append(-log_prob*abs_diff)\n",
    "            critic_loss = huber(tf.expand_dims(critic_reward, 0), tf.expand_dims(true_reward,0))\n",
    "            critic_losses.append(\n",
    "                critic_loss\n",
    "            )\n",
    "            actor_loss = -log_prob*abs_diff\n",
    "#             actor_loss = -log_prob*diff\n",
    "            actor_loss = -log_prob*critic_loss\n",
    "            actor_losses.append(actor_loss)\n",
    "        loss_value = sum(actor_losses) + sum(critic_losses)\n",
    "        grads = tape.gradient(loss_value, model.trainable_variables)\n",
    "        optimizer.apply_gradients(zip(grads, model.trainable_variables))\n",
    "               \n",
    "        \n",
    "    episode_count += 1\n",
    "    if episode_count % episode_update_period == 0:\n",
    "        template = 'average loss: {:.2f}/sec at episode {}, rocket lasted {:.1f} sec, last action {}, last accel {}'\n",
    "        print(template.format(loss_value/rkt.stopwatch, episode_count, rkt.stopwatch, action, accel))\n",
    "#         model.save(f'./actor_critic_rocket_models/model_{episode_count}.tf')\n",
    "        rkt.plot_trajectory(label='episode {}, remaining fuel {:.2f}, stopwatch {:.1f}'.format(episode_count,rkt.wet_mass,rkt.stopwatch), to_show=False)\n",
    "\n",
    "#         print(action_probs_history)\n",
    "        \n",
    "        action_probs_history.clear()\n",
    "        critic_value_history.clear()\n",
    "        rewards_history.clear()\n",
    "#     if is_learning_rate_decaying:\n",
    "#         optimizer.learning_rate = optimizer.learning_rate*learning_rate_decay\n",
    "# plt.xlim(-150, 1200)\n",
    "# plt.ylim(-10, 120)\n",
    "plt.scatter([0], [0], c='red')\n",
    "plt.legend();"
   ]
  },
  {
   "cell_type": "code",
   "execution_count": 350,
   "id": "34aac8e6",
   "metadata": {},
   "outputs": [
    {
     "data": {
      "text/plain": [
       "array([[ -2.04214275, -27.9423678 ,   6.66583454, -21.27561375,\n",
       "         10.        ,  98.8       ]])"
      ]
     },
     "execution_count": 350,
     "metadata": {},
     "output_type": "execute_result"
    }
   ],
   "source": [
    "rkt.fire(2)\n",
    "rkt.advance()"
   ]
  },
  {
   "cell_type": "code",
   "execution_count": 346,
   "id": "fec2c6df",
   "metadata": {},
   "outputs": [
    {
     "data": {
      "text/plain": [
       "array([ 0.   , -0.981])"
      ]
     },
     "execution_count": 346,
     "metadata": {},
     "output_type": "execute_result"
    }
   ],
   "source": [
    "rkt.apply_gravity()"
   ]
  },
  {
   "cell_type": "code",
   "execution_count": 136,
   "id": "bc6d9b49",
   "metadata": {},
   "outputs": [
    {
     "data": {
      "text/plain": [
       "array([[-273.63438303,  -27.57583431,  -68.09279516,  -31.71414991,\n",
       "          10.        ,    8.1       ]])"
      ]
     },
     "execution_count": 136,
     "metadata": {},
     "output_type": "execute_result"
    }
   ],
   "source": [
    "state"
   ]
  },
  {
   "cell_type": "code",
   "execution_count": 167,
   "id": "a3ed9474",
   "metadata": {},
   "outputs": [
    {
     "data": {
      "text/plain": [
       "(array([-0.        , -5.13075314]),\n",
       " array([[   0.        ,  -25.99530554,    0.        , -126.14658263,\n",
       "           10.        ,    9.12      ]]),\n",
       " 0)"
      ]
     },
     "execution_count": 167,
     "metadata": {},
     "output_type": "execute_result"
    }
   ],
   "source": [
    "accel, state, action"
   ]
  },
  {
   "cell_type": "code",
   "execution_count": 197,
   "id": "1ebae0d7",
   "metadata": {},
   "outputs": [
    {
     "ename": "TypeError",
     "evalue": "unsupported format string passed to numpy.ndarray.__format__",
     "output_type": "error",
     "traceback": [
      "\u001b[1;31m---------------------------------------------------------------------------\u001b[0m",
      "\u001b[1;31mTypeError\u001b[0m                                 Traceback (most recent call last)",
      "\u001b[1;32m~\\AppData\\Local\\Temp/ipykernel_13168/439630699.py\u001b[0m in \u001b[0;36m<module>\u001b[1;34m\u001b[0m\n\u001b[0;32m      1\u001b[0m \u001b[0mtemplate\u001b[0m \u001b[1;33m=\u001b[0m \u001b[1;34m'average loss: {:.2f}/sec at episode {}, rocket lasted {:.1f} sec, last action {}, last accel {}'\u001b[0m\u001b[1;33m\u001b[0m\u001b[1;33m\u001b[0m\u001b[0m\n\u001b[1;32m----> 2\u001b[1;33m \u001b[0mprint\u001b[0m\u001b[1;33m(\u001b[0m\u001b[0mtemplate\u001b[0m\u001b[1;33m.\u001b[0m\u001b[0mformat\u001b[0m\u001b[1;33m(\u001b[0m\u001b[0mloss_value\u001b[0m\u001b[1;33m/\u001b[0m\u001b[0mrkt\u001b[0m\u001b[1;33m.\u001b[0m\u001b[0mstopwatch\u001b[0m\u001b[1;33m,\u001b[0m \u001b[0mepisode_count\u001b[0m\u001b[1;33m,\u001b[0m \u001b[0mrkt\u001b[0m\u001b[1;33m.\u001b[0m\u001b[0mstopwatch\u001b[0m\u001b[1;33m,\u001b[0m \u001b[0maction\u001b[0m\u001b[1;33m,\u001b[0m \u001b[0maccel\u001b[0m\u001b[1;33m)\u001b[0m\u001b[1;33m)\u001b[0m\u001b[1;33m\u001b[0m\u001b[1;33m\u001b[0m\u001b[0m\n\u001b[0m",
      "\u001b[1;32mC:\\ProgramData\\Anaconda3\\lib\\site-packages\\tensorflow\\python\\framework\\ops.py\u001b[0m in \u001b[0;36m__format__\u001b[1;34m(self, format_spec)\u001b[0m\n\u001b[0;32m   1141\u001b[0m     \u001b[1;32melif\u001b[0m \u001b[0mself\u001b[0m\u001b[1;33m.\u001b[0m\u001b[0mdtype\u001b[0m\u001b[1;33m.\u001b[0m\u001b[0mis_numpy_compatible\u001b[0m\u001b[1;33m:\u001b[0m\u001b[1;33m\u001b[0m\u001b[1;33m\u001b[0m\u001b[0m\n\u001b[0;32m   1142\u001b[0m       \u001b[1;31m# Not numpy_text here, otherwise the __format__ behaves differently.\u001b[0m\u001b[1;33m\u001b[0m\u001b[1;33m\u001b[0m\u001b[0m\n\u001b[1;32m-> 1143\u001b[1;33m       \u001b[1;32mreturn\u001b[0m \u001b[0mself\u001b[0m\u001b[1;33m.\u001b[0m\u001b[0m_numpy\u001b[0m\u001b[1;33m(\u001b[0m\u001b[1;33m)\u001b[0m\u001b[1;33m.\u001b[0m\u001b[0m__format__\u001b[0m\u001b[1;33m(\u001b[0m\u001b[0mformat_spec\u001b[0m\u001b[1;33m)\u001b[0m\u001b[1;33m\u001b[0m\u001b[1;33m\u001b[0m\u001b[0m\n\u001b[0m\u001b[0;32m   1144\u001b[0m     \u001b[1;32melse\u001b[0m\u001b[1;33m:\u001b[0m\u001b[1;33m\u001b[0m\u001b[1;33m\u001b[0m\u001b[0m\n\u001b[0;32m   1145\u001b[0m       \u001b[1;32mreturn\u001b[0m \u001b[1;34m\"<unprintable>\"\u001b[0m\u001b[1;33m.\u001b[0m\u001b[0m__format__\u001b[0m\u001b[1;33m(\u001b[0m\u001b[0mformat_spec\u001b[0m\u001b[1;33m)\u001b[0m\u001b[1;33m\u001b[0m\u001b[1;33m\u001b[0m\u001b[0m\n",
      "\u001b[1;31mTypeError\u001b[0m: unsupported format string passed to numpy.ndarray.__format__"
     ]
    }
   ],
   "source": [
    "template = 'average loss: {:.2f}/sec at episode {}, rocket lasted {:.1f} sec, last action {}, last accel {}'\n",
    "print(template.format(float(loss_value/rkt.stopwatch, episode_count, rkt.stopwatch, action, accel))"
   ]
  },
  {
   "cell_type": "code",
   "execution_count": 202,
   "id": "6d472d77",
   "metadata": {},
   "outputs": [
    {
     "data": {
      "text/plain": [
       "'average loss: 61.40/sec at episode 1, rocket lasted 7.1 sec, last action 3, last accel [-0.16545792 -0.        ]'"
      ]
     },
     "execution_count": 202,
     "metadata": {},
     "output_type": "execute_result"
    }
   ],
   "source": [
    "template.format(float(loss_value)/rkt.stopwatch, episode_count, rkt.stopwatch, action, accel)"
   ]
  },
  {
   "cell_type": "code",
   "execution_count": 200,
   "id": "2fc0e78e",
   "metadata": {},
   "outputs": [
    {
     "data": {
      "text/plain": [
       "(<tf.Tensor: shape=(1,), dtype=float32, numpy=array([61.40435], dtype=float32)>,\n",
       " 1,\n",
       " 7.099999999999991,\n",
       " 3,\n",
       " array([-0.16545792, -0.        ]))"
      ]
     },
     "execution_count": 200,
     "metadata": {},
     "output_type": "execute_result"
    }
   ],
   "source": [
    "loss_value/rkt.stopwatch, episode_count, rkt.stopwatch, action, accel"
   ]
  },
  {
   "cell_type": "code",
   "execution_count": 244,
   "id": "14b65c9f",
   "metadata": {},
   "outputs": [
    {
     "data": {
      "text/plain": [
       "<tf.Tensor: shape=(), dtype=float32, numpy=2.5426826>"
      ]
     },
     "execution_count": 244,
     "metadata": {},
     "output_type": "execute_result"
    }
   ],
   "source": [
    "critic_reward"
   ]
  },
  {
   "cell_type": "code",
   "execution_count": 245,
   "id": "775a32dc",
   "metadata": {},
   "outputs": [
    {
     "data": {
      "text/plain": [
       "[1.3620659101810801]"
      ]
     },
     "execution_count": 245,
     "metadata": {},
     "output_type": "execute_result"
    }
   ],
   "source": [
    "true_reward"
   ]
  },
  {
   "cell_type": "code",
   "execution_count": 257,
   "id": "4ab8761c",
   "metadata": {},
   "outputs": [
    {
     "data": {
      "text/plain": [
       "[]"
      ]
     },
     "execution_count": 257,
     "metadata": {},
     "output_type": "execute_result"
    }
   ],
   "source": [
    "rewards_history"
   ]
  },
  {
   "cell_type": "code",
   "execution_count": 258,
   "id": "cc0f5b9b",
   "metadata": {},
   "outputs": [
    {
     "data": {
      "text/plain": [
       "[]"
      ]
     },
     "execution_count": 258,
     "metadata": {},
     "output_type": "execute_result"
    }
   ],
   "source": [
    "critic_value_history"
   ]
  },
  {
   "cell_type": "code",
   "execution_count": 259,
   "id": "c10de0c0",
   "metadata": {},
   "outputs": [
    {
     "data": {
      "text/plain": [
       "[[-1.402463144472425],\n",
       " [-1.3088694034917534],\n",
       " [-1.2143555432482982],\n",
       " [-1.1171142457336352],\n",
       " [-1.0184792099048061],\n",
       " [-0.9174954546224412],\n",
       " [-0.8123624883732696],\n",
       " [-0.7054399244264532],\n",
       " [-0.5941247604285007],\n",
       " [-0.479576460162618],\n",
       " [-0.3612241715238818],\n",
       " [-0.235868641887273],\n",
       " [-0.103243637676741],\n",
       " [0.038087606502539506],\n",
       " [0.18859095034228132],\n",
       " [0.3468584489171301],\n",
       " [0.515003053198049],\n",
       " [0.692428114172206],\n",
       " [0.8794898493530352],\n",
       " [1.0768864771637687],\n",
       " [1.2877651290523033],\n",
       " [1.5101519039479936],\n",
       " [1.7444174195171749],\n",
       " [1.9909381337856138]]"
      ]
     },
     "execution_count": 259,
     "metadata": {},
     "output_type": "execute_result"
    }
   ],
   "source": [
    "rewards"
   ]
  },
  {
   "cell_type": "code",
   "execution_count": 407,
   "id": "a9a557fd",
   "metadata": {},
   "outputs": [],
   "source": [
    "rkt = cartesian_rocket()"
   ]
  },
  {
   "cell_type": "code",
   "execution_count": 418,
   "id": "95601fa6",
   "metadata": {},
   "outputs": [
    {
     "data": {
      "text/plain": [
       "array([ 0.        , 15.82258065])"
      ]
     },
     "execution_count": 418,
     "metadata": {},
     "output_type": "execute_result"
    }
   ],
   "source": [
    "rkt.fire(2)"
   ]
  },
  {
   "cell_type": "code",
   "execution_count": 425,
   "id": "d6e40beb",
   "metadata": {},
   "outputs": [
    {
     "data": {
      "text/plain": [
       "array([[  0.        , 143.25092709,   0.        ,  14.3464338 ,\n",
       "         10.        ,  48.125     ]])"
      ]
     },
     "execution_count": 425,
     "metadata": {},
     "output_type": "execute_result"
    }
   ],
   "source": [
    "rkt.advance()"
   ]
  },
  {
   "cell_type": "code",
   "execution_count": null,
   "id": "4a46f78d",
   "metadata": {},
   "outputs": [],
   "source": []
  },
  {
   "cell_type": "code",
   "execution_count": null,
   "id": "02f6382f",
   "metadata": {},
   "outputs": [],
   "source": []
  }
 ],
 "metadata": {
  "kernelspec": {
   "display_name": "Python 3 (ipykernel)",
   "language": "python",
   "name": "python3"
  },
  "language_info": {
   "codemirror_mode": {
    "name": "ipython",
    "version": 3
   },
   "file_extension": ".py",
   "mimetype": "text/x-python",
   "name": "python",
   "nbconvert_exporter": "python",
   "pygments_lexer": "ipython3",
   "version": "3.9.7"
  }
 },
 "nbformat": 4,
 "nbformat_minor": 5
}
