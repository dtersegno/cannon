{
 "cells": [
  {
   "cell_type": "markdown",
   "id": "ade50ac1",
   "metadata": {},
   "source": [
    "Actor-critic cartesian rocket\n",
    "---"
   ]
  },
  {
   "cell_type": "code",
   "execution_count": 92,
   "id": "a4080776",
   "metadata": {},
   "outputs": [],
   "source": [
    "import numpy as np\n",
    "import tensorflow as tf\n",
    "import keras\n",
    "import matplotlib.pyplot as plt\n",
    "plt.style.use('dark_background')"
   ]
  },
  {
   "cell_type": "code",
   "execution_count": 524,
   "id": "c7eb234d",
   "metadata": {},
   "outputs": [],
   "source": [
    "class cartesian_rocket:\n",
    "    def __init__(self,\n",
    "                 dry_mass = 10.,\n",
    "                 wet_mass = 100.,\n",
    "                 isp = 400.,\n",
    "                 time_step = 0.1,\n",
    "                 drag_coef = 0.,\n",
    "                 max_fuel_rate = 0.1, # per second\n",
    "#                  throttle_rate = 0.1 #increase of fuel use \n",
    "                 reference_height = 200, #m, for barometric pressure\n",
    "                 g = 9.81\n",
    "                ):\n",
    "        self.dry_mass = dry_mass\n",
    "        self.wet_mass = wet_mass\n",
    "        self.isp = isp\n",
    "        self.time_step = time_step\n",
    "        self.drag_coef = drag_coef\n",
    "        self.max_fuel_rate = max_fuel_rate\n",
    "#         self.throttle_rate = throttle_rate\n",
    "        \n",
    "        #keep track of time\n",
    "        self.stopwatch = 0.\n",
    "        \n",
    "        #keep track of velocity\n",
    "        self.velocity = np.array([0.,0.])\n",
    "        \n",
    "        #keep track of position\n",
    "        self.position = np.array([0.,0.])\n",
    "        \n",
    "        #drag\n",
    "        self.area = 1.\n",
    "        self.reference_height = reference_height\n",
    "        \n",
    "        #gravity\n",
    "        self.g = np.array([0., -g])\n",
    "        \n",
    "        #history.\n",
    "        self.history_position = [\n",
    "            self.position\n",
    "        ]\n",
    "        self.history_velocity = [\n",
    "            self.velocity\n",
    "        ]\n",
    "        \n",
    "        right = np.array([1.,0.])\n",
    "        up = np.array([0.,1.])\n",
    "        self.directions = {\n",
    "            1:right,\n",
    "            2:up,\n",
    "            3:-right,\n",
    "            4:-up\n",
    "        }\n",
    "    \n",
    "    #increase fuel in direction. Adds to velocity at the cost of fuel\n",
    "    def fire(self, direction_code):\n",
    "        direction = self.directions[direction_code]\n",
    "        fuel_used = self.max_fuel_rate * self.time_step\n",
    "        if fuel_used > self.wet_mass:\n",
    "            fuel_used = self.wet_mass\n",
    "        self.wet_mass = self.wet_mass - fuel_used\n",
    "        force = direction*self.time_step*self.isp*np.linalg.norm(self.g)*fuel_used\n",
    "        accel = force / (self.wet_mass + self.dry_mass)\n",
    "        self.velocity = self.velocity + accel\n",
    "        return accel\n",
    "        \n",
    "    def apply_drag(self):\n",
    "        atm = np.exp(-self.position[1]/self.reference_height)\n",
    "        drag_force = -0.5*atm*self.drag_coef*self.area*np.linalg.norm(self.velocity)*self.velocity\n",
    "        drag_dv =  self.time_step*drag_force / (self.wet_mass + self.dry_mass)\n",
    "        drag_dv_norm = np.linalg.norm(drag_dv)\n",
    "        velocity_norm = np.linalg.norm(self.velocity)\n",
    "        if drag_dv_norm > 0.25*velocity_norm:\n",
    "            print(f'Warning: drag dv is {100*drag_dv_norm/velocity_norm}% of velocity.')\n",
    "        self.velocity = self.velocity + drag_dv\n",
    "    \n",
    "    def apply_gravity(self):\n",
    "        self.velocity = self.velocity + self.time_step*self.g\n",
    "        return self.velocity\n",
    "    \n",
    "    def advance(self, report = True):\n",
    "        self.apply_gravity()\n",
    "#         self.apply_drag()\n",
    "        self.position = self.position + self.velocity * self.time_step \n",
    "        self.history_position.append(self.position)\n",
    "        self.history_velocity.append(self.velocity)\n",
    "        self.stopwatch += self.time_step\n",
    "        if report:\n",
    "            state = np.array([self.position, self.velocity, [self.dry_mass, self.wet_mass]])\n",
    "            state = np.reshape(state, (1,6,))                \n",
    "            return state\n",
    "        \n",
    "    def is_crashed(self, ground_level):\n",
    "        if self.position[1] < ground_level:\n",
    "            return True\n",
    "        else:\n",
    "            return False\n",
    "    \n",
    "    def plot_trajectory(self, label = None, to_show = True, figsize = (12,12)):\n",
    "        x = np.array(self.history_position)[:,0]\n",
    "        y = np.array(self.history_position)[:,1]\n",
    "        if to_show:\n",
    "            plt.figure(figsize = figsize)\n",
    "            plt.plot(x,y, label = label)\n",
    "            plt.show()\n",
    "        else:\n",
    "            plt.plot(x,y, label = label)"
   ]
  },
  {
   "cell_type": "code",
   "execution_count": 525,
   "id": "4e4b264c",
   "metadata": {},
   "outputs": [
    {
     "name": "stdout",
     "output_type": "stream",
     "text": [
      "Model: \"model_42\"\n",
      "__________________________________________________________________________________________________\n",
      " Layer (type)                   Output Shape         Param #     Connected to                     \n",
      "==================================================================================================\n",
      " input_53 (InputLayer)          [(None, 6)]          0           []                               \n",
      "                                                                                                  \n",
      " dense_173 (Dense)              (None, 32)           224         ['input_53[0][0]']               \n",
      "                                                                                                  \n",
      " dense_174 (Dense)              (None, 32)           1056        ['dense_173[0][0]']              \n",
      "                                                                                                  \n",
      " dense_175 (Dense)              (None, 5)            165         ['dense_174[0][0]']              \n",
      "                                                                                                  \n",
      " dense_176 (Dense)              (None, 1)            33          ['dense_174[0][0]']              \n",
      "                                                                                                  \n",
      "==================================================================================================\n",
      "Total params: 1,478\n",
      "Trainable params: 1,478\n",
      "Non-trainable params: 0\n",
      "__________________________________________________________________________________________________\n"
     ]
    }
   ],
   "source": [
    "#inputs are the state of the rocket. Six values returned from advance()\n",
    "num_inputs = 6\n",
    "#actions are fire right, up, left, down, none\n",
    "num_actions = 5\n",
    "num_hidden = 32\n",
    "\n",
    "\n",
    "init_seed = 2022\n",
    "initializer = tf.initializers.he_normal(init_seed)\n",
    "\n",
    "inputs = keras.layers.Input(shape = (num_inputs,))\n",
    "common1 = keras.layers.Dense(num_hidden, activation = 'relu', kernel_initializer=initializer, bias_initializer=initializer)(inputs)\n",
    "# actor = keras.layers.Dense(num_actions, activation = 'softmax')(common1)\n",
    "# critic = keras.layers.Dense(1)(common1)\n",
    "common2 = keras.layers.Dense(num_hidden, activation = 'relu')(common1)\n",
    "actor = keras.layers.Dense(num_actions, activation = 'softmax')(common2)\n",
    "critic = keras.layers.Dense(1)(common2)\n",
    "#\n",
    "model = keras.Model(inputs = inputs, outputs = [actor, critic])\n",
    "model.summary()"
   ]
  },
  {
   "cell_type": "code",
   "execution_count": 526,
   "id": "4c664853",
   "metadata": {},
   "outputs": [],
   "source": [
    "target_vel = np.array([25., 0.])\n",
    "target_alt = 60.\n",
    "\n",
    "#gives error values for the velocity and altitude\n",
    "def calculate_errors(rocket_state, target_velocity = target_vel, target_altitude = target_alt):\n",
    "    pos_x, altitude, vel_x, vel_y, dry_mass, wet_mass = rocket_state[0]\n",
    "#     velocity = np.array([vel_x, vel_y])\n",
    "#     speed_square_error =  np.linalg.norm(velocity - target_velocity)**2\n",
    "    speed_square_error =  (vel_x - target_velocity[0])**2 + (vel_y - target_velocity[1])**2\n",
    "    altitude_square_error = (altitude - target_altitude)**2\n",
    "    return speed_square_error, altitude_square_error\n",
    "    "
   ]
  },
  {
   "cell_type": "code",
   "execution_count": 527,
   "id": "40ce67c6",
   "metadata": {},
   "outputs": [],
   "source": [
    "seed = 2022\n",
    "rng = np.random.default_rng(seed)\n",
    "\n",
    "\n",
    "gamma = 0.99\n",
    "max_simulation_time = 60*2 #seconds\n",
    "eps = np.finfo(np.float32).eps.item()\n",
    "\n",
    "\n",
    "huber = tf.losses.Huber()"
   ]
  },
  {
   "cell_type": "code",
   "execution_count": 528,
   "id": "bf438ed2",
   "metadata": {
    "scrolled": false
   },
   "outputs": [
    {
     "name": "stdout",
     "output_type": "stream",
     "text": [
      "average loss: 458.137/sec at episode 1, rocket lasted 27.10 sec\n",
      "average loss: 254.360/sec at episode 2, rocket lasted 71.40 sec\n",
      "average loss: 346.777/sec at episode 3, rocket lasted 35.10 sec\n",
      "average loss: 545.200/sec at episode 4, rocket lasted 26.00 sec\n",
      "average loss: 291.611/sec at episode 5, rocket lasted 43.90 sec\n",
      "average loss: 381.789/sec at episode 6, rocket lasted 59.10 sec\n",
      "average loss: 541.824/sec at episode 7, rocket lasted 37.20 sec\n",
      "average loss: 191.025/sec at episode 8, rocket lasted 103.00 sec\n",
      "average loss: 406.821/sec at episode 9, rocket lasted 26.30 sec\n",
      "average loss: 307.781/sec at episode 10, rocket lasted 66.90 sec\n"
     ]
    },
    {
     "data": {
      "image/png": "[encoded data removed]",
      "text/plain": [
       "<Figure size 864x864 with 1 Axes>"
      ]
     },
     "metadata": {},
     "output_type": "display_data"
    }
   ],
   "source": [
    "############################\n",
    "#losses and rewards\n",
    "############################\n",
    "\n",
    "\n",
    "action_probs_history = []\n",
    "critic_value_history = []\n",
    "rewards_history = []\n",
    "\n",
    "\n",
    "\n",
    "\n",
    "############################\n",
    "#optimizer and learning rate\n",
    "############################\n",
    "\n",
    "\n",
    "# # is_learning_rate_decaying = False\n",
    "# # # is_learning_rate_decaying = True\n",
    "learning_rate_start = 0.00001\n",
    "# # learning_rate_end = 0.0001\n",
    "\n",
    "# if is_learning_rate_decaying:\n",
    "#     learning_rate_decay = (learning_rate_end/learning_rate_start)**(1/num_episodes)\n",
    "# else:\n",
    "#     learning_rate_decay = 1\n",
    "\n",
    "\n",
    "\n",
    "optimizer = tf.optimizers.Adam(learning_rate = learning_rate_start,\n",
    "                              beta_1=0.999,\n",
    "                              beta_2=0.9,\n",
    "                              amsgrad=True)\n",
    "\n",
    "# optimizer = tf.optimizers.Adam(learning_rate = learning_rate_start, beta_1 = learning_rate_decay)\n",
    "\n",
    "############################\n",
    "# number of episodes\n",
    "############################\n",
    "\n",
    "num_episodes = 10\n",
    "episode_update_period = 1\n",
    "episode_count = 0\n",
    "\n",
    "\n",
    "############################\n",
    "#go\n",
    "############################\n",
    "plt.figure(figsize = (12,12))\n",
    "\n",
    "for epoch in range(num_episodes):\n",
    "    rkt = cartesian_rocket(g= 0.1)\n",
    "    rkt.velocity = (rng.random(2)-np.array([0.5,0.]))*5\n",
    "    starting_state = np.array([rkt.position, rkt.velocity, [rkt.dry_mass, rkt.wet_mass]])\n",
    "    starting_state = np.reshape(starting_state, (1,6))\n",
    "    state = tf.convert_to_tensor(starting_state)\n",
    "    \n",
    "    episode_reward = 0\n",
    "    \n",
    "    with tf.GradientTape() as tape:\n",
    "        while not rkt.is_crashed(ground_level = -25.) and rkt.stopwatch <= max_simulation_time:\n",
    "                \n",
    "            action_probs, critic_value = model(state)\n",
    "            critic_value_history.append(critic_value[0,0])\n",
    "\n",
    "            action = rng.choice(num_actions, p = np.squeeze(action_probs))\n",
    "            action_probs_history.append(tf.math.log(action_probs[0, action]))\n",
    "\n",
    "            #fire in the appropriate direction unless the action is number 5: coast\n",
    "            if action == 0:\n",
    "                pass\n",
    "            else:\n",
    "                rkt.fire(action)\n",
    "\n",
    "            state = rkt.advance()\n",
    "            \n",
    "            velocity_error, altitude_error = calculate_errors(state)\n",
    "            total_error = velocity_error+altitude_error#-0.1*rkt.stopwatch\n",
    "            total_reward = total_error #100000.-total_error\n",
    "            rewards_history.append(total_reward)\n",
    "            episode_reward += total_reward\n",
    "        \n",
    "#         running_reward = 0.05 * episode_reward + (1-0.05) * running_reward\n",
    "        \n",
    "        rewards = []\n",
    "        discounted_sum = 0\n",
    "    \n",
    "        for r in rewards_history[::-1]:\n",
    "            discounted_sum = r + gamma*discounted_sum\n",
    "            rewards.insert(0, discounted_sum)\n",
    "        rewards = np.array(rewards)\n",
    "        rewards = (rewards - np.mean(rewards)) / (np.std(rewards) + eps)\n",
    "        rewards = rewards.tolist()\n",
    "        \n",
    "        history = zip(action_probs_history, critic_value_history, rewards)\n",
    "        actor_losses = []\n",
    "        critic_losses = []\n",
    "        for log_prob, critic_reward, true_reward in history:\n",
    "#             diff = true_reward - critic_reward\n",
    "#             actor_losses.append(-log_prob*abs_diff)\n",
    "            critic_loss = huber(tf.expand_dims(critic_reward, 0), tf.expand_dims(true_reward,0))\n",
    "            critic_losses.append(\n",
    "                critic_loss\n",
    "            )\n",
    "            actor_loss = -log_prob*critic_loss\n",
    "            actor_losses.append(actor_loss)\n",
    "        loss_value = sum(actor_losses) + sum(critic_losses)\n",
    "        grads = tape.gradient(loss_value, model.trainable_variables)\n",
    "        optimizer.apply_gradients(zip(grads, model.trainable_variables))\n",
    "               \n",
    "        \n",
    "    episode_count += 1\n",
    "    if episode_count % episode_update_period == 0:\n",
    "        template = 'average loss: {:.2f}/sec at episode {}, rocket lasted {:.1f} sec'\n",
    "        print(template.format(loss_value/rkt.stopwatch, episode_count, rkt.stopwatch))\n",
    "#         model.save(f'./actor_critic_rocket_models/model_{episode_count}.tf')\n",
    "        rkt.plot_trajectory(label='episode {}, remaining fuel {:.2f}, stopwatch {:.1f}'.format(episode_count,rkt.wet_mass,rkt.stopwatch), to_show=False)\n",
    "\n",
    "#         print(action_probs_history)\n",
    "        \n",
    "        action_probs_history.clear()\n",
    "        critic_value_history.clear()\n",
    "        rewards_history.clear()\n",
    "    if is_learning_rate_decaying:\n",
    "        optimizer.learning_rate = optimizer.learning_rate*learning_rate_decay\n",
    "plt.xlim(-150, 1200)\n",
    "plt.ylim(-10, 120)\n",
    "plt.legend();"
   ]
  },
  {
   "cell_type": "code",
   "execution_count": 503,
   "id": "c90363a5",
   "metadata": {},
   "outputs": [
    {
     "data": {
      "text/plain": [
       "<tf.Tensor: shape=(1, 5), dtype=float32, numpy=array([[0., 0., 0., 1., 0.]], dtype=float32)>"
      ]
     },
     "execution_count": 503,
     "metadata": {},
     "output_type": "execute_result"
    }
   ],
   "source": [
    "action_probs"
   ]
  },
  {
   "cell_type": "code",
   "execution_count": 383,
   "id": "0d5a9372",
   "metadata": {},
   "outputs": [],
   "source": [
    "rkt = cartesian_rocket()"
   ]
  },
  {
   "cell_type": "code",
   "execution_count": 384,
   "id": "3c0fd76a",
   "metadata": {},
   "outputs": [
    {
     "data": {
      "text/plain": [
       "array([ 0.        , 13.43835616])"
      ]
     },
     "execution_count": 384,
     "metadata": {},
     "output_type": "execute_result"
    }
   ],
   "source": [
    "rkt.fire(2)"
   ]
  },
  {
   "cell_type": "code",
   "execution_count": 386,
   "id": "68ba93ee",
   "metadata": {},
   "outputs": [
    {
     "data": {
      "text/plain": [
       "array([[ 0.        ,  6.08085616,  0.        ,  3.62835616, 10.        ,\n",
       "        99.5       ]])"
      ]
     },
     "execution_count": 386,
     "metadata": {},
     "output_type": "execute_result"
    }
   ],
   "source": [
    "rkt.advance()"
   ]
  },
  {
   "cell_type": "code",
   "execution_count": null,
   "id": "8a00fd20",
   "metadata": {},
   "outputs": [],
   "source": []
  }
 ],
 "metadata": {
  "kernelspec": {
   "display_name": "Python 3 (ipykernel)",
   "language": "python",
   "name": "python3"
  },
  "language_info": {
   "codemirror_mode": {
    "name": "ipython",
    "version": 3
   },
   "file_extension": ".py",
   "mimetype": "text/x-python",
   "name": "python",
   "nbconvert_exporter": "python",
   "pygments_lexer": "ipython3",
   "version": "3.9.7"
  }
 },
 "nbformat": 4,
 "nbformat_minor": 5
}
