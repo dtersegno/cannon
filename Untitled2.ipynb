{
 "cells": [
  {
   "cell_type": "markdown",
   "id": "ddf114ff",
   "metadata": {},
   "source": [
    "Actor Critic Floater\n",
    "---"
   ]
  },
  {
   "cell_type": "code",
   "execution_count": 2,
   "id": "08977953",
   "metadata": {},
   "outputs": [],
   "source": [
    "import tensorflow as tf\n",
    "import keras\n",
    "import numpy as np\n",
    "import matplotlib.pyplot as plt\n",
    "%matplotlib inline"
   ]
  },
  {
   "cell_type": "code",
   "execution_count": null,
   "id": "2fee28a3",
   "metadata": {},
   "outputs": [],
   "source": [
    "class floater:\n",
    "    def __init__(self, mass, g, time_step = 0.1, g = 9.81):\n",
    "        self.mass = 1.\n",
    "        self.position = np.array([0.,0.])\n",
    "        self.velocity = np.array([0.,0.])\n",
    "        self.time_step = time_step\n",
    "        self.g = np.array([0.,-g])\n",
    "        \n",
    "    def apply_gravity(self):\n",
    "        dv = self.g * self.time_step\n",
    "        self.velocity = self.velocity + dv\n",
    "        return \n",
    "        \n",
    "    def apply_forces(self):\n",
    "        self.apply_gravity()\n",
    "        return self.velocity\n",
    "        \n",
    "    def advance(self):\n",
    "        self.apply_forces()\n",
    "        self.position = self.position = self.velocity * self.time_step\n",
    "        return self.position"
   ]
  }
 ],
 "metadata": {
  "kernelspec": {
   "display_name": "Python 3 (ipykernel)",
   "language": "python",
   "name": "python3"
  },
  "language_info": {
   "codemirror_mode": {
    "name": "ipython",
    "version": 3
   },
   "file_extension": ".py",
   "mimetype": "text/x-python",
   "name": "python",
   "nbconvert_exporter": "python",
   "pygments_lexer": "ipython3",
   "version": "3.9.7"
  }
 },
 "nbformat": 4,
 "nbformat_minor": 5
}
