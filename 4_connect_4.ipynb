{
 "cells": [
  {
   "cell_type": "markdown",
   "id": "2045d3d3",
   "metadata": {},
   "source": [
    "Connect 4\n",
    "---"
   ]
  },
  {
   "cell_type": "code",
   "execution_count": 1,
   "id": "fde3c713",
   "metadata": {},
   "outputs": [],
   "source": [
    "import tensorflow as tf\n",
    "import numpy as np\n",
    "import keras\n",
    "import matplotlib.pyplot as plt\n",
    "%matplotlib inline"
   ]
  },
  {
   "cell_type": "code",
   "execution_count": null,
   "id": "1ee89a07",
   "metadata": {},
   "outputs": [],
   "source": [
    "class board:\n",
    "    def __init__(self, shape):\n",
    "        board.map = tf.convert_to_tensor(\n",
    "            np.full(shape, 0)\n",
    "        )\n",
    "        \n",
    "    def drop(tile = -1.):"
   ]
  }
 ],
 "metadata": {
  "kernelspec": {
   "display_name": "Python 3 (ipykernel)",
   "language": "python",
   "name": "python3"
  },
  "language_info": {
   "codemirror_mode": {
    "name": "ipython",
    "version": 3
   },
   "file_extension": ".py",
   "mimetype": "text/x-python",
   "name": "python",
   "nbconvert_exporter": "python",
   "pygments_lexer": "ipython3",
   "version": "3.9.7"
  }
 },
 "nbformat": 4,
 "nbformat_minor": 5
}
