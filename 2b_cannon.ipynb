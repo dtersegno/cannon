{
 "cells": [
  {
   "cell_type": "markdown",
   "id": "bc2de99e",
   "metadata": {},
   "source": [
    "Just do it with keras\n",
    "---"
   ]
  },
  {
   "cell_type": "code",
   "execution_count": 1,
   "id": "a419be8c",
   "metadata": {},
   "outputs": [],
   "source": [
    "import tensorflow as tf\n",
    "import keras\n",
    "import pandas as pd\n",
    "import numpy as np\n",
    "import matplotlib.pyplot as plt\n",
    "%matplotlib inline\n",
    "plt.style.use('dark_background')\n",
    "\n",
    "pi = np.pi"
   ]
  },
  {
   "cell_type": "code",
   "execution_count": 2,
   "id": "3167348f",
   "metadata": {},
   "outputs": [],
   "source": [
    "def simulate_trajectory(speed, azi, pitch, target, origin = np.array([0.,0.,0.]), timestep = 0.1, g = -10., distance_only = True):\n",
    "    #get cartesian velocity from spherical coordinates\n",
    "    velocity = speed*np.array([\n",
    "        np.cos(azi)*np.cos(pitch),\n",
    "        np.sin(azi)*np.cos(pitch),\n",
    "        np.sin(pitch)\n",
    "    ])\n",
    "    acc = np.array([0.,0., g])\n",
    "    history = [origin, origin+ velocity*timestep + (1/2)*acc*timestep**2]\n",
    "    position = history[-1]\n",
    "    distances = [np.linalg.norm(target - origin), np.linalg.norm(target - position)]\n",
    "    distances = [np.linalg.norm(target - origin), np.linalg.norm(target - position)]\n",
    "    #while the ball is above the ground, timestep to change position\n",
    "    while position[2] >= 0:\n",
    "#         print(history[-1])\n",
    "        position = 2*history[-1] - history[-2] + acc*(timestep**2)\n",
    "        distances.append(np.linalg.norm(target - position))\n",
    "        history.append(position)\n",
    "    if distance_only:\n",
    "        return np.array(distances).min()\n",
    "    else:\n",
    "        return np.array(history)"
   ]
  },
  {
   "cell_type": "code",
   "execution_count": 3,
   "id": "12d61f07",
   "metadata": {
    "scrolled": false
   },
   "outputs": [
    {
     "data": {
      "text/plain": [
       "215.7568437385416"
      ]
     },
     "execution_count": 3,
     "metadata": {},
     "output_type": "execute_result"
    }
   ],
   "source": [
    "simulate_trajectory(100,pi/23,pi/3,[200,200,100])"
   ]
  },
  {
   "cell_type": "code",
   "execution_count": 4,
   "id": "138301d8",
   "metadata": {},
   "outputs": [
    {
     "data": {
      "image/png": "[encoded data removed]",
      "text/plain": [
       "<Figure size 432x288 with 1 Axes>"
      ]
     },
     "metadata": {},
     "output_type": "display_data"
    }
   ],
   "source": [
    "traj = simulate_trajectory(100,pi/23,pi/3,[200,200,100], distance_only = False)\n",
    "plt.scatter(traj[:,0], traj[:,2], label = 'trajectory')\n",
    "plt.scatter([200],[100], label = 'target')\n",
    "plt.legend();"
   ]
  },
  {
   "cell_type": "markdown",
   "id": "3b051b23",
   "metadata": {},
   "source": [
    "for an actor-critic model, we need a model that estimates the loss given the state and policy output (critic) as well as a model producing the policy (actor)."
   ]
  },
  {
   "cell_type": "code",
   "execution_count": 8,
   "id": "e303612c",
   "metadata": {},
   "outputs": [],
   "source": [
    "class actor(keras.Model):\n",
    "    def __init__(self, units, num_layers, num_outputs, output_activation = None):\n",
    "        super().__init__()\n",
    "        self.layer_list = []\n",
    "        for layer in range(num_layers):\n",
    "            self.layer_list.append(\n",
    "                keras.layers.Dense(units = units,\n",
    "                                  activation = 'relu',\n",
    "                                  kernel_initializer = keras.initializers.he_normal,\n",
    "                                  bias_initializer = keras.initializers.he_normal\n",
    "                                  )\n",
    "            )\n",
    "        self.layer_list.append(\n",
    "            keras.layers.Dense(num_outputs, activation = output_activation)\n",
    "        )\n",
    "        \n",
    "    def call(self, x, training = True):\n",
    "        x = x[:, tf.newaxis]\n",
    "        for layer in self.layer_list:\n",
    "            x = layer(x)\n",
    "        return tf.squeeze(x, axis = 1)\n",
    "\n",
    "class cannon:\n",
    "    def __init__(self, max_speed, azimuth_limit = pi, pitch_limit = pi/2.):\n",
    "        self.max_speed = max_speed\n",
    "        self.azimuth_limit = azimuth_limit\n",
    "        self.pitch_limit = pitch_limit\n",
    "        \n",
    "    def load(self, speed_frac, azi_frac, pitch_frac):\n",
    "        return speed_frac*self.max_speed, azi_frac*self.azimuth_limit, pitch_frac*self.pitch_limit\n",
    "        "
   ]
  },
  {
   "cell_type": "code",
   "execution_count": 9,
   "id": "772de74c",
   "metadata": {},
   "outputs": [],
   "source": [
    "my_Cannon = cannon(250)"
   ]
  },
  {
   "cell_type": "code",
   "execution_count": 10,
   "id": "2505a741",
   "metadata": {},
   "outputs": [
    {
     "data": {
      "text/plain": [
       "(50.0, -0.9424777960769379, 0.7853981633974483)"
      ]
     },
     "execution_count": 10,
     "metadata": {},
     "output_type": "execute_result"
    }
   ],
   "source": [
    "#cannon just interprets intensity of inputs into speed and angles\n",
    "my_Cannon.load(.2, -.3, .5)"
   ]
  },
  {
   "cell_type": "code",
   "execution_count": 11,
   "id": "eeb42a05",
   "metadata": {},
   "outputs": [],
   "source": [
    "#actor takes in three values (targetx, targety, targetz) and\n",
    "#returns three values (speed, azimuth, pitch)\n",
    "my_Actor = actor(64,2,3, 'sigmoid')"
   ]
  },
  {
   "cell_type": "code",
   "execution_count": 12,
   "id": "7f7f1be0",
   "metadata": {
    "scrolled": true
   },
   "outputs": [
    {
     "data": {
      "text/plain": [
       "<tf.Tensor: shape=(1, 3), dtype=float32, numpy=array([[1., 0., 1.]], dtype=float32)>"
      ]
     },
     "execution_count": 12,
     "metadata": {},
     "output_type": "execute_result"
    }
   ],
   "source": [
    "target_test_position = [240,403,2330]\n",
    "test_policy = my_Actor(tf.constant([target_test_position]))\n",
    "test_policy"
   ]
  },
  {
   "cell_type": "code",
   "execution_count": 72,
   "id": "aab4ae21",
   "metadata": {},
   "outputs": [],
   "source": [
    "#the critic is an actor with six inputs (three for target state,\n",
    "#three for the actor's output) and \n",
    "#returns a single value estimating the closest the projectile gets\n",
    "#to the target\n",
    "my_Critic = actor(32,2,1)"
   ]
  },
  {
   "cell_type": "code",
   "execution_count": 73,
   "id": "5cb3d02b",
   "metadata": {},
   "outputs": [
    {
     "data": {
      "text/plain": [
       "<tf.Tensor: shape=(3,), dtype=float32, numpy=array([1., 0., 1.], dtype=float32)>"
      ]
     },
     "execution_count": 73,
     "metadata": {},
     "output_type": "execute_result"
    }
   ],
   "source": [
    "test_policy[0]"
   ]
  },
  {
   "cell_type": "code",
   "execution_count": 74,
   "id": "475ed382",
   "metadata": {},
   "outputs": [
    {
     "data": {
      "text/plain": [
       "array([2.40e+02, 4.03e+02, 2.33e+03, 1.00e+00, 0.00e+00, 1.00e+00])"
      ]
     },
     "execution_count": 74,
     "metadata": {},
     "output_type": "execute_result"
    }
   ],
   "source": [
    "critic_inputs = np.concatenate([target_test_position,test_policy[0]])\n",
    "critic_inputs"
   ]
  },
  {
   "cell_type": "code",
   "execution_count": 75,
   "id": "4e8c975e",
   "metadata": {},
   "outputs": [
    {
     "data": {
      "text/plain": [
       "<tf.Tensor: shape=(1, 1), dtype=float32, numpy=array([[-2226.106]], dtype=float32)>"
      ]
     },
     "execution_count": 75,
     "metadata": {},
     "output_type": "execute_result"
    }
   ],
   "source": [
    "my_Critic(tf.constant([critic_inputs]))"
   ]
  },
  {
   "cell_type": "code",
   "execution_count": 76,
   "id": "63c9c30c",
   "metadata": {},
   "outputs": [
    {
     "data": {
      "text/plain": [
       "535.6286026716647"
      ]
     },
     "execution_count": 76,
     "metadata": {},
     "output_type": "execute_result"
    }
   ],
   "source": [
    "test_speed, test_azi, test_pitch = test_policy[0] + np.array([0.8,pi/6,0.2])\n",
    "test_speed, test_azi, test_pitch = my_Cannon.load(test_speed, test_azi, test_pitch)\n",
    "simulate_trajectory(test_speed, test_azi, test_pitch, [12,535,23])"
   ]
  },
  {
   "cell_type": "markdown",
   "id": "bc976556",
   "metadata": {},
   "source": [
    "the actor wants to minimize the distance to the target\n",
    "the critic wants to minimize the estimate of the distance\n",
    "\n",
    "- actor:\n",
    "    - get target location\n",
    "    - return policy\n",
    "    - get min distance of projectile to target as loss\n",
    "- critic:\n",
    "    - get target location, actor policy\n",
    "    - return estimate of distance\n",
    "    - get difference with real distance as loss\n",
    "    \n",
    "The data between training loops will look like:"
   ]
  },
  {
   "cell_type": "code",
   "execution_count": 77,
   "id": "2c450e27",
   "metadata": {},
   "outputs": [],
   "source": [
    "columns = ['targetx', 'targety', 'targetz', 'speed_policy', 'azi_policy', 'pitch_policy', 'min_distance']"
   ]
  },
  {
   "cell_type": "markdown",
   "id": "f43debb3",
   "metadata": {},
   "source": [
    "The target positions will always be random.\n",
    "At the beginning, the speed, azi, and pitch policies will be random. The min_distance will be calculated using simulate_trajectory() of these.\n",
    "\n",
    "The critic will be trained on this data. It is essentially an estimator of simulate_trajectory().\n",
    "The actor will feed answers to the critic, and get the critic's responses as losses. This will involve a custom training loop."
   ]
  },
  {
   "cell_type": "code",
   "execution_count": 170,
   "id": "1f081a1c",
   "metadata": {},
   "outputs": [],
   "source": [
    "def simulate_row(row, max_speed = 250, distance_only = True):\n",
    "    sp = max_speed * row['speed_policy']\n",
    "    az = np.pi * row['azi_policy']\n",
    "    pitch = np.pi * row['pitch_policy']\n",
    "    target = row[['xtarget', 'ytarget','ztarget']]\n",
    "    return simulate_trajectory(sp, az, pitch, target, distance_only = distance_only)"
   ]
  },
  {
   "cell_type": "code",
   "execution_count": 171,
   "id": "6802a565",
   "metadata": {},
   "outputs": [],
   "source": [
    "#define columns\n",
    "columns = ['xtarget', 'ytarget', 'ztarget', 'speed_policy', 'azi_policy', 'pitch_policy', 'min_distance']\n",
    "\n",
    "#make dataframe\n",
    "df = pd.DataFrame([], columns = columns)\n",
    "\n",
    "#make rng for target position\n",
    "seed = 2022\n",
    "rng = np.random.default_rng(seed)\n",
    "\n",
    "random_data_length = 1000\n",
    "#create random targets (1 cm resolution)\n",
    "df['xtarget'] = np.around(2000*rng.uniform(-1,1,random_data_length),2)\n",
    "df['ytarget'] = np.around(2000*rng.uniform(-1,1,random_data_length),2)\n",
    "df['ztarget'] = np.around(2000*rng.uniform(0,1,random_data_length),2)\n",
    "\n",
    "#create random policies\n",
    "df['speed_policy'] = rng.uniform(0,1,random_data_length)\n",
    "df['azi_policy'] = rng.uniform(-1,1,random_data_length)\n",
    "df['pitch_policy'] = rng.uniform(0,1,random_data_length)\n",
    "\n",
    "#calculate distance with each policy\n",
    "df['min_distance'] = df.apply(lambda entry: np.around(simulate_row(entry),2) , axis = 1)"
   ]
  },
  {
   "cell_type": "code",
   "execution_count": 172,
   "id": "297c3aa4",
   "metadata": {
    "scrolled": true
   },
   "outputs": [
    {
     "data": {
      "text/html": [
       "<div>\n",
       "<style scoped>\n",
       "    .dataframe tbody tr th:only-of-type {\n",
       "        vertical-align: middle;\n",
       "    }\n",
       "\n",
       "    .dataframe tbody tr th {\n",
       "        vertical-align: top;\n",
       "    }\n",
       "\n",
       "    .dataframe thead th {\n",
       "        text-align: right;\n",
       "    }\n",
       "</style>\n",
       "<table border=\"1\" class=\"dataframe\">\n",
       "  <thead>\n",
       "    <tr style=\"text-align: right;\">\n",
       "      <th></th>\n",
       "      <th>xtarget</th>\n",
       "      <th>ytarget</th>\n",
       "      <th>ztarget</th>\n",
       "      <th>speed_policy</th>\n",
       "      <th>azi_policy</th>\n",
       "      <th>pitch_policy</th>\n",
       "      <th>min_distance</th>\n",
       "    </tr>\n",
       "  </thead>\n",
       "  <tbody>\n",
       "    <tr>\n",
       "      <th>0</th>\n",
       "      <td>-1010.30</td>\n",
       "      <td>440.97</td>\n",
       "      <td>423.67</td>\n",
       "      <td>0.693005</td>\n",
       "      <td>-0.787709</td>\n",
       "      <td>0.261815</td>\n",
       "      <td>971.99</td>\n",
       "    </tr>\n",
       "    <tr>\n",
       "      <th>1</th>\n",
       "      <td>-1628.04</td>\n",
       "      <td>1581.98</td>\n",
       "      <td>334.69</td>\n",
       "      <td>0.488692</td>\n",
       "      <td>-0.703201</td>\n",
       "      <td>0.751850</td>\n",
       "      <td>2251.72</td>\n",
       "    </tr>\n",
       "    <tr>\n",
       "      <th>2</th>\n",
       "      <td>447.05</td>\n",
       "      <td>1593.62</td>\n",
       "      <td>1357.60</td>\n",
       "      <td>0.558932</td>\n",
       "      <td>0.799164</td>\n",
       "      <td>0.198552</td>\n",
       "      <td>1872.76</td>\n",
       "    </tr>\n",
       "    <tr>\n",
       "      <th>3</th>\n",
       "      <td>-1757.35</td>\n",
       "      <td>-1822.98</td>\n",
       "      <td>7.91</td>\n",
       "      <td>0.574227</td>\n",
       "      <td>0.105213</td>\n",
       "      <td>0.738062</td>\n",
       "      <td>1170.19</td>\n",
       "    </tr>\n",
       "    <tr>\n",
       "      <th>4</th>\n",
       "      <td>644.13</td>\n",
       "      <td>1929.06</td>\n",
       "      <td>35.80</td>\n",
       "      <td>0.027184</td>\n",
       "      <td>0.540124</td>\n",
       "      <td>0.004422</td>\n",
       "      <td>2033.46</td>\n",
       "    </tr>\n",
       "    <tr>\n",
       "      <th>...</th>\n",
       "      <td>...</td>\n",
       "      <td>...</td>\n",
       "      <td>...</td>\n",
       "      <td>...</td>\n",
       "      <td>...</td>\n",
       "      <td>...</td>\n",
       "      <td>...</td>\n",
       "    </tr>\n",
       "    <tr>\n",
       "      <th>995</th>\n",
       "      <td>-1207.65</td>\n",
       "      <td>-169.48</td>\n",
       "      <td>167.40</td>\n",
       "      <td>0.260878</td>\n",
       "      <td>-0.031868</td>\n",
       "      <td>0.037650</td>\n",
       "      <td>1230.92</td>\n",
       "    </tr>\n",
       "    <tr>\n",
       "      <th>996</th>\n",
       "      <td>-999.92</td>\n",
       "      <td>-1575.44</td>\n",
       "      <td>1948.73</td>\n",
       "      <td>0.743194</td>\n",
       "      <td>0.820957</td>\n",
       "      <td>0.479307</td>\n",
       "      <td>1891.95</td>\n",
       "    </tr>\n",
       "    <tr>\n",
       "      <th>997</th>\n",
       "      <td>328.13</td>\n",
       "      <td>-1151.63</td>\n",
       "      <td>1452.09</td>\n",
       "      <td>0.335817</td>\n",
       "      <td>-0.724218</td>\n",
       "      <td>0.327324</td>\n",
       "      <td>1588.79</td>\n",
       "    </tr>\n",
       "    <tr>\n",
       "      <th>998</th>\n",
       "      <td>-1370.34</td>\n",
       "      <td>516.24</td>\n",
       "      <td>824.78</td>\n",
       "      <td>0.887975</td>\n",
       "      <td>-0.608419</td>\n",
       "      <td>0.511137</td>\n",
       "      <td>1464.07</td>\n",
       "    </tr>\n",
       "    <tr>\n",
       "      <th>999</th>\n",
       "      <td>1652.28</td>\n",
       "      <td>-1416.65</td>\n",
       "      <td>243.29</td>\n",
       "      <td>0.899039</td>\n",
       "      <td>-0.531477</td>\n",
       "      <td>0.174626</td>\n",
       "      <td>1808.42</td>\n",
       "    </tr>\n",
       "  </tbody>\n",
       "</table>\n",
       "<p>1000 rows × 7 columns</p>\n",
       "</div>"
      ],
      "text/plain": [
       "     xtarget  ytarget  ztarget  speed_policy  azi_policy  pitch_policy  \\\n",
       "0   -1010.30   440.97   423.67      0.693005   -0.787709      0.261815   \n",
       "1   -1628.04  1581.98   334.69      0.488692   -0.703201      0.751850   \n",
       "2     447.05  1593.62  1357.60      0.558932    0.799164      0.198552   \n",
       "3   -1757.35 -1822.98     7.91      0.574227    0.105213      0.738062   \n",
       "4     644.13  1929.06    35.80      0.027184    0.540124      0.004422   \n",
       "..       ...      ...      ...           ...         ...           ...   \n",
       "995 -1207.65  -169.48   167.40      0.260878   -0.031868      0.037650   \n",
       "996  -999.92 -1575.44  1948.73      0.743194    0.820957      0.479307   \n",
       "997   328.13 -1151.63  1452.09      0.335817   -0.724218      0.327324   \n",
       "998 -1370.34   516.24   824.78      0.887975   -0.608419      0.511137   \n",
       "999  1652.28 -1416.65   243.29      0.899039   -0.531477      0.174626   \n",
       "\n",
       "     min_distance  \n",
       "0          971.99  \n",
       "1         2251.72  \n",
       "2         1872.76  \n",
       "3         1170.19  \n",
       "4         2033.46  \n",
       "..            ...  \n",
       "995       1230.92  \n",
       "996       1891.95  \n",
       "997       1588.79  \n",
       "998       1464.07  \n",
       "999       1808.42  \n",
       "\n",
       "[1000 rows x 7 columns]"
      ]
     },
     "execution_count": 172,
     "metadata": {},
     "output_type": "execute_result"
    }
   ],
   "source": [
    "df"
   ]
  },
  {
   "cell_type": "code",
   "execution_count": 180,
   "id": "584f9d5d",
   "metadata": {},
   "outputs": [
    {
     "name": "stdout",
     "output_type": "stream",
     "text": [
      "Epoch 0: loss 3072.6840434884707\n",
      "Epoch 50: loss 629.5495047901136\n",
      "Epoch 100: loss 615.8558850438428\n",
      "Epoch 150: loss 612.9480995810633\n",
      "Epoch 200: loss 611.5692956843152\n"
     ]
    }
   ],
   "source": [
    "# get first critic preds and losses\n",
    "\n",
    "my_Critic = actor(32,2,1)\n",
    "\n",
    "x = df.drop(columns=['min_distance'])\n",
    "y = df['min_distance']\n",
    "\n",
    "\n",
    "\n",
    "num_epochs = 250\n",
    "epoch_update_period = 50\n",
    "loss_fn = tf.losses.mean_absolute_error\n",
    "optimizer = tf.optimizers.Adam(learning_rate=0.01)\n",
    "\n",
    "losses = []\n",
    "\n",
    "\n",
    "for epoch in range(num_epochs):\n",
    "    with tf.GradientTape() as tape:\n",
    "        preds = my_Critic(x.to_numpy())\n",
    "        loss = tf.reduce_mean(loss_fn(preds,y))\n",
    "        grads = tape.gradient(loss, my_Critic.trainable_variables)\n",
    "    optimizer.apply_gradients(zip(grads, my_Critic.trainable_variables));\n",
    "    losses.append(loss)\n",
    "    if epoch%epoch_update_period == 0:\n",
    "        print(f'Epoch {epoch}: loss {loss}')\n",
    "\n"
   ]
  },
  {
   "cell_type": "code",
   "execution_count": 181,
   "id": "319b59dc",
   "metadata": {},
   "outputs": [
    {
     "data": {
      "text/plain": [
       "Text(0, 0.5, 'distance (m)')"
      ]
     },
     "execution_count": 181,
     "metadata": {},
     "output_type": "execute_result"
    },
    {
     "data": {
      "image/png": "[encoded data removed]",
      "text/plain": [
       "<Figure size 432x288 with 1 Axes>"
      ]
     },
     "metadata": {},
     "output_type": "display_data"
    }
   ],
   "source": [
    "plt.plot(losses, label = 'loss')\n",
    "plt.xlabel('epoch')\n",
    "plt.ylabel('distance (m)')"
   ]
  },
  {
   "cell_type": "code",
   "execution_count": 182,
   "id": "60b81381",
   "metadata": {},
   "outputs": [
    {
     "data": {
      "text/plain": [
       "451.5401"
      ]
     },
     "execution_count": 182,
     "metadata": {},
     "output_type": "execute_result"
    }
   ],
   "source": [
    "np.sqrt(np.mean((tf.reshape(preds,(1000)) - y)**2))"
   ]
  },
  {
   "cell_type": "code",
   "execution_count": 183,
   "id": "a54a5b54",
   "metadata": {},
   "outputs": [
    {
     "data": {
      "text/plain": [
       "<matplotlib.collections.PathCollection at 0x1f8bbc6d520>"
      ]
     },
     "execution_count": 183,
     "metadata": {},
     "output_type": "execute_result"
    },
    {
     "data": {
      "image/png": "[encoded data removed]",
      "text/plain": [
       "<Figure size 432x288 with 1 Axes>"
      ]
     },
     "metadata": {},
     "output_type": "display_data"
    }
   ],
   "source": [
    "test_sim = simulate_row(df.loc[row_to_test], distance_only=False)\n",
    "plt.plot(test_sim[:,1], test_sim[:,2])\n",
    "plt.scatter([df.loc[row_to_test]['ytarget']], [df.loc[row_to_test]['ztarget']])"
   ]
  },
  {
   "cell_type": "code",
   "execution_count": null,
   "id": "b7292d62",
   "metadata": {},
   "outputs": [],
   "source": []
  }
 ],
 "metadata": {
  "kernelspec": {
   "display_name": "Python 3 (ipykernel)",
   "language": "python",
   "name": "python3"
  },
  "language_info": {
   "codemirror_mode": {
    "name": "ipython",
    "version": 3
   },
   "file_extension": ".py",
   "mimetype": "text/x-python",
   "name": "python",
   "nbconvert_exporter": "python",
   "pygments_lexer": "ipython3",
   "version": "3.9.7"
  }
 },
 "nbformat": 4,
 "nbformat_minor": 5
}
