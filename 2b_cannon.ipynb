{
 "cells": [
  {
   "cell_type": "markdown",
   "id": "bc2de99e",
   "metadata": {},
   "source": [
    "Just do it with keras\n",
    "---"
   ]
  },
  {
   "cell_type": "code",
   "execution_count": 1,
   "id": "a419be8c",
   "metadata": {},
   "outputs": [],
   "source": [
    "import tensorflow as tf\n",
    "import keras\n",
    "import pandas as pd\n",
    "import numpy as np\n",
    "import matplotlib.pyplot as plt\n",
    "%matplotlib inline\n",
    "plt.style.use('dark_background')\n",
    "\n",
    "pi = np.pi"
   ]
  },
  {
   "cell_type": "code",
   "execution_count": 4,
   "id": "3167348f",
   "metadata": {},
   "outputs": [],
   "source": [
    "def simulate_trajectory(speed, azi, pitch, target, origin = np.array([0.,0.,0.]), timestep = 0.1, g = -10., distance = True):\n",
    "    #get cartesian velocity from spherical coordinates\n",
    "    velocity = speed*np.array([\n",
    "        np.cos(azi)*np.cos(pitch),\n",
    "        np.sin(azi)*np.cos(pitch),\n",
    "        np.sin(pitch)\n",
    "    ])\n",
    "    acc = np.array([0.,0., g])\n",
    "    history = [origin, origin+ velocity*timestep + (1/2)*acc*timestep**2]\n",
    "    position = history[-1]\n",
    "    distances = [np.linalg.norm(target - origin), np.linalg.norm(target - position)]\n",
    "    distances = [np.linalg.norm(target - origin), np.linalg.norm(target - position)]\n",
    "    #while the ball is above the ground, timestep to change position\n",
    "    while position[2] >= 0:\n",
    "#         print(history[-1])\n",
    "        position = 2*history[-1] - history[-2] + acc*(timestep**2)\n",
    "        distances.append(np.linalg.norm(target - position))\n",
    "        history.append(position)\n",
    "    if distance:\n",
    "        return np.array(distances).min()\n",
    "    else:\n",
    "        return history"
   ]
  },
  {
   "cell_type": "code",
   "execution_count": 5,
   "id": "12d61f07",
   "metadata": {},
   "outputs": [
    {
     "data": {
      "text/plain": [
       "224.17769293802763"
      ]
     },
     "execution_count": 5,
     "metadata": {},
     "output_type": "execute_result"
    }
   ],
   "source": [
    "simulate_trajectory(1000,pi/23,pi/3,[200,200,100])"
   ]
  },
  {
   "cell_type": "markdown",
   "id": "3b051b23",
   "metadata": {},
   "source": [
    "for an actor-critic model, we need a model that estimates the loss given the state and policy output (critic) as well as a model producing the policy (actor)."
   ]
  },
  {
   "cell_type": "code",
   "execution_count": 94,
   "id": "e303612c",
   "metadata": {},
   "outputs": [],
   "source": [
    "class actor(keras.Model):\n",
    "    def __init__(self, units, num_layers, num_outputs, output_activation = None):\n",
    "        super().__init__()\n",
    "        self.layer_list = []\n",
    "        for layer in range(num_layers):\n",
    "            self.layer_list.append(\n",
    "                keras.layers.Dense(units = units,\n",
    "                                  activation = 'relu',\n",
    "                                  kernel_initializer = keras.initializers.he_normal,\n",
    "                                  bias_initializer = keras.initializers.he_normal\n",
    "                                  )\n",
    "            )\n",
    "        self.layer_list.append(\n",
    "            keras.layers.Dense(num_outputs, activation = output_activation)\n",
    "        )\n",
    "        \n",
    "    def call(self, x, training = True):\n",
    "        x = x[:, tf.newaxis]\n",
    "        for layer in self.layer_list:\n",
    "            x = layer(x)\n",
    "        return tf.squeeze(x, axis = 1)\n",
    "\n",
    "class cannon:\n",
    "    def __init__(self, max_speed, azimuth_limit = pi, pitch_limit = pi/2.):\n",
    "        self.max_speed = max_speed\n",
    "        self.azimuth_limit = azimuth_limit\n",
    "        self.pitch_limit = pitch_limit\n",
    "        \n",
    "    def load(self, speed_frac, azi_frac, pitch_frac):\n",
    "        return speed_frac*self.max_speed, azi_frac*self.azimuth_limit, pitch_frac*self.pitch_limit\n",
    "        "
   ]
  },
  {
   "cell_type": "code",
   "execution_count": 95,
   "id": "772de74c",
   "metadata": {},
   "outputs": [],
   "source": [
    "my_Cannon = cannon(250)"
   ]
  },
  {
   "cell_type": "code",
   "execution_count": 98,
   "id": "2505a741",
   "metadata": {},
   "outputs": [
    {
     "data": {
      "text/plain": [
       "(50.0, -0.9424777960769379, 0.7853981633974483)"
      ]
     },
     "execution_count": 98,
     "metadata": {},
     "output_type": "execute_result"
    }
   ],
   "source": [
    "#cannon just interprets intensity of inputs into speed and angles\n",
    "my_Cannon.load(.2, -.3, .5)"
   ]
  },
  {
   "cell_type": "code",
   "execution_count": 72,
   "id": "eeb42a05",
   "metadata": {},
   "outputs": [],
   "source": [
    "#actor takes in three values (targetx, targety, targetz) and\n",
    "#returns three values (speed, azimuth, pitch)\n",
    "my_Actor = actor(64,2,3, 'sigmoid')"
   ]
  },
  {
   "cell_type": "code",
   "execution_count": 75,
   "id": "7f7f1be0",
   "metadata": {
    "scrolled": true
   },
   "outputs": [
    {
     "data": {
      "text/plain": [
       "<tf.Tensor: shape=(1, 3), dtype=float32, numpy=array([[0., 0., 0.]], dtype=float32)>"
      ]
     },
     "execution_count": 75,
     "metadata": {},
     "output_type": "execute_result"
    }
   ],
   "source": [
    "target_test_position = [240,403,2330]\n",
    "test_policy = my_Actor(tf.constant([target_test_position]))\n",
    "test_policy"
   ]
  },
  {
   "cell_type": "code",
   "execution_count": 76,
   "id": "aab4ae21",
   "metadata": {},
   "outputs": [],
   "source": [
    "#the critic is an actor with six inputs (three for target state,\n",
    "#three for the actor's output) and \n",
    "#returns a single value estimating the closest the projectile gets\n",
    "#to the target\n",
    "my_Critic = actor(64,2,1)"
   ]
  },
  {
   "cell_type": "code",
   "execution_count": 77,
   "id": "5cb3d02b",
   "metadata": {},
   "outputs": [
    {
     "data": {
      "text/plain": [
       "<tf.Tensor: shape=(3,), dtype=float32, numpy=array([0., 0., 0.], dtype=float32)>"
      ]
     },
     "execution_count": 77,
     "metadata": {},
     "output_type": "execute_result"
    }
   ],
   "source": [
    "test_policy[0]"
   ]
  },
  {
   "cell_type": "code",
   "execution_count": 78,
   "id": "475ed382",
   "metadata": {},
   "outputs": [
    {
     "data": {
      "text/plain": [
       "array([ 240.,  403., 2330.,    0.,    0.,    0.])"
      ]
     },
     "execution_count": 78,
     "metadata": {},
     "output_type": "execute_result"
    }
   ],
   "source": [
    "critic_inputs = np.concatenate([target_test_position,test_policy[0]])\n",
    "critic_inputs"
   ]
  },
  {
   "cell_type": "code",
   "execution_count": 79,
   "id": "4e8c975e",
   "metadata": {},
   "outputs": [
    {
     "data": {
      "text/plain": [
       "<tf.Tensor: shape=(1, 1), dtype=float32, numpy=array([[1237.3301]], dtype=float32)>"
      ]
     },
     "execution_count": 79,
     "metadata": {},
     "output_type": "execute_result"
    }
   ],
   "source": [
    "my_Critic(tf.constant([critic_inputs]))"
   ]
  },
  {
   "cell_type": "code",
   "execution_count": 113,
   "id": "63c9c30c",
   "metadata": {},
   "outputs": [
    {
     "data": {
      "text/plain": [
       "120.68407440185547"
      ]
     },
     "execution_count": 113,
     "metadata": {},
     "output_type": "execute_result"
    }
   ],
   "source": [
    "test_speed, test_azi, test_pitch = test_policy[0] + np.array([0.8,pi/6,0.2])\n",
    "test_speed, test_azi, test_pitch = my_Cannon.load(test_speed, test_azi, test_pitch)\n",
    "simulate_trajectory(test_speed, test_azi, test_pitch, [12,535,23])"
   ]
  },
  {
   "cell_type": "code",
   "execution_count": null,
   "id": "10f778fe",
   "metadata": {},
   "outputs": [],
   "source": []
  }
 ],
 "metadata": {
  "kernelspec": {
   "display_name": "Python 3 (ipykernel)",
   "language": "python",
   "name": "python3"
  },
  "language_info": {
   "codemirror_mode": {
    "name": "ipython",
    "version": 3
   },
   "file_extension": ".py",
   "mimetype": "text/x-python",
   "name": "python",
   "nbconvert_exporter": "python",
   "pygments_lexer": "ipython3",
   "version": "3.9.7"
  }
 },
 "nbformat": 4,
 "nbformat_minor": 5
}
