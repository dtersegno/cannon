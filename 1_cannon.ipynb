{
 "cells": [
  {
   "cell_type": "markdown",
   "id": "d97cdabc",
   "metadata": {},
   "source": [
    "cannon\n",
    "---"
   ]
  },
  {
   "cell_type": "code",
   "execution_count": 133,
   "id": "b950d84c",
   "metadata": {},
   "outputs": [],
   "source": [
    "import pandas as pd\n",
    "import numpy as np\n",
    "import matplotlib.pyplot as plt\n",
    "plt.style.use('dark_background')\n",
    "import tensorflow as tf\n",
    "import keras"
   ]
  },
  {
   "cell_type": "code",
   "execution_count": 2,
   "id": "fb2bca8f",
   "metadata": {},
   "outputs": [],
   "source": [
    "# a spherical target gets a position somewhere in 3d. The cannon at (0,0,0) fires a shell at a given speed,\\\n",
    "# rotation, and angle."
   ]
  },
  {
   "cell_type": "code",
   "execution_count": 185,
   "id": "20cca874",
   "metadata": {},
   "outputs": [],
   "source": [
    "pi = np.pi\n",
    "\n",
    "#simulates a ballistic trajectory and returns the smallest distance to the target position\n",
    "def simulate_trajectory_distance(speed, azi, pitch, target, origin = np.array([0.,0.,0.]), timestep = 0.1, g = -10.):\n",
    "    #get cartesian velocity from spherical coordinates\n",
    "    velocity = speed*np.array([\n",
    "        np.cos(azi)*np.cos(pitch),\n",
    "        np.sin(azi)*np.cos(pitch),\n",
    "        np.sin(pitch)\n",
    "    ])\n",
    "#     print(f'Starting velocity {velocity}.')\n",
    "    #make acceleration vector\n",
    "    acc = np.array([0.,0., g])\n",
    "    #record origin and first position after 1 timestep\n",
    "    history = [origin, origin+ velocity*timestep + (1/2)*acc*timestep**2]\n",
    "    position = history[-1]\n",
    "#     print(history)\n",
    "    #record distances\n",
    "    distances = [np.linalg.norm(target - origin), np.linalg.norm(target - position)]\n",
    "    #while the ball is above the ground, timestep to change position\n",
    "    while position[2] >= 0:\n",
    "#         print(history[-1])\n",
    "        position = 2*history[-1] - history[-2] + acc*(timestep**2)\n",
    "        distances.append(np.linalg.norm(target - position))\n",
    "        history.append(position)\n",
    "    return np.array(distances).min(), np.array(history)\n",
    "    "
   ]
  },
  {
   "cell_type": "code",
   "execution_count": 186,
   "id": "ad13933a",
   "metadata": {
    "scrolled": false
   },
   "outputs": [],
   "source": [
    "distance, history = simulate_trajectory_distance(100, 0, pi/3, np.array([100,200,300]))"
   ]
  },
  {
   "cell_type": "code",
   "execution_count": 187,
   "id": "24ca95d6",
   "metadata": {
    "scrolled": false
   },
   "outputs": [
    {
     "data": {
      "image/png": "[encoded data removed]",
      "text/plain": [
       "<Figure size 432x288 with 1 Axes>"
      ]
     },
     "metadata": {},
     "output_type": "display_data"
    },
    {
     "data": {
      "image/png": "[encoded data removed]",
      "text/plain": [
       "<Figure size 432x288 with 1 Axes>"
      ]
     },
     "metadata": {},
     "output_type": "display_data"
    }
   ],
   "source": [
    "plt.scatter(history[:,1],history[:,2])\n",
    "plt.show()\n",
    "plt.scatter(history[:,0],history[:,2])\n",
    "plt.scatter([[100]],[[300]])\n",
    "plt.show()"
   ]
  },
  {
   "cell_type": "code",
   "execution_count": 249,
   "id": "1c1105d2",
   "metadata": {
    "scrolled": true
   },
   "outputs": [
    {
     "ename": "ValueError",
     "evalue": "No gradients provided for any variable: (['dense_86/kernel:0', 'dense_86/bias:0', 'dense_87/kernel:0', 'dense_87/bias:0'],). Provided `grads_and_vars` is ((None, <tf.Variable 'dense_86/kernel:0' shape=(3, 32) dtype=float32, numpy=\narray([[-0.21733852,  0.2541562 ,  0.17779991,  0.22525188,  0.40890196,\n         0.05859524,  0.18464962,  0.35895804,  0.2853019 , -0.2548804 ,\n         0.28599587, -0.17051381,  0.04978982, -0.00213066,  0.04482257,\n        -0.30218378, -0.00358889, -0.11789927,  0.3059071 ,  0.04675886,\n        -0.1368508 ,  0.40501276,  0.32640037, -0.37838566,  0.35627893,\n        -0.20254543,  0.06897709, -0.37711364,  0.01299351, -0.04002395,\n        -0.0473398 , -0.32531372],\n       [ 0.4048212 ,  0.22514084, -0.2284219 , -0.39909947, -0.25559735,\n         0.07832092, -0.4031594 , -0.21953551, -0.23610348, -0.33186817,\n        -0.15193748, -0.17786449,  0.1039634 , -0.32341167,  0.08672175,\n         0.40290263, -0.28246188,  0.16680321,  0.35083845,  0.14492497,\n        -0.12159899,  0.06081891, -0.1130513 , -0.24821903, -0.20604555,\n         0.2148734 ,  0.2390438 ,  0.38206556, -0.13626239, -0.20678315,\n        -0.05148008, -0.26111007],\n       [ 0.39813444,  0.18156311, -0.06606796, -0.12591302, -0.29698545,\n        -0.12778753,  0.07725963, -0.17501006, -0.4031289 ,  0.10402009,\n         0.4059461 ,  0.2571285 , -0.369912  ,  0.40697363, -0.02346972,\n        -0.33045408, -0.3528234 ,  0.17690274,  0.27959767, -0.39001495,\n        -0.32946306, -0.1842922 ,  0.15374753,  0.32048753,  0.01800516,\n        -0.01193875,  0.03431293, -0.02511221,  0.20337066,  0.12528798,\n         0.36924598, -0.33230546]], dtype=float32)>), (None, <tf.Variable 'dense_86/bias:0' shape=(32,) dtype=float32, numpy=\narray([0., 0., 0., 0., 0., 0., 0., 0., 0., 0., 0., 0., 0., 0., 0., 0., 0.,\n       0., 0., 0., 0., 0., 0., 0., 0., 0., 0., 0., 0., 0., 0., 0.],\n      dtype=float32)>), (None, <tf.Variable 'dense_87/kernel:0' shape=(32, 3) dtype=float32, numpy=\narray([[-0.19759212, -0.30364525, -0.0273267 ],\n       [-0.3966775 , -0.318519  ,  0.30712405],\n       [-0.18232165,  0.34636095, -0.30602813],\n       [-0.29644084, -0.16040373,  0.2908145 ],\n       [-0.24874489, -0.2808916 ,  0.12058935],\n       [ 0.18837121,  0.18436083,  0.3621563 ],\n       [ 0.12460336,  0.24734548,  0.38942733],\n       [-0.2776055 , -0.0233559 ,  0.05900058],\n       [-0.1433425 , -0.2470918 ,  0.18549195],\n       [ 0.40037075, -0.31239915,  0.35859093],\n       [-0.3956722 , -0.04054606, -0.2543211 ],\n       [-0.29392588,  0.01444542,  0.15603164],\n       [-0.07901102,  0.37789318, -0.19146362],\n       [-0.28275   , -0.25518996,  0.32341185],\n       [ 0.3008062 ,  0.13017651, -0.02003029],\n       [-0.24036193, -0.10832959,  0.09496942],\n       [-0.10629308, -0.1557765 ,  0.01987493],\n       [ 0.36326447,  0.03238177, -0.12495244],\n       [ 0.17133728, -0.11556655,  0.33808312],\n       [ 0.10278204, -0.22673339, -0.37095207],\n       [ 0.21516523, -0.01251879,  0.08764592],\n       [ 0.04212293,  0.12633947,  0.11440608],\n       [-0.14020455,  0.37512758, -0.09271589],\n       [-0.0669786 , -0.05558693,  0.04935527],\n       [-0.36460146, -0.37923393,  0.19654182],\n       [-0.01366913, -0.04405418,  0.15991697],\n       [-0.1569964 ,  0.00629464, -0.33618733],\n       [ 0.06981811,  0.39196357,  0.18468043],\n       [-0.3307767 , -0.4097959 , -0.16378659],\n       [-0.39012304,  0.10090032, -0.34553522],\n       [-0.05350977,  0.26424715,  0.15668479],\n       [-0.07886177,  0.1830003 , -0.08306277]], dtype=float32)>), (None, <tf.Variable 'dense_87/bias:0' shape=(3,) dtype=float32, numpy=array([0., 0., 0.], dtype=float32)>)).",
     "output_type": "error",
     "traceback": [
      "\u001b[1;31m---------------------------------------------------------------------------\u001b[0m",
      "\u001b[1;31mValueError\u001b[0m                                Traceback (most recent call last)",
      "\u001b[1;32m~\\AppData\\Local\\Temp/ipykernel_15468/2433982259.py\u001b[0m in \u001b[0;36m<module>\u001b[1;34m\u001b[0m\n\u001b[0;32m     59\u001b[0m         \u001b[0mtotal_loss\u001b[0m \u001b[1;33m=\u001b[0m \u001b[0mtf\u001b[0m\u001b[1;33m.\u001b[0m\u001b[0mconvert_to_tensor\u001b[0m\u001b[1;33m(\u001b[0m\u001b[0msum\u001b[0m\u001b[1;33m(\u001b[0m\u001b[0mloss_history\u001b[0m\u001b[1;33m)\u001b[0m\u001b[1;33m)\u001b[0m\u001b[1;33m\u001b[0m\u001b[1;33m\u001b[0m\u001b[0m\n\u001b[0;32m     60\u001b[0m         \u001b[0mgrads\u001b[0m \u001b[1;33m=\u001b[0m \u001b[0mtape\u001b[0m\u001b[1;33m.\u001b[0m\u001b[0mgradient\u001b[0m\u001b[1;33m(\u001b[0m\u001b[0mtotal_loss\u001b[0m\u001b[1;33m,\u001b[0m \u001b[0mmodel\u001b[0m\u001b[1;33m.\u001b[0m\u001b[0mtrainable_variables\u001b[0m \u001b[1;33m)\u001b[0m\u001b[1;33m\u001b[0m\u001b[1;33m\u001b[0m\u001b[0m\n\u001b[1;32m---> 61\u001b[1;33m         \u001b[0moptimizer\u001b[0m\u001b[1;33m.\u001b[0m\u001b[0mapply_gradients\u001b[0m\u001b[1;33m(\u001b[0m\u001b[0mzip\u001b[0m\u001b[1;33m(\u001b[0m\u001b[0mgrads\u001b[0m\u001b[1;33m,\u001b[0m \u001b[0mmodel\u001b[0m\u001b[1;33m.\u001b[0m\u001b[0mtrainable_variables\u001b[0m\u001b[1;33m)\u001b[0m\u001b[1;33m)\u001b[0m\u001b[1;33m\u001b[0m\u001b[1;33m\u001b[0m\u001b[0m\n\u001b[0m\u001b[0;32m     62\u001b[0m \u001b[1;33m\u001b[0m\u001b[0m\n\u001b[0;32m     63\u001b[0m         \u001b[0mall_scores\u001b[0m\u001b[1;33m.\u001b[0m\u001b[0mappend\u001b[0m\u001b[1;33m(\u001b[0m\u001b[0mtotal_loss\u001b[0m\u001b[1;33m)\u001b[0m\u001b[1;33m\u001b[0m\u001b[1;33m\u001b[0m\u001b[0m\n",
      "\u001b[1;32mC:\\ProgramData\\Anaconda3\\lib\\site-packages\\keras\\optimizers\\optimizer_v2\\optimizer_v2.py\u001b[0m in \u001b[0;36mapply_gradients\u001b[1;34m(self, grads_and_vars, name, experimental_aggregate_gradients)\u001b[0m\n\u001b[0;32m    638\u001b[0m       \u001b[0mRuntimeError\u001b[0m\u001b[1;33m:\u001b[0m \u001b[0mIf\u001b[0m \u001b[0mcalled\u001b[0m \u001b[1;32min\u001b[0m \u001b[0ma\u001b[0m \u001b[0mcross\u001b[0m\u001b[1;33m-\u001b[0m\u001b[0mreplica\u001b[0m \u001b[0mcontext\u001b[0m\u001b[1;33m.\u001b[0m\u001b[1;33m\u001b[0m\u001b[1;33m\u001b[0m\u001b[0m\n\u001b[0;32m    639\u001b[0m     \"\"\"\n\u001b[1;32m--> 640\u001b[1;33m     \u001b[0mgrads_and_vars\u001b[0m \u001b[1;33m=\u001b[0m \u001b[0moptimizer_utils\u001b[0m\u001b[1;33m.\u001b[0m\u001b[0mfilter_empty_gradients\u001b[0m\u001b[1;33m(\u001b[0m\u001b[0mgrads_and_vars\u001b[0m\u001b[1;33m)\u001b[0m\u001b[1;33m\u001b[0m\u001b[1;33m\u001b[0m\u001b[0m\n\u001b[0m\u001b[0;32m    641\u001b[0m     \u001b[0mvar_list\u001b[0m \u001b[1;33m=\u001b[0m \u001b[1;33m[\u001b[0m\u001b[0mv\u001b[0m \u001b[1;32mfor\u001b[0m \u001b[1;33m(\u001b[0m\u001b[0m_\u001b[0m\u001b[1;33m,\u001b[0m \u001b[0mv\u001b[0m\u001b[1;33m)\u001b[0m \u001b[1;32min\u001b[0m \u001b[0mgrads_and_vars\u001b[0m\u001b[1;33m]\u001b[0m\u001b[1;33m\u001b[0m\u001b[1;33m\u001b[0m\u001b[0m\n\u001b[0;32m    642\u001b[0m \u001b[1;33m\u001b[0m\u001b[0m\n",
      "\u001b[1;32mC:\\ProgramData\\Anaconda3\\lib\\site-packages\\keras\\optimizers\\optimizer_v2\\utils.py\u001b[0m in \u001b[0;36mfilter_empty_gradients\u001b[1;34m(grads_and_vars)\u001b[0m\n\u001b[0;32m     71\u001b[0m   \u001b[1;32mif\u001b[0m \u001b[1;32mnot\u001b[0m \u001b[0mfiltered\u001b[0m\u001b[1;33m:\u001b[0m\u001b[1;33m\u001b[0m\u001b[1;33m\u001b[0m\u001b[0m\n\u001b[0;32m     72\u001b[0m     \u001b[0mvariable\u001b[0m \u001b[1;33m=\u001b[0m \u001b[1;33m(\u001b[0m\u001b[1;33m[\u001b[0m\u001b[0mv\u001b[0m\u001b[1;33m.\u001b[0m\u001b[0mname\u001b[0m \u001b[1;32mfor\u001b[0m \u001b[0m_\u001b[0m\u001b[1;33m,\u001b[0m \u001b[0mv\u001b[0m \u001b[1;32min\u001b[0m \u001b[0mgrads_and_vars\u001b[0m\u001b[1;33m]\u001b[0m\u001b[1;33m,\u001b[0m\u001b[1;33m)\u001b[0m\u001b[1;33m\u001b[0m\u001b[1;33m\u001b[0m\u001b[0m\n\u001b[1;32m---> 73\u001b[1;33m     raise ValueError(f\"No gradients provided for any variable: {variable}. \"\n\u001b[0m\u001b[0;32m     74\u001b[0m                      f\"Provided `grads_and_vars` is {grads_and_vars}.\")\n\u001b[0;32m     75\u001b[0m   \u001b[1;32mif\u001b[0m \u001b[0mvars_with_empty_grads\u001b[0m\u001b[1;33m:\u001b[0m\u001b[1;33m\u001b[0m\u001b[1;33m\u001b[0m\u001b[0m\n",
      "\u001b[1;31mValueError\u001b[0m: No gradients provided for any variable: (['dense_86/kernel:0', 'dense_86/bias:0', 'dense_87/kernel:0', 'dense_87/bias:0'],). Provided `grads_and_vars` is ((None, <tf.Variable 'dense_86/kernel:0' shape=(3, 32) dtype=float32, numpy=\narray([[-0.21733852,  0.2541562 ,  0.17779991,  0.22525188,  0.40890196,\n         0.05859524,  0.18464962,  0.35895804,  0.2853019 , -0.2548804 ,\n         0.28599587, -0.17051381,  0.04978982, -0.00213066,  0.04482257,\n        -0.30218378, -0.00358889, -0.11789927,  0.3059071 ,  0.04675886,\n        -0.1368508 ,  0.40501276,  0.32640037, -0.37838566,  0.35627893,\n        -0.20254543,  0.06897709, -0.37711364,  0.01299351, -0.04002395,\n        -0.0473398 , -0.32531372],\n       [ 0.4048212 ,  0.22514084, -0.2284219 , -0.39909947, -0.25559735,\n         0.07832092, -0.4031594 , -0.21953551, -0.23610348, -0.33186817,\n        -0.15193748, -0.17786449,  0.1039634 , -0.32341167,  0.08672175,\n         0.40290263, -0.28246188,  0.16680321,  0.35083845,  0.14492497,\n        -0.12159899,  0.06081891, -0.1130513 , -0.24821903, -0.20604555,\n         0.2148734 ,  0.2390438 ,  0.38206556, -0.13626239, -0.20678315,\n        -0.05148008, -0.26111007],\n       [ 0.39813444,  0.18156311, -0.06606796, -0.12591302, -0.29698545,\n        -0.12778753,  0.07725963, -0.17501006, -0.4031289 ,  0.10402009,\n         0.4059461 ,  0.2571285 , -0.369912  ,  0.40697363, -0.02346972,\n        -0.33045408, -0.3528234 ,  0.17690274,  0.27959767, -0.39001495,\n        -0.32946306, -0.1842922 ,  0.15374753,  0.32048753,  0.01800516,\n        -0.01193875,  0.03431293, -0.02511221,  0.20337066,  0.12528798,\n         0.36924598, -0.33230546]], dtype=float32)>), (None, <tf.Variable 'dense_86/bias:0' shape=(32,) dtype=float32, numpy=\narray([0., 0., 0., 0., 0., 0., 0., 0., 0., 0., 0., 0., 0., 0., 0., 0., 0.,\n       0., 0., 0., 0., 0., 0., 0., 0., 0., 0., 0., 0., 0., 0., 0.],\n      dtype=float32)>), (None, <tf.Variable 'dense_87/kernel:0' shape=(32, 3) dtype=float32, numpy=\narray([[-0.19759212, -0.30364525, -0.0273267 ],\n       [-0.3966775 , -0.318519  ,  0.30712405],\n       [-0.18232165,  0.34636095, -0.30602813],\n       [-0.29644084, -0.16040373,  0.2908145 ],\n       [-0.24874489, -0.2808916 ,  0.12058935],\n       [ 0.18837121,  0.18436083,  0.3621563 ],\n       [ 0.12460336,  0.24734548,  0.38942733],\n       [-0.2776055 , -0.0233559 ,  0.05900058],\n       [-0.1433425 , -0.2470918 ,  0.18549195],\n       [ 0.40037075, -0.31239915,  0.35859093],\n       [-0.3956722 , -0.04054606, -0.2543211 ],\n       [-0.29392588,  0.01444542,  0.15603164],\n       [-0.07901102,  0.37789318, -0.19146362],\n       [-0.28275   , -0.25518996,  0.32341185],\n       [ 0.3008062 ,  0.13017651, -0.02003029],\n       [-0.24036193, -0.10832959,  0.09496942],\n       [-0.10629308, -0.1557765 ,  0.01987493],\n       [ 0.36326447,  0.03238177, -0.12495244],\n       [ 0.17133728, -0.11556655,  0.33808312],\n       [ 0.10278204, -0.22673339, -0.37095207],\n       [ 0.21516523, -0.01251879,  0.08764592],\n       [ 0.04212293,  0.12633947,  0.11440608],\n       [-0.14020455,  0.37512758, -0.09271589],\n       [-0.0669786 , -0.05558693,  0.04935527],\n       [-0.36460146, -0.37923393,  0.19654182],\n       [-0.01366913, -0.04405418,  0.15991697],\n       [-0.1569964 ,  0.00629464, -0.33618733],\n       [ 0.06981811,  0.39196357,  0.18468043],\n       [-0.3307767 , -0.4097959 , -0.16378659],\n       [-0.39012304,  0.10090032, -0.34553522],\n       [-0.05350977,  0.26424715,  0.15668479],\n       [-0.07886177,  0.1830003 , -0.08306277]], dtype=float32)>), (None, <tf.Variable 'dense_87/bias:0' shape=(3,) dtype=float32, numpy=array([0., 0., 0.], dtype=float32)>))."
     ]
    }
   ],
   "source": [
    "# %%time\n",
    "\n",
    "seed = 2022\n",
    "rng = np.random.default_rng(seed)\n",
    "\n",
    "eps = np.finfo(np.float32).eps.item()\n",
    "\n",
    "gamma = 0.99\n",
    "rounds_per_load = 100\n",
    "minimum_acceptable_score = 500\n",
    "scores_to_average = 10\n",
    "max_speed = 100 #m/s\n",
    "field_size = 2000 #m\n",
    "\n",
    "hit_distance = 10 #10 cm radius of target\n",
    "miss_penalty = 500 #add this number of meters to distance as a penalty for missing.\n",
    "\n",
    "num_inputs = 3 #targetx,y,z\n",
    "num_outputs = 3 #speed*max_speed, azimuth/(2pi), pitch/(pi)\n",
    "num_hidden = 32\n",
    "\n",
    "#make model\n",
    "inputs = keras.layers.Input(shape = (num_inputs,))\n",
    "dense_1 = keras.layers.Dense(num_hidden, activation = 'relu')(inputs)\n",
    "outputs = keras.layers.Dense(num_outputs, activation = 'softmax')(dense_1)\n",
    "model = keras.Model(inputs = inputs, outputs = outputs)\n",
    "\n",
    "#make optimizer\n",
    "optimizer = keras.optimizers.Adam(learning_rate = 0.01)\n",
    "\n",
    "avg_recent_score = 0\n",
    "all_scores = [0]\n",
    "#train until performance is good enough\n",
    "while avg_recent_score < minimum_acceptable_score:\n",
    "    with tf.GradientTape() as tape:\n",
    "        command_history = []\n",
    "        loss_history = []\n",
    "        #reload the cannon and shoot all the shots\n",
    "        for shot in range(rounds_per_load):\n",
    "            #place a random target in the block, and make sure it's above the ground.\n",
    "            target = field_size*rng.random(3) - field_size/2\n",
    "            target[2] = abs(target[2])\n",
    "            target = tf.convert_to_tensor(target)\n",
    "            target = tf.expand_dims(target, 0)\n",
    "            \n",
    "            command = model(target)\n",
    "            speed, azi, pitch = command[0]\n",
    "#             command_history.append([speed, azi, pitch])\n",
    "            speed = float(speed*max_speed)\n",
    "            azi = azi*float(2*pi)\n",
    "            pitch =  pitch*float(pi)\n",
    "            \n",
    "            loss, _ = simulate_trajectory_distance(speed, azi, pitch, target)\n",
    "            if distance < hit_distance:\n",
    "                loss += miss_penalty\n",
    "            loss_history.append(loss)\n",
    "            \n",
    "            \n",
    "        total_loss = tf.convert_to_tensor(sum(loss_history))\n",
    "        grads = tape.gradient(total_loss, model.trainable_variables )\n",
    "        optimizer.apply_gradients(zip(grads, model.trainable_variables))\n",
    "        \n",
    "        all_scores.append(total_loss)\n",
    "#         command_history.clear()\n",
    "        loss_history.clear()\n",
    "        \n",
    "        avg_recent_score = np.mean(all_scores[-scores_to_average:])"
   ]
  },
  {
   "cell_type": "code",
   "execution_count": 244,
   "id": "bdd3e9d9",
   "metadata": {},
   "outputs": [
    {
     "data": {
      "text/plain": [
       "numpy.float64"
      ]
     },
     "execution_count": 244,
     "metadata": {},
     "output_type": "execute_result"
    }
   ],
   "source": [
    "type(total_loss)"
   ]
  },
  {
   "cell_type": "code",
   "execution_count": 182,
   "id": "0db62dea",
   "metadata": {
    "scrolled": true
   },
   "outputs": [],
   "source": [
    "speed, azi, pitch = command[0]"
   ]
  },
  {
   "cell_type": "code",
   "execution_count": 242,
   "id": "da1fef7d",
   "metadata": {},
   "outputs": [
    {
     "data": {
      "text/plain": [
       "<tf.Tensor: shape=(), dtype=float32, numpy=95235.98>"
      ]
     },
     "execution_count": 242,
     "metadata": {},
     "output_type": "execute_result"
    }
   ],
   "source": [
    "total_loss"
   ]
  },
  {
   "cell_type": "code",
   "execution_count": 234,
   "id": "cea4eedd",
   "metadata": {
    "scrolled": true
   },
   "outputs": [
    {
     "data": {
      "text/plain": [
       "[983.75146226268,\n",
       " 1065.9363398303403,\n",
       " 1212.510358480098,\n",
       " 1439.4009814129497,\n",
       " 635.48597456252,\n",
       " 1267.6018317368687,\n",
       " 1403.5409452379367,\n",
       " 1283.7666638192338,\n",
       " 1066.2258794515692,\n",
       " 1357.0035795830463,\n",
       " 1154.9631787021635,\n",
       " 1092.469264517021,\n",
       " 1354.1521991539105,\n",
       " 605.0271897423004,\n",
       " 920.7112263008795,\n",
       " 1075.9242523689443,\n",
       " 926.5667688220723,\n",
       " 643.8224353162451,\n",
       " 886.386076371366,\n",
       " 530.0600294700126,\n",
       " 911.3295409470063,\n",
       " 817.0571804996558,\n",
       " 837.2949449581835,\n",
       " 1200.1008524135343,\n",
       " 847.5867385148208,\n",
       " 582.663757987239,\n",
       " 1261.2371710910652,\n",
       " 1470.7814493520455,\n",
       " 403.7198826918457,\n",
       " 880.5269288243502,\n",
       " 1046.263820855672,\n",
       " 997.7586406063555,\n",
       " 547.9875428350715,\n",
       " 1066.561013584888,\n",
       " 634.4180967495117,\n",
       " 843.7595846342756,\n",
       " 937.9964579392506,\n",
       " 1205.8835829260604,\n",
       " 1219.4467892136463,\n",
       " 1166.8052749189821,\n",
       " 424.42383720251183,\n",
       " 1140.5674041797145,\n",
       " 1235.9172944449176,\n",
       " 1128.8288705117186,\n",
       " 884.7910778720774,\n",
       " 1369.8383763934326,\n",
       " 858.9113990929427,\n",
       " 1029.5272696653492,\n",
       " 1019.5576212424015,\n",
       " 811.1577046408839,\n",
       " 1076.5700527750346,\n",
       " 1344.5636259389396,\n",
       " 689.9906544248278,\n",
       " 1211.155021693158,\n",
       " 689.5139899601612,\n",
       " 1014.755881723072,\n",
       " 579.2798338544734,\n",
       " 605.850556894368,\n",
       " 518.9941779422414,\n",
       " 1295.7605724462896,\n",
       " 1037.0568751368496,\n",
       " 1080.758520554101,\n",
       " 1139.8076189359147,\n",
       " 784.2417076709197,\n",
       " 246.44417967939577,\n",
       " 828.8452398853907,\n",
       " 800.8653464011295,\n",
       " 984.9903371723916,\n",
       " 501.24416118285734,\n",
       " 1021.6668513436953,\n",
       " 435.109302557867,\n",
       " 555.2702115602515,\n",
       " 1314.2032716356775,\n",
       " 1044.6473249459116,\n",
       " 1320.0801928434237,\n",
       " 1116.3709900151375,\n",
       " 985.0467366903118,\n",
       " 732.6081808654651,\n",
       " 856.5192454218777,\n",
       " 1010.6563608720082,\n",
       " 1013.2353218845672,\n",
       " 818.0508527138243,\n",
       " 953.4846158225916,\n",
       " 1169.257120548645,\n",
       " 1247.1407376084262,\n",
       " 1464.00044787589,\n",
       " 581.7024753332786,\n",
       " 893.851652030315,\n",
       " 763.9392145588131,\n",
       " 753.6344424161662,\n",
       " 954.8259996963501,\n",
       " 514.5760647153265,\n",
       " 816.4740396921226,\n",
       " 746.5110028095316,\n",
       " 1194.3807866204322,\n",
       " 1126.1702573934015,\n",
       " 1147.8898769946372,\n",
       " 420.7180951499781,\n",
       " 515.6808156215843,\n",
       " 1350.4937368915823]"
      ]
     },
     "execution_count": 234,
     "metadata": {},
     "output_type": "execute_result"
    }
   ],
   "source": [
    "loss_history"
   ]
  },
  {
   "cell_type": "code",
   "execution_count": 179,
   "id": "521198d7",
   "metadata": {
    "scrolled": true
   },
   "outputs": [
    {
     "data": {
      "text/plain": [
       "(0.0,\n",
       " array([[ 0.  ,  0.  ,  0.  ],\n",
       "        [ 0.1 ,  0.  , -0.05]]))"
      ]
     },
     "execution_count": 179,
     "metadata": {},
     "output_type": "execute_result"
    }
   ],
   "source": [
    "simulate_trajectory_distance(speed, azi, pitch, [0,0,0])"
   ]
  },
  {
   "cell_type": "code",
   "execution_count": 206,
   "id": "034ced4a",
   "metadata": {},
   "outputs": [
    {
     "data": {
      "text/plain": [
       "<tf.Tensor: shape=(), dtype=float32, numpy=100.0>"
      ]
     },
     "execution_count": 206,
     "metadata": {},
     "output_type": "execute_result"
    }
   ],
   "source": [
    "speed"
   ]
  },
  {
   "cell_type": "code",
   "execution_count": 231,
   "id": "7c166e72",
   "metadata": {},
   "outputs": [],
   "source": [
    "with tf.GradientTape() as ya:\n",
    "    hey = ya.gradient(tf.convert_to_tensor([234234.]), model.trainable_variables)"
   ]
  },
  {
   "cell_type": "code",
   "execution_count": 232,
   "id": "5bf31058",
   "metadata": {},
   "outputs": [
    {
     "data": {
      "text/plain": [
       "[None, None, None, None]"
      ]
     },
     "execution_count": 232,
     "metadata": {},
     "output_type": "execute_result"
    }
   ],
   "source": [
    "hey"
   ]
  },
  {
   "cell_type": "code",
   "execution_count": null,
   "id": "4eec1cc3",
   "metadata": {},
   "outputs": [],
   "source": []
  }
 ],
 "metadata": {
  "kernelspec": {
   "display_name": "Python 3 (ipykernel)",
   "language": "python",
   "name": "python3"
  },
  "language_info": {
   "codemirror_mode": {
    "name": "ipython",
    "version": 3
   },
   "file_extension": ".py",
   "mimetype": "text/x-python",
   "name": "python",
   "nbconvert_exporter": "python",
   "pygments_lexer": "ipython3",
   "version": "3.9.7"
  }
 },
 "nbformat": 4,
 "nbformat_minor": 5
}
