{
 "cells": [
  {
   "cell_type": "markdown",
   "id": "d2b596ea",
   "metadata": {},
   "source": [
    "Launch Trajectory\n",
    "---"
   ]
  },
  {
   "cell_type": "code",
   "execution_count": 1,
   "id": "fbe6d83f",
   "metadata": {},
   "outputs": [],
   "source": [
    "import tensorflow as tf\n",
    "import keras\n",
    "import numpy as np\n",
    "import matplotlib.pyplot as plt"
   ]
  },
  {
   "cell_type": "markdown",
   "id": "9980971c",
   "metadata": {},
   "source": [
    "The game will have a current state. Rocket location (2), direction (1), velocity (2), air density (1), fuel remaining (1). 7 total state parameters.\n",
    "\n",
    "The rocket wants to minimize vertical speed at the end, approach a certain horizontal speed, maximize leftover fuel."
   ]
  },
  {
   "cell_type": "code",
   "execution_count": 2,
   "id": "03263aac",
   "metadata": {},
   "outputs": [],
   "source": [
    "target_velocity = [30000., 0.] #m/s\n",
    "target_altitude = 500000. #m\n",
    "isp = 500. #s\n",
    "g = 9.81 #m/s"
   ]
  },
  {
   "cell_type": "markdown",
   "id": "9e71866f",
   "metadata": {},
   "source": [
    "What do I want to get done today?\n",
    "\n",
    "Make a policy model that tells whether to fire, torque l, or torque r at any time."
   ]
  },
  {
   "cell_type": "code",
   "execution_count": 521,
   "id": "d815d482",
   "metadata": {},
   "outputs": [],
   "source": [
    "#create a rocket ready to launch.\n",
    "class rocket:\n",
    "    def __init__(self,\n",
    "                 g = 9.81,\n",
    "                 dry_mass = 10.,\n",
    "                 fuel_mass = 120.,\n",
    "                 isp = 500.,\n",
    "                 torque_strength = 1,\n",
    "                 time_step = 0.1,\n",
    "                 drag_coef = 0.1,\n",
    "                 length = 4,\n",
    "                 max_fuel_rate = 1 # per second\n",
    "                ):\n",
    "        #keep track of flight time\n",
    "        self.stopwatch = 0.\n",
    "        self.time_step = time_step\n",
    "        self.position = np.array([0.,0.])\n",
    "        \n",
    "        #current velocity and pointing direction (not necessarily parallel)\n",
    "        self.velocity =  np.array([0.,0.])\n",
    "        self.heading = np.array([0.,1.])\n",
    "        \n",
    "        #angular velocity\n",
    "        self.spin = 0.\n",
    "        \n",
    "        #drag\n",
    "        self.drag_coef = drag_coef\n",
    "        self.area = 1.\n",
    "        #the rocket is 4x longer than it is wide, with this ratio being the perpendicular drag to head-on drag.\n",
    "        self.length = length\n",
    "        \n",
    "        #fuel, mass, and efficiency\n",
    "        self.fuel_rate = max_fuel_rate\n",
    "        self.fuel_mass = fuel_mass\n",
    "        self.dry_mass = dry_mass\n",
    "        self.isp = isp\n",
    "        self.torque_strength = torque_strength\n",
    "        \n",
    "        #gravity\n",
    "        self.g = np.array([0., -g])\n",
    "        \n",
    "        #keep track of trajectory history\n",
    "        self.position_history = [\n",
    "            self.position\n",
    "        ]\n",
    "        self.velocity_history = [\n",
    "            self.velocity\n",
    "        ]\n",
    "        self.heading_history = [\n",
    "            self.heading\n",
    "        ]\n",
    "    \n",
    "    #calculate drag area due to not flying directly forward\n",
    "    def drag_area(self):\n",
    "        speed = np.linalg.norm(self.velocity)\n",
    "        dot = np.dot(self.velocity, self.heading)\n",
    "        if speed > 0. and dot != 0.:\n",
    "            heading_velocity_angle = np.arccos(np.clip(dot/(1.*speed), 0, 1)) #heading is always length 1\n",
    "            this_area = self.area*(1. + np.sin(heading_velocity_angle))\n",
    "            return this_area\n",
    "        else:\n",
    "            return self.area\n",
    "        \n",
    "    #adds speed in heading direction and removes fuel\n",
    "    def fire(self):\n",
    "        fuel_chunk = self.fuel_rate*self.time_step\n",
    "        fuel_velocity = self.isp*np.linalg.norm(self.g)\n",
    "        if fuel_chunk >= self.fuel_mass:\n",
    "            fuel_chunk = self.fuel_mass\n",
    "        #remove fuel to fire\n",
    "        self.fuel_mass -= fuel_chunk\n",
    "        # change in speed is fuel spent this time step times fuel speed over remaining rocket mass\n",
    "        dv = fuel_chunk * fuel_velocity / (self.fuel_mass + self.dry_mass)\n",
    "        # add new speed to the velocity in the direction of heading\n",
    "        self.velocity = self.velocity + self.heading * dv\n",
    "    \n",
    "    #adds rot. velocity and removes fuel\n",
    "    def torque(self, clockwise = False):\n",
    "        fuel_chunk = self.fuel_rate*self.time_step\n",
    "        if fuel_chunk >= self.fuel_mass:\n",
    "            fuel_chunk = self.fuel_mass\n",
    "        torque_direction = 1\n",
    "        if clockwise:\n",
    "            torque_direction = -1\n",
    "        self.spin += self.torque_strength * fuel_chunk * self.time_step * torque_direction\n",
    "        self.fuel_mass -= fuel_chunk\n",
    "        \n",
    "    def is_crashed(self):\n",
    "        if self.position[1] < 0:\n",
    "            return True\n",
    "        else:\n",
    "            return False\n",
    "    \n",
    "    def advance(self):\n",
    "        #advance stopwatch\n",
    "        self.stopwatch = self.stopwatch + self.time_step\n",
    "        \n",
    "        #evolve rocket position in direction of velocity\n",
    "        self.position = self.position + self.velocity*self.time_step\n",
    "        self.position_history.append(self.position)\n",
    "        \n",
    "        #evolve rocket heading according to spin\n",
    "        rotation_angle = self.spin * self.time_step\n",
    "        rotation_matrix = np.array(\n",
    "            [\n",
    "                [np.cos(rotation_angle),np.sin(rotation_angle)],\n",
    "                [-np.sin(rotation_angle),np.cos(rotation_angle)]\n",
    "            ]\n",
    "        )\n",
    "        self.heading = self.heading/np.linalg.norm(np.matmul(rotation_matrix , self.heading))\n",
    "        self.heading_history.append(self.heading)\n",
    "        \n",
    "        #evolve rocket velocity in direction of drag + gravity\n",
    "        drag = 0.5 * self.drag_coef * self.drag_area() * np.linalg.norm(self.velocity) * self.velocity\n",
    "        self.velocity = self.velocity + self.time_step * (self.g - drag/(self.dry_mass+self.fuel_mass))\n",
    "        self.velocity_history.append(self.velocity)\n",
    "        \n",
    "    def plot_trajectory(self):\n",
    "        x = np.array(self.position_history)[:,0]\n",
    "        y = np.array(self.position_history)[:,1]\n",
    "        plt.scatter(x,y)\n",
    "        plt.show()"
   ]
  },
  {
   "cell_type": "code",
   "execution_count": 522,
   "id": "1f7c3129",
   "metadata": {
    "scrolled": true
   },
   "outputs": [
    {
     "data": {
      "image/png": "[encoded data removed]",
      "text/plain": [
       "<Figure size 432x288 with 1 Axes>"
      ]
     },
     "metadata": {
      "needs_background": "light"
     },
     "output_type": "display_data"
    }
   ],
   "source": [
    "rkt = rocket(time_step=0.01)\n",
    "rkt.velocity = np.array([1000.,100.])\n",
    "for step in range(200):\n",
    "    rkt.advance()\n",
    "    if rkt.is_crashed():\n",
    "        break\n",
    "rkt.plot_trajectory()"
   ]
  },
  {
   "cell_type": "code",
   "execution_count": 506,
   "id": "e1fe6288",
   "metadata": {},
   "outputs": [],
   "source": [
    "rkt = rocket(time_step=0.01)"
   ]
  },
  {
   "cell_type": "code",
   "execution_count": 507,
   "id": "5fad1792",
   "metadata": {},
   "outputs": [
    {
     "data": {
      "text/plain": [
       "(array([0., 1.]), array([0., 0.]))"
      ]
     },
     "execution_count": 507,
     "metadata": {},
     "output_type": "execute_result"
    }
   ],
   "source": [
    "rkt.heading, rkt.velocity"
   ]
  },
  {
   "cell_type": "code",
   "execution_count": 508,
   "id": "833bb2e4",
   "metadata": {},
   "outputs": [
    {
     "data": {
      "text/plain": [
       "(array([0., 1.]), array([0.        , 0.27923617]))"
      ]
     },
     "execution_count": 508,
     "metadata": {},
     "output_type": "execute_result"
    }
   ],
   "source": [
    "rkt.fire()\n",
    "rkt.advance()\n",
    "rkt.heading, rkt.velocity"
   ]
  },
  {
   "cell_type": "code",
   "execution_count": 509,
   "id": "ac7db9ff",
   "metadata": {},
   "outputs": [
    {
     "data": {
      "text/plain": [
       "0.01"
      ]
     },
     "execution_count": 509,
     "metadata": {},
     "output_type": "execute_result"
    }
   ],
   "source": [
    "rkt.stopwatch"
   ]
  },
  {
   "cell_type": "code",
   "execution_count": 510,
   "id": "dc25fe21",
   "metadata": {},
   "outputs": [],
   "source": [
    "initializer = keras.initializers.he_normal\n",
    "\n",
    "#make a policy model\n",
    "class pilot(keras.models.Sequential):\n",
    "    def __init__(self, num_layers, layer_size):\n",
    "        super().__init__()\n",
    "        for layer in range(num_layers):\n",
    "            self.add(\n",
    "                keras.layers.Dense(\n",
    "                                    layer_size,\n",
    "                                    bias_initializer=initializer,\n",
    "                                    kernel_initializer=initializer,\n",
    "                                    activation = 'relu'\n",
    "                                   )\n",
    "                    )\n",
    "        output = keras.layers.Dense(3, activation = 'softmax')\n",
    "        self.add(output)\n",
    "        \n",
    "    def call(self, x, training = True):\n",
    "        for layer in self.layers:\n",
    "            x = layer(x, training = training)\n",
    "        return tf.squeeze(x)"
   ]
  },
  {
   "cell_type": "code",
   "execution_count": 511,
   "id": "58ba3816",
   "metadata": {
    "scrolled": true
   },
   "outputs": [],
   "source": [
    "target_velocity = tf.constant([27400., 0.], dtype = 'float32') #m/s\n",
    "target_altitude = tf.constant(200000., dtype = 'float32') #m"
   ]
  },
  {
   "cell_type": "markdown",
   "id": "ac053b63",
   "metadata": {},
   "source": [
    "Attempt at gradient descent. \n",
    "---\n",
    "\n",
    "I am having trouble figuring out how it tracks variables to perform the gradient calculation."
   ]
  },
  {
   "cell_type": "code",
   "execution_count": 289,
   "id": "db532f32",
   "metadata": {
    "scrolled": false
   },
   "outputs": [
    {
     "ename": "ValueError",
     "evalue": "No gradients provided for any variable: (['dense_579/kernel:0', 'dense_579/bias:0', 'dense_580/kernel:0', 'dense_580/bias:0', 'dense_581/kernel:0', 'dense_581/bias:0'],). Provided `grads_and_vars` is ((None, <tf.Variable 'dense_579/kernel:0' shape=(6, 8) dtype=float32, numpy=\narray([[ 0.4349669 , -0.15769735, -0.53152204,  0.62347513, -0.23621993,\n        -0.37176245,  0.80117434, -1.1494744 ],\n       [ 0.9479287 ,  0.24949442,  0.74867594,  0.31008676,  0.3826203 ,\n        -0.12911877,  0.5513093 , -0.97001296],\n       [-0.4715622 , -0.6357792 , -0.9691056 , -0.56582534,  0.45655093,\n         0.69411105, -0.06838392,  1.0979421 ],\n       [ 0.8292087 ,  0.05240438, -1.1567737 ,  0.6566499 , -0.09572027,\n        -0.41941994,  0.9796081 ,  0.4624979 ],\n       [ 1.1143063 ,  0.6230853 , -0.09383065, -1.0850912 ,  0.7612391 ,\n         0.35137594, -0.49600297, -0.55574334],\n       [ 0.7094954 , -0.8043795 , -0.705852  , -0.92822784, -1.0471447 ,\n        -0.9183437 , -0.6838695 , -0.3683543 ]], dtype=float32)>), (None, <tf.Variable 'dense_579/bias:0' shape=(8,) dtype=float32, numpy=\narray([ 0.47009933,  0.00846285,  1.0052902 , -0.14984603, -0.31124443,\n        0.6559606 , -0.43837893, -0.601039  ], dtype=float32)>), (None, <tf.Variable 'dense_580/kernel:0' shape=(8, 8) dtype=float32, numpy=\narray([[-0.42383546, -0.01349779, -0.05899413, -0.867805  , -0.81325984,\n        -0.25187087, -0.31763867, -0.02261465],\n       [-0.6865925 ,  0.5646537 , -0.10485242,  0.04388597, -0.48709673,\n        -0.79942733, -0.4916474 , -0.06970227],\n       [ 0.29310212,  0.07730658,  0.14215682,  1.01978   , -0.4237121 ,\n         0.4713198 , -0.65652907, -0.26133248],\n       [-0.40686193,  0.8400694 , -0.2797682 ,  0.4803206 , -0.5993695 ,\n         0.01790223,  0.09619126, -0.42854252],\n       [ 0.38052154,  0.03895736, -0.02036583,  0.92752683, -0.52966464,\n        -0.77261305, -0.64830077,  0.28099164],\n       [ 0.70054144, -0.8655246 , -0.12379222, -0.5011972 , -0.38212758,\n        -0.8306342 , -0.43141317,  0.16931055],\n       [-0.5598879 ,  0.83985543,  0.40820548, -0.21750258, -0.2871137 ,\n        -0.75933045,  0.4230097 ,  0.596828  ],\n       [-0.5569084 ,  0.70164233,  0.46899593, -0.58070403,  0.6347276 ,\n         0.15740846, -0.15349819, -0.53707397]], dtype=float32)>), (None, <tf.Variable 'dense_580/bias:0' shape=(8,) dtype=float32, numpy=\narray([-0.27471372,  0.36757746, -0.19209675, -0.15136048, -0.23302346,\n       -0.3980784 ,  0.09476714, -0.50710195], dtype=float32)>), (None, <tf.Variable 'dense_581/kernel:0' shape=(8, 3) dtype=float32, numpy=\narray([[-0.4828575 ,  0.00663644, -0.73166865],\n       [-0.40012136, -0.42569628, -0.01536751],\n       [ 0.4290368 , -0.03905433,  0.68477684],\n       [-0.4002233 ,  0.0984509 , -0.17079866],\n       [-0.00512666,  0.25663632, -0.58730173],\n       [-0.63217264, -0.6208935 ,  0.37030596],\n       [ 0.42374355, -0.49141797, -0.02151269],\n       [ 0.28683203,  0.43995243,  0.1516046 ]], dtype=float32)>), (None, <tf.Variable 'dense_581/bias:0' shape=(3,) dtype=float32, numpy=array([0., 0., 0.], dtype=float32)>)).",
     "output_type": "error",
     "traceback": [
      "\u001b[1;31m---------------------------------------------------------------------------\u001b[0m",
      "\u001b[1;31mValueError\u001b[0m                                Traceback (most recent call last)",
      "\u001b[1;32m~\\AppData\\Local\\Temp/ipykernel_6292/450524999.py\u001b[0m in \u001b[0;36m<module>\u001b[1;34m\u001b[0m\n\u001b[0;32m     35\u001b[0m         \u001b[0mloss\u001b[0m \u001b[1;33m=\u001b[0m \u001b[0mloss_fn\u001b[0m\u001b[1;33m(\u001b[0m\u001b[1;33m[\u001b[0m\u001b[0mrkt\u001b[0m\u001b[1;33m.\u001b[0m\u001b[0mposition\u001b[0m\u001b[1;33m[\u001b[0m\u001b[1;36m1\u001b[0m\u001b[1;33m]\u001b[0m\u001b[1;33m]\u001b[0m\u001b[1;33m,\u001b[0m \u001b[1;33m[\u001b[0m\u001b[0mtarget_altitude\u001b[0m\u001b[1;33m]\u001b[0m\u001b[1;33m)\u001b[0m\u001b[1;33m\u001b[0m\u001b[1;33m\u001b[0m\u001b[0m\n\u001b[0;32m     36\u001b[0m         \u001b[0mgrads\u001b[0m \u001b[1;33m=\u001b[0m \u001b[0mtape\u001b[0m\u001b[1;33m.\u001b[0m\u001b[0mgradient\u001b[0m\u001b[1;33m(\u001b[0m\u001b[0mloss\u001b[0m\u001b[1;33m,\u001b[0m \u001b[0mpil\u001b[0m\u001b[1;33m.\u001b[0m\u001b[0mtrainable_variables\u001b[0m\u001b[1;33m)\u001b[0m\u001b[1;33m\u001b[0m\u001b[1;33m\u001b[0m\u001b[0m\n\u001b[1;32m---> 37\u001b[1;33m         \u001b[0moptimizer\u001b[0m\u001b[1;33m.\u001b[0m\u001b[0mapply_gradients\u001b[0m\u001b[1;33m(\u001b[0m\u001b[0mzip\u001b[0m\u001b[1;33m(\u001b[0m\u001b[0mgrads\u001b[0m\u001b[1;33m,\u001b[0m \u001b[0mpil\u001b[0m\u001b[1;33m.\u001b[0m\u001b[0mtrainable_variables\u001b[0m \u001b[1;33m)\u001b[0m\u001b[1;33m)\u001b[0m\u001b[1;33m\u001b[0m\u001b[1;33m\u001b[0m\u001b[0m\n\u001b[0m\u001b[0;32m     38\u001b[0m \u001b[1;33m\u001b[0m\u001b[0m\n",
      "\u001b[1;32mC:\\ProgramData\\Anaconda3\\lib\\site-packages\\keras\\optimizer_v2\\optimizer_v2.py\u001b[0m in \u001b[0;36mapply_gradients\u001b[1;34m(self, grads_and_vars, name, experimental_aggregate_gradients)\u001b[0m\n\u001b[0;32m    631\u001b[0m       \u001b[0mRuntimeError\u001b[0m\u001b[1;33m:\u001b[0m \u001b[0mIf\u001b[0m \u001b[0mcalled\u001b[0m \u001b[1;32min\u001b[0m \u001b[0ma\u001b[0m \u001b[0mcross\u001b[0m\u001b[1;33m-\u001b[0m\u001b[0mreplica\u001b[0m \u001b[0mcontext\u001b[0m\u001b[1;33m.\u001b[0m\u001b[1;33m\u001b[0m\u001b[1;33m\u001b[0m\u001b[0m\n\u001b[0;32m    632\u001b[0m     \"\"\"\n\u001b[1;32m--> 633\u001b[1;33m     \u001b[0mgrads_and_vars\u001b[0m \u001b[1;33m=\u001b[0m \u001b[0moptimizer_utils\u001b[0m\u001b[1;33m.\u001b[0m\u001b[0mfilter_empty_gradients\u001b[0m\u001b[1;33m(\u001b[0m\u001b[0mgrads_and_vars\u001b[0m\u001b[1;33m)\u001b[0m\u001b[1;33m\u001b[0m\u001b[1;33m\u001b[0m\u001b[0m\n\u001b[0m\u001b[0;32m    634\u001b[0m     \u001b[0mvar_list\u001b[0m \u001b[1;33m=\u001b[0m \u001b[1;33m[\u001b[0m\u001b[0mv\u001b[0m \u001b[1;32mfor\u001b[0m \u001b[1;33m(\u001b[0m\u001b[0m_\u001b[0m\u001b[1;33m,\u001b[0m \u001b[0mv\u001b[0m\u001b[1;33m)\u001b[0m \u001b[1;32min\u001b[0m \u001b[0mgrads_and_vars\u001b[0m\u001b[1;33m]\u001b[0m\u001b[1;33m\u001b[0m\u001b[1;33m\u001b[0m\u001b[0m\n\u001b[0;32m    635\u001b[0m \u001b[1;33m\u001b[0m\u001b[0m\n",
      "\u001b[1;32mC:\\ProgramData\\Anaconda3\\lib\\site-packages\\keras\\optimizer_v2\\utils.py\u001b[0m in \u001b[0;36mfilter_empty_gradients\u001b[1;34m(grads_and_vars)\u001b[0m\n\u001b[0;32m     71\u001b[0m   \u001b[1;32mif\u001b[0m \u001b[1;32mnot\u001b[0m \u001b[0mfiltered\u001b[0m\u001b[1;33m:\u001b[0m\u001b[1;33m\u001b[0m\u001b[1;33m\u001b[0m\u001b[0m\n\u001b[0;32m     72\u001b[0m     \u001b[0mvariable\u001b[0m \u001b[1;33m=\u001b[0m \u001b[1;33m(\u001b[0m\u001b[1;33m[\u001b[0m\u001b[0mv\u001b[0m\u001b[1;33m.\u001b[0m\u001b[0mname\u001b[0m \u001b[1;32mfor\u001b[0m \u001b[0m_\u001b[0m\u001b[1;33m,\u001b[0m \u001b[0mv\u001b[0m \u001b[1;32min\u001b[0m \u001b[0mgrads_and_vars\u001b[0m\u001b[1;33m]\u001b[0m\u001b[1;33m,\u001b[0m\u001b[1;33m)\u001b[0m\u001b[1;33m\u001b[0m\u001b[1;33m\u001b[0m\u001b[0m\n\u001b[1;32m---> 73\u001b[1;33m     raise ValueError(f\"No gradients provided for any variable: {variable}. \"\n\u001b[0m\u001b[0;32m     74\u001b[0m                      f\"Provided `grads_and_vars` is {grads_and_vars}.\")\n\u001b[0;32m     75\u001b[0m   \u001b[1;32mif\u001b[0m \u001b[0mvars_with_empty_grads\u001b[0m\u001b[1;33m:\u001b[0m\u001b[1;33m\u001b[0m\u001b[1;33m\u001b[0m\u001b[0m\n",
      "\u001b[1;31mValueError\u001b[0m: No gradients provided for any variable: (['dense_579/kernel:0', 'dense_579/bias:0', 'dense_580/kernel:0', 'dense_580/bias:0', 'dense_581/kernel:0', 'dense_581/bias:0'],). Provided `grads_and_vars` is ((None, <tf.Variable 'dense_579/kernel:0' shape=(6, 8) dtype=float32, numpy=\narray([[ 0.4349669 , -0.15769735, -0.53152204,  0.62347513, -0.23621993,\n        -0.37176245,  0.80117434, -1.1494744 ],\n       [ 0.9479287 ,  0.24949442,  0.74867594,  0.31008676,  0.3826203 ,\n        -0.12911877,  0.5513093 , -0.97001296],\n       [-0.4715622 , -0.6357792 , -0.9691056 , -0.56582534,  0.45655093,\n         0.69411105, -0.06838392,  1.0979421 ],\n       [ 0.8292087 ,  0.05240438, -1.1567737 ,  0.6566499 , -0.09572027,\n        -0.41941994,  0.9796081 ,  0.4624979 ],\n       [ 1.1143063 ,  0.6230853 , -0.09383065, -1.0850912 ,  0.7612391 ,\n         0.35137594, -0.49600297, -0.55574334],\n       [ 0.7094954 , -0.8043795 , -0.705852  , -0.92822784, -1.0471447 ,\n        -0.9183437 , -0.6838695 , -0.3683543 ]], dtype=float32)>), (None, <tf.Variable 'dense_579/bias:0' shape=(8,) dtype=float32, numpy=\narray([ 0.47009933,  0.00846285,  1.0052902 , -0.14984603, -0.31124443,\n        0.6559606 , -0.43837893, -0.601039  ], dtype=float32)>), (None, <tf.Variable 'dense_580/kernel:0' shape=(8, 8) dtype=float32, numpy=\narray([[-0.42383546, -0.01349779, -0.05899413, -0.867805  , -0.81325984,\n        -0.25187087, -0.31763867, -0.02261465],\n       [-0.6865925 ,  0.5646537 , -0.10485242,  0.04388597, -0.48709673,\n        -0.79942733, -0.4916474 , -0.06970227],\n       [ 0.29310212,  0.07730658,  0.14215682,  1.01978   , -0.4237121 ,\n         0.4713198 , -0.65652907, -0.26133248],\n       [-0.40686193,  0.8400694 , -0.2797682 ,  0.4803206 , -0.5993695 ,\n         0.01790223,  0.09619126, -0.42854252],\n       [ 0.38052154,  0.03895736, -0.02036583,  0.92752683, -0.52966464,\n        -0.77261305, -0.64830077,  0.28099164],\n       [ 0.70054144, -0.8655246 , -0.12379222, -0.5011972 , -0.38212758,\n        -0.8306342 , -0.43141317,  0.16931055],\n       [-0.5598879 ,  0.83985543,  0.40820548, -0.21750258, -0.2871137 ,\n        -0.75933045,  0.4230097 ,  0.596828  ],\n       [-0.5569084 ,  0.70164233,  0.46899593, -0.58070403,  0.6347276 ,\n         0.15740846, -0.15349819, -0.53707397]], dtype=float32)>), (None, <tf.Variable 'dense_580/bias:0' shape=(8,) dtype=float32, numpy=\narray([-0.27471372,  0.36757746, -0.19209675, -0.15136048, -0.23302346,\n       -0.3980784 ,  0.09476714, -0.50710195], dtype=float32)>), (None, <tf.Variable 'dense_581/kernel:0' shape=(8, 3) dtype=float32, numpy=\narray([[-0.4828575 ,  0.00663644, -0.73166865],\n       [-0.40012136, -0.42569628, -0.01536751],\n       [ 0.4290368 , -0.03905433,  0.68477684],\n       [-0.4002233 ,  0.0984509 , -0.17079866],\n       [-0.00512666,  0.25663632, -0.58730173],\n       [-0.63217264, -0.6208935 ,  0.37030596],\n       [ 0.42374355, -0.49141797, -0.02151269],\n       [ 0.28683203,  0.43995243,  0.1516046 ]], dtype=float32)>), (None, <tf.Variable 'dense_581/bias:0' shape=(3,) dtype=float32, numpy=array([0., 0., 0.], dtype=float32)>))."
     ]
    }
   ],
   "source": [
    "trials = 10\n",
    "\n",
    "pil = pilot(2,8)\n",
    "f_threshhold = 0.5\n",
    "torque_threshhold = 0.5\n",
    "\n",
    "loss_fn = tf.losses.Huber()\n",
    "optimizer = tf.optimizers.Adam(learning_rate = 0.001)\n",
    "\n",
    "time_steps = 100\n",
    "\n",
    "#do a number of launches\n",
    "for trial in range(trials):\n",
    "    with tf.GradientTape() as tape:\n",
    "        rkt = rocket()\n",
    "        while not rkt.is_crashed():\n",
    "            inputs = tf.convert_to_tensor([\n",
    "                rkt.position[0],\n",
    "                rkt.position[1],\n",
    "                rkt.velocity[0],\n",
    "                rkt.velocity[1],\n",
    "                rkt.heading[0],\n",
    "                rkt.heading[1]\n",
    "            ])\n",
    "            inputs = tf.expand_dims(inputs, 0)\n",
    "            to_fire, to_torque_l, to_torque_r = pil.call(inputs)\n",
    "            if to_fire >= f_threshhold:\n",
    "                rkt.fire()\n",
    "            if to_torque_l >= torque_threshhold:\n",
    "                rkt.torque()\n",
    "            if to_torque_r >- torque_threshhold:\n",
    "                rkt.torque(clockwise = True)\n",
    "            rkt.advance()\n",
    "#         loss = rkt.position[1] - target_altitude + rkt.velocity - target_velocity\n",
    "        loss = loss_fn([rkt.position[1]], [target_altitude])\n",
    "        grads = tape.gradient(loss, pil.trainable_variables)\n",
    "        optimizer.apply_gradients(zip(grads, pil.trainable_variables ))\n",
    "        \n"
   ]
  },
  {
   "cell_type": "markdown",
   "id": "bae987b4",
   "metadata": {},
   "source": [
    "genetic algorithm\n",
    "---\n",
    "\n",
    "No gradienttape needed."
   ]
  },
  {
   "cell_type": "code",
   "execution_count": 523,
   "id": "0f607456",
   "metadata": {},
   "outputs": [],
   "source": [
    "#define goals\n",
    "target_velocity = tf.constant([27400., 0.], dtype = 'float32') #m/s\n",
    "target_altitude = tf.constant(200000., dtype = 'float32') #m"
   ]
  },
  {
   "cell_type": "code",
   "execution_count": 531,
   "id": "9ba1acce",
   "metadata": {},
   "outputs": [
    {
     "name": "stdout",
     "output_type": "stream",
     "text": [
      "epoch 0: best loss: 70695731200.0, last command: [1. 0. 0.]\n",
      "epoch 5: best loss: 70695731200.0, last command: [1. 0. 0.]\n"
     ]
    }
   ],
   "source": [
    "epochs = 10\n",
    "epoch_update_period = 5\n",
    "children_per_epoch = 5\n",
    "\n",
    "f_threshhold = 0.5\n",
    "torque_threshhold = 0.5\n",
    "\n",
    "#make rng for weight adjustments\n",
    "rng = np.random.default_rng()\n",
    "\n",
    "#weight decay with time\n",
    "decay_constant = 0.999\n",
    "randomness_scale = 1\n",
    "\n",
    "\n",
    "#make master pilot\n",
    "pilot_shape = (1,8)\n",
    "pilot_children = [\n",
    "    pilot(1,8)\n",
    "    for child in range(children_per_epoch)\n",
    "]\n",
    "\n",
    "dummy_inputs = tf.convert_to_tensor([\n",
    "                0.,0.,0.,0.,0.,0.\n",
    "            ])\n",
    "for child in pilot_children:\n",
    "    child.call(tf.expand_dims(dummy_inputs,0))\n",
    "\n",
    "#do a number of launches\n",
    "for epoch in range(epochs):\n",
    "    randomness_scale = randomness_scale*decay_constant\n",
    "    child_losses = []\n",
    "    for child in pilot_children:\n",
    "        #randomly adjust variables\n",
    "        new_weights = []\n",
    "        for weights in child.trainable_variables:\n",
    "            this_shape = weights.shape\n",
    "            new_weights.append(weights + rng.normal(loc=0.0, scale=randomness_scale, size=this_shape))\n",
    "        child.set_weights(new_weights)\n",
    "        #perform a simulation\n",
    "        rkt = rocket(time_step = 2)\n",
    "        while rkt.stopwatch < 120 and not rkt.is_crashed():\n",
    "             \n",
    "            rkt.fire()   #get state of rocket\n",
    "            inputs = tf.constant([\n",
    "                rkt.position[0],\n",
    "                rkt.position[1],\n",
    "                rkt.velocity[0],\n",
    "                rkt.velocity[1],\n",
    "                rkt.heading[0],\n",
    "                rkt.heading[1]\n",
    "            ])\n",
    "            inputs = tf.expand_dims(inputs, 0)\n",
    "                #create policy\n",
    "            to_fire, to_torque_l, to_torque_r = child.call(inputs)\n",
    "            if to_fire >= f_threshhold:\n",
    "                rkt.fire()\n",
    "            if to_torque_l >= torque_threshhold:\n",
    "                rkt.torque()\n",
    "            if to_torque_r >= torque_threshhold:\n",
    "                rkt.torque(clockwise = True)\n",
    "            rkt.advance()\n",
    "        loss = abs(rkt.position[1] - tf.constant(target_altitude)) + np.linalg.norm(rkt.velocity - tf.constant(target_velocity))\n",
    "        child_losses.append(loss)\n",
    "    best_child = pilot_children[np.argmin(child_losses)]\n",
    "    for child in pilot_children:\n",
    "        child.set_weights(best_child.trainable_variables)\n",
    "    \n",
    "    if epoch%epoch_update_period == 0:\n",
    "        print(f'epoch {epoch}: best loss: {np.min(child_losses)}, last command: {tf.convert_to_tensor([to_fire, to_torque_l, to_torque_r])}')\n",
    "#         rkt.plot_trajectory()\n",
    "    "
   ]
  },
  {
   "cell_type": "code",
   "execution_count": 405,
   "id": "7344352f",
   "metadata": {
    "scrolled": false
   },
   "outputs": [
    {
     "data": {
      "text/plain": [
       "(<tf.Tensor: shape=(), dtype=float32, numpy=0.0>,\n",
       " <tf.Tensor: shape=(), dtype=float32, numpy=0.0>,\n",
       " <tf.Tensor: shape=(), dtype=float32, numpy=1.0>)"
      ]
     },
     "execution_count": 405,
     "metadata": {},
     "output_type": "execute_result"
    }
   ],
   "source": [
    "to_fire, to_torque_l, to_torque_r"
   ]
  },
  {
   "cell_type": "code",
   "execution_count": 401,
   "id": "f92f7a5f",
   "metadata": {},
   "outputs": [
    {
     "data": {
      "text/plain": [
       "[array([0., 1.]), array([0., 1.]), array([0., 1.])]"
      ]
     },
     "execution_count": 401,
     "metadata": {},
     "output_type": "execute_result"
    }
   ],
   "source": [
    "rkt.heading_history"
   ]
  },
  {
   "cell_type": "code",
   "execution_count": 532,
   "id": "514a39bc",
   "metadata": {},
   "outputs": [
    {
     "data": {
      "text/plain": [
       "[array([0., 0.]),\n",
       " array([  0.        , 308.99553571]),\n",
       " array([  0.        , 699.08868697]),\n",
       " array([   0.        , 1151.07599124]),\n",
       " array([   0.        , 1646.39659806]),\n",
       " array([   0.       , 2170.0494151]),\n",
       " array([   0.        , 2711.48695663]),\n",
       " array([   0.        , 3264.05786725]),\n",
       " array([   0.        , 3823.91494882]),\n",
       " array([   0.        , 4388.98868764]),\n",
       " array([   0.        , 4958.23843948]),\n",
       " array([   0.        , 5531.17758124]),\n",
       " array([   0.       , 6107.5997445]),\n",
       " array([   0.        , 6687.43281611]),\n",
       " array([   0.       , 7270.6668652]),\n",
       " array([   0.        , 7857.32175482]),\n",
       " array([   0.        , 8447.43465655]),\n",
       " array([   0.       , 9041.0570001]),\n",
       " array([   0.        , 9638.25588659]),\n",
       " array([    0.        , 10239.11802798]),\n",
       " array([    0.        , 10843.75590524]),\n",
       " array([    0.        , 11452.31681988]),\n",
       " array([    0.        , 12064.99640497]),\n",
       " array([    0.        , 12682.05947341]),\n",
       " array([    0.        , 13303.87355444]),\n",
       " array([    0.        , 13930.96564816]),\n",
       " array([    0.        , 14564.12453758]),\n",
       " array([    0.       , 15204.6007746]),\n",
       " array([    0.        , 15854.54198847]),\n",
       " array([    0.        , 16518.09436488]),\n",
       " array([    0.      , 17204.900469]),\n",
       " array([    0.        , 15493.95344986]),\n",
       " array([    0.        , 43017.16345366]),\n",
       " array([       0.        , -3717134.31111041])]"
      ]
     },
     "execution_count": 532,
     "metadata": {},
     "output_type": "execute_result"
    }
   ],
   "source": [
    "rkt.position_history"
   ]
  },
  {
   "cell_type": "code",
   "execution_count": 533,
   "id": "95b91031",
   "metadata": {},
   "outputs": [
    {
     "data": {
      "text/plain": [
       "70691815000.0"
      ]
     },
     "execution_count": 533,
     "metadata": {},
     "output_type": "execute_result"
    }
   ],
   "source": [
    "np.linalg.norm(rkt.velocity - tf.constant(target_velocity))"
   ]
  },
  {
   "cell_type": "code",
   "execution_count": 534,
   "id": "343f0aae",
   "metadata": {},
   "outputs": [
    {
     "data": {
      "text/plain": [
       "<tf.Tensor: shape=(), dtype=float32, numpy=3917134.2>"
      ]
     },
     "execution_count": 534,
     "metadata": {},
     "output_type": "execute_result"
    }
   ],
   "source": [
    "abs(rkt.position[1] - tf.constant(target_altitude))"
   ]
  },
  {
   "cell_type": "code",
   "execution_count": null,
   "id": "eaba068c",
   "metadata": {},
   "outputs": [],
   "source": [
    "np.min()"
   ]
  }
 ],
 "metadata": {
  "kernelspec": {
   "display_name": "Python 3 (ipykernel)",
   "language": "python",
   "name": "python3"
  },
  "language_info": {
   "codemirror_mode": {
    "name": "ipython",
    "version": 3
   },
   "file_extension": ".py",
   "mimetype": "text/x-python",
   "name": "python",
   "nbconvert_exporter": "python",
   "pygments_lexer": "ipython3",
   "version": "3.9.7"
  }
 },
 "nbformat": 4,
 "nbformat_minor": 5
}
