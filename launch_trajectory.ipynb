{
 "cells": [
  {
   "cell_type": "markdown",
   "id": "843cff27",
   "metadata": {},
   "source": [
    "Launch Trajectory\n",
    "---"
   ]
  },
  {
   "cell_type": "code",
   "execution_count": 127,
   "id": "c6af2fb5",
   "metadata": {},
   "outputs": [],
   "source": [
    "import tensorflow as tf\n",
    "import keras\n",
    "import numpy as np\n",
    "import matplotlib.pyplot as plt"
   ]
  },
  {
   "cell_type": "markdown",
   "id": "9bbd5e4e",
   "metadata": {},
   "source": [
    "The game will have a current state. Rocket location (2), direction (1), velocity (2), air density (1), fuel remaining (1). 7 total state parameters.\n",
    "\n",
    "The rocket wants to minimize vertical speed at the end, approach a certain horizontal speed, maximize leftover fuel."
   ]
  },
  {
   "cell_type": "code",
   "execution_count": 128,
   "id": "85d4d91c",
   "metadata": {},
   "outputs": [],
   "source": [
    "target_velocity = [30000., 0.] #m/s\n",
    "target_altitude = 500000. #m\n",
    "isp = 500. #s\n",
    "g = 9.81 #m/s"
   ]
  },
  {
   "cell_type": "markdown",
   "id": "f87860db",
   "metadata": {},
   "source": [
    "What do I want to get done today?\n",
    "\n",
    "Make a policy model that tells whether to fire, torque l, or torque r at any time."
   ]
  },
  {
   "cell_type": "code",
   "execution_count": 374,
   "id": "804e1055",
   "metadata": {},
   "outputs": [],
   "source": [
    "#create a rocket ready to launch.\n",
    "class rocket:\n",
    "    def __init__(self,\n",
    "                 g = 9.81,\n",
    "                 dry_mass = 100.,\n",
    "                 fuel_mass = 100.,\n",
    "                 isp = 500.,\n",
    "                 torque_strength = 0.01,\n",
    "                 time_step = 0.1,\n",
    "                 drag_coef = 1.,\n",
    "                 length = 4,\n",
    "                 max_fuel_rate = 0.1 # per second\n",
    "                ):\n",
    "        #keep track of flight time\n",
    "        self.stopwatch = 0.\n",
    "        self.time_step = time_step\n",
    "        self.position = np.array([0.,0.])\n",
    "        \n",
    "        #current velocity and pointing direction (not necessarily parallel)\n",
    "        self.velocity =  np.array([0.,0.])\n",
    "        self.heading = np.array([0.,1.])\n",
    "        \n",
    "        #angular velocity\n",
    "        self.spin = 0.\n",
    "        \n",
    "        #drag\n",
    "        self.drag_coef = drag_coef\n",
    "        self.area = 1.\n",
    "        #the rocket is 4x longer than it is wide, with this ratio being the perpendicular drag to head-on drag.\n",
    "        self.length = length\n",
    "        \n",
    "        #fuel, mass, and efficiency\n",
    "        self.fuel_rate = max_fuel_rate\n",
    "        self.fuel_mass = fuel_mass\n",
    "        self.dry_mass = dry_mass\n",
    "        self.isp = isp\n",
    "        self.torque_strength = torque_strength\n",
    "        \n",
    "        #gravity\n",
    "        self.g = np.array([0., -g])\n",
    "        \n",
    "        #keep track of trajectory history\n",
    "        self.position_history = [\n",
    "            self.position\n",
    "        ]\n",
    "        self.velocity_history = [\n",
    "            self.velocity\n",
    "        ]\n",
    "        self.heading_history = [\n",
    "            self.heading\n",
    "        ]\n",
    "    \n",
    "    #calculate drag area due to not flying directly forward\n",
    "    def drag_area(self):\n",
    "        speed = np.linalg.norm(self.velocity)\n",
    "        dot = np.dot(self.velocity, self.heading)\n",
    "        if speed > 0. and dot != 0.:\n",
    "            heading_velocity_angle = np.arccos(dot/(1.*speed)) #heading is always length 1\n",
    "            this_area = self.area*(1. + np.sin(heading_velocity_angle))\n",
    "            return this_area\n",
    "        else:\n",
    "            return self.area\n",
    "        \n",
    "    #adds speed in heading direction and removes fuel\n",
    "    def fire(self):\n",
    "        fuel_chunk = self.fuel_rate*self.time_step\n",
    "        fuel_velocity = self.isp*self.g\n",
    "        if fuel_chunk >= self.fuel_mass:\n",
    "            fuel_chunk = self.fuel_mass\n",
    "        #remove fuel to fire\n",
    "        self.fuel_mass -= fuel_chunk\n",
    "        # change in speed is fuel spent this time step times fuel speed over remaining rocket mass\n",
    "        dv = fuel_chunk * fuel_velocity / (self.fuel_mass + self.dry_mass)\n",
    "        # add new speed to the velocity in the direction of heading\n",
    "        self.velocity += self.heading * dv\n",
    "    \n",
    "    #adds rot. velocity and removes fuel\n",
    "    def torque(self, clockwise = False):\n",
    "        fuel_chunk = self.fuel_rate*self.time_step\n",
    "        if fuel_chunk >= self.fuel_mass:\n",
    "            fuel_chunk = self.fuel_mass\n",
    "        torque_direction = 1\n",
    "        if clockwise:\n",
    "            torque_direction = -1\n",
    "        self.spin += self.torque_strength * fuel_chunk * self.time_step * torque_direction\n",
    "        self.fuel_mass -= fuel_chunk\n",
    "        \n",
    "    def is_crashed(self):\n",
    "        if self.position[1] < 0:\n",
    "            return True\n",
    "        else:\n",
    "            return False\n",
    "    \n",
    "    def advance(self):\n",
    "        #evolve rocket position in direction of velocity\n",
    "        self.position = self.position + self.velocity*self.time_step\n",
    "        self.position_history.append(self.position)\n",
    "        \n",
    "        #evolve rocket heading according to spin\n",
    "        rotation_angle = self.spin * self.time_step\n",
    "        rotation_matrix = np.array(\n",
    "            [\n",
    "                [np.cos(rotation_angle),np.sin(rotation_angle)],\n",
    "                [-np.sin(rotation_angle),np.cos(rotation_angle)]\n",
    "            ]\n",
    "        )\n",
    "        self.heading = self.heading/np.linalg.norm(np.matmul(rotation_matrix , self.heading))\n",
    "        self.heading_history.append(self.heading)\n",
    "        \n",
    "        #evolve rocket velocity in direction of drag + gravity\n",
    "        drag = 0.5 * self.drag_coef * self.drag_area() * np.linalg.norm(self.velocity) * self.velocity\n",
    "        self.velocity = self.velocity + self.time_step * (self.g - drag/(self.dry_mass+self.fuel_mass))\n",
    "        self.velocity_history.append(self.velocity)\n",
    "        \n",
    "    def plot_trajectory(self):\n",
    "        x = np.array(self.position_history)[:,0]\n",
    "        y = np.array(self.position_history)[:,1]\n",
    "        plt.scatter(x,y)\n",
    "        plt.show()"
   ]
  },
  {
   "cell_type": "code",
   "execution_count": 375,
   "id": "2c637def",
   "metadata": {
    "scrolled": true
   },
   "outputs": [
    {
     "data": {
      "image/png": "[encoded data removed]",
      "text/plain": [
       "<Figure size 432x288 with 1 Axes>"
      ]
     },
     "metadata": {
      "needs_background": "light"
     },
     "output_type": "display_data"
    }
   ],
   "source": [
    "rkt = rocket()\n",
    "rkt.velocity = np.array([1000.,100.])\n",
    "for step in range(100):\n",
    "    rkt.advance()\n",
    "    if rkt.is_crashed():\n",
    "        break\n",
    "rkt.plot_trajectory()"
   ]
  },
  {
   "cell_type": "code",
   "execution_count": 376,
   "id": "b90b775c",
   "metadata": {},
   "outputs": [],
   "source": [
    "initializer = keras.initializers.he_normal\n",
    "\n",
    "#make a policy model\n",
    "class pilot(keras.models.Sequential):\n",
    "    def __init__(self, num_layers, layer_size):\n",
    "        super().__init__()\n",
    "        for layer in range(num_layers):\n",
    "            self.add(\n",
    "                keras.layers.Dense(\n",
    "                                    layer_size,\n",
    "                                    bias_initializer=initializer,\n",
    "                                    kernel_initializer=initializer,\n",
    "                                    activation = 'relu'\n",
    "                                   )\n",
    "                    )\n",
    "        output = keras.layers.Dense(3, activation = 'softmax')\n",
    "        self.add(output)\n",
    "        \n",
    "    def call(self, x, training = True):\n",
    "        for layer in self.layers:\n",
    "            x = layer(x, training = training)\n",
    "        return tf.squeeze(x)"
   ]
  },
  {
   "cell_type": "code",
   "execution_count": 377,
   "id": "34913c9e",
   "metadata": {
    "scrolled": true
   },
   "outputs": [],
   "source": [
    "#do the model\n",
    "target_velocity = tf.constant([27400., 0.], dtype = 'float32') #m/s\n",
    "target_altitude = tf.constant(200000., dtype = 'float32') #m"
   ]
  },
  {
   "cell_type": "code",
   "execution_count": 378,
   "id": "fba687c3",
   "metadata": {},
   "outputs": [
    {
     "name": "stderr",
     "output_type": "stream",
     "text": [
      "C:\\Users\\David\\AppData\\Local\\Temp/ipykernel_6444/2155274665.py:58: RuntimeWarning: invalid value encountered in arccos\n",
      "  heading_velocity_angle = np.arccos(dot/(1.*speed)) #heading is always length 1\n"
     ]
    },
    {
     "ename": "ValueError",
     "evalue": "No gradients provided for any variable: (['dense_66/kernel:0', 'dense_66/bias:0', 'dense_67/kernel:0', 'dense_67/bias:0'],). Provided `grads_and_vars` is ((None, <tf.Variable 'dense_66/kernel:0' shape=(6, 64) dtype=float32, numpy=\narray([[ 9.59178209e-02, -1.12824833e+00,  4.93251950e-01,\n         1.37699962e-01, -5.06322861e-01,  1.87164232e-01,\n         1.23776138e+00,  3.55584562e-01,  8.44158530e-01,\n        -2.74397373e-01,  7.58725822e-01,  1.83454618e-01,\n         5.05768538e-01, -5.11059642e-01,  1.64780512e-01,\n        -2.73039311e-01,  3.74590844e-01,  1.56845614e-01,\n        -1.35879233e-01,  1.07894039e+00, -7.35113263e-01,\n         7.90031433e-01, -1.87430650e-01,  3.39283794e-01,\n         1.20461667e+00, -2.68631607e-01, -2.55063564e-01,\n        -6.40080690e-01,  2.14158282e-01, -4.55768943e-01,\n         6.34602010e-02, -4.23817456e-01,  7.74773121e-01,\n         9.73117948e-01,  3.09504300e-01,  3.20115715e-01,\n         2.21625730e-01, -1.21256649e-01,  2.38457285e-02,\n        -6.59496963e-01, -2.66233653e-01, -3.06631833e-01,\n        -9.56848800e-01,  9.27424073e-01, -5.90267539e-01,\n        -7.39966631e-01, -6.25122130e-01, -1.24212730e+00,\n        -8.70210111e-01, -7.56384194e-01,  2.68138021e-01,\n         9.38638985e-01,  6.90368950e-01,  7.00108111e-01,\n        -5.45999348e-01, -7.58735836e-01,  4.18222070e-01,\n         8.18893433e-01,  2.79295355e-01, -6.68667555e-01,\n         7.47598648e-01,  1.93409353e-01,  1.76449656e-01,\n         7.36514851e-02],\n       [-1.09254169e+00,  1.06690061e+00, -5.96260011e-01,\n         7.04429269e-01,  5.42000055e-01, -5.36133945e-01,\n        -5.31904340e-01,  9.40450013e-01,  5.81524253e-01,\n         7.76694298e-01,  5.11008918e-01, -9.91154313e-01,\n         1.01788926e+00,  8.37301373e-01,  6.73732311e-02,\n        -6.98684275e-01, -1.20172870e+00,  1.13736786e-01,\n        -4.33062375e-01,  8.15423727e-02,  6.19155347e-01,\n        -6.12680949e-02,  1.44327044e-01,  3.68248463e-01,\n        -9.41024482e-01,  1.98604129e-02,  2.64924556e-01,\n         3.49070191e-01,  9.98031080e-01, -9.30204511e-01,\n         1.08168364e+00, -6.60233106e-03,  4.37924087e-01,\n        -2.99150854e-01,  4.49461699e-01, -1.33912921e-01,\n        -6.70947433e-01, -3.61081623e-02,  1.68009669e-01,\n         4.54853147e-01, -1.25397825e+00, -1.40665799e-01,\n         6.73950851e-01, -7.10954547e-01, -6.17190450e-02,\n        -9.01582718e-01, -7.25260496e-01,  2.31138200e-01,\n         8.58578861e-01,  8.68813470e-02,  4.94630337e-01,\n        -9.71532464e-01,  1.41774267e-01, -5.00359833e-01,\n        -4.95164879e-02,  1.13416955e-01, -2.73361772e-01,\n        -7.99166143e-01,  4.69511420e-01,  1.16947484e+00,\n         7.63893247e-01, -6.96160674e-01, -3.07467163e-01,\n        -3.61403227e-01],\n       [ 4.35270309e-01, -1.08239226e-01,  1.09678304e+00,\n        -7.63126254e-01, -7.00922668e-01, -3.77904564e-01,\n         2.89162934e-01, -4.70492579e-02, -9.07568276e-01,\n        -7.74376869e-01,  2.99288984e-02, -1.52983859e-01,\n         1.62382141e-01, -2.52417326e-01, -1.04529917e+00,\n        -5.34775779e-02,  3.39103132e-01,  1.11312020e+00,\n         3.82698119e-01, -7.24810600e-01,  2.70313233e-01,\n         1.42296270e-01, -1.86014101e-01, -1.23965943e+00,\n        -5.25266789e-02,  2.58579969e-01, -2.59018332e-01,\n        -4.48081344e-01, -6.24145091e-01, -7.27570057e-01,\n         5.91484129e-01,  7.27914691e-01,  1.07589340e+00,\n         2.52309173e-01,  1.57677844e-01, -1.14268041e+00,\n         2.37677976e-01, -6.17189229e-01,  1.18780243e+00,\n        -7.45270431e-01, -8.14530790e-01, -1.99529063e-02,\n        -1.03941083e+00, -1.10573387e+00, -1.05953202e-01,\n        -9.12828743e-01,  3.77367169e-01,  3.03385165e-02,\n        -9.37477499e-02, -2.11856768e-01,  6.25039697e-01,\n        -2.63627440e-01, -7.43986666e-01,  6.26779079e-01,\n        -1.22721899e+00,  6.10175692e-02, -9.17913839e-02,\n        -3.23318392e-02,  8.05382133e-02, -9.35322270e-02,\n        -2.53437489e-01,  5.06119907e-01,  1.61104977e-01,\n         6.86504185e-01],\n       [ 3.96804810e-01,  8.90140310e-02,  1.08774710e+00,\n         2.72158116e-01,  8.74019265e-01, -6.58750534e-02,\n         2.17293292e-01,  4.13973749e-01, -1.10804424e-01,\n        -4.09680367e-01, -1.94678068e-01, -4.66852248e-01,\n        -1.88641578e-01,  9.68596756e-01, -4.15642560e-01,\n        -6.49452135e-02,  6.18587971e-01,  2.04518884e-01,\n        -8.85001481e-01, -4.40893799e-01,  4.57302451e-01,\n        -1.14934988e-01, -8.32817495e-01, -3.02169889e-01,\n         5.15875757e-01,  1.77737270e-02,  2.50566572e-01,\n        -8.77568901e-01,  5.38059652e-01,  6.56537652e-01,\n         7.65753627e-01,  6.96076512e-01,  3.29894185e-01,\n         2.60578752e-01, -8.80539536e-01,  4.60807234e-01,\n         4.46643889e-01,  2.29135007e-01,  5.58694005e-01,\n         1.03735006e+00,  6.04425967e-01, -3.51334870e-01,\n        -1.73570350e-01, -2.71520436e-01, -8.04395497e-01,\n        -3.09318304e-01,  6.33055091e-01,  2.57561244e-02,\n         7.64574349e-01,  1.12450552e+00,  4.80120480e-02,\n        -5.35056770e-01, -9.96045828e-01, -6.15883231e-01,\n        -3.09110403e-01,  3.33067030e-01, -7.19445109e-01,\n         6.28816545e-01,  2.94269584e-02,  3.00460178e-02,\n         2.71189600e-01, -5.07759571e-01,  1.70797750e-01,\n         5.94958365e-01],\n       [ 1.23661000e-03,  5.68128347e-01,  1.01686634e-01,\n         7.95515478e-01,  9.13412631e-01,  4.91075039e-01,\n        -2.06955403e-01, -3.84899110e-01, -2.14903027e-01,\n         4.88596290e-01,  1.25212288e+00,  6.92935526e-01,\n        -9.24822330e-01, -9.51521099e-01, -7.90699124e-01,\n         6.53247654e-01, -9.71034408e-01, -1.14219688e-01,\n        -3.11690599e-01,  3.68669540e-01,  5.61758757e-01,\n         5.58405221e-01, -2.03570679e-01,  5.01917779e-01,\n        -3.69941473e-01, -7.93852061e-02,  1.95436656e-01,\n         5.28397560e-01,  1.00458610e+00, -8.62688661e-01,\n         4.46506321e-01, -4.49811816e-02,  3.08324456e-01,\n        -4.06221926e-01, -1.68731868e-01, -5.83163872e-02,\n         2.31204964e-02, -2.26881504e-01, -1.08097702e-01,\n         5.44393482e-03, -7.48813927e-01, -6.96968585e-02,\n        -4.83101219e-01,  3.23743224e-01,  1.30550832e-01,\n         5.88935375e-01, -3.34409446e-01, -6.08480155e-01,\n        -2.38564387e-01,  4.43385690e-01,  9.13011909e-01,\n        -1.00582635e+00, -6.83659017e-01,  3.04316252e-01,\n         1.86270446e-01,  3.39499384e-01,  6.65095568e-01,\n        -1.25791533e-02, -1.91616967e-01,  7.88733959e-02,\n         7.49042988e-01,  1.23426430e-01,  2.21801654e-01,\n         4.12877291e-01],\n       [ 7.46831238e-01,  7.87025839e-02,  6.68861568e-01,\n         1.22029282e-01, -1.28512174e-01, -4.20816451e-01,\n        -7.52272427e-01,  3.95063460e-01, -7.08290756e-01,\n        -2.34019473e-01,  3.96796912e-01, -6.26306713e-01,\n         6.53932452e-01,  2.30479650e-02,  2.83021301e-01,\n        -1.94427982e-01, -4.91764694e-02, -2.99693700e-02,\n        -8.85729864e-02,  3.03208712e-03,  7.88314879e-01,\n         6.93909824e-01, -8.14897835e-01, -5.94894774e-02,\n        -6.06364906e-01,  5.06034374e-01, -6.32395148e-01,\n         7.92878628e-01, -1.15030098e+00, -5.56710064e-01,\n         2.12521672e-01,  3.19896162e-01, -1.48241743e-01,\n         5.91406107e-01,  3.59446168e-01,  7.90551126e-01,\n         1.83787659e-01, -1.29609704e-01, -3.86127859e-01,\n        -6.02824032e-01, -1.73105389e-01,  2.87682235e-01,\n         5.42164564e-01,  3.48959714e-01, -3.85187529e-02,\n         8.97264123e-01, -6.14452183e-01, -7.48030901e-01,\n        -1.86149552e-01, -1.93283603e-01, -1.18948507e+00,\n         4.89468008e-01, -8.51125062e-01, -7.56118834e-01,\n         3.16921800e-01, -8.42904925e-01, -1.67784929e-01,\n         3.43642265e-01, -8.84148002e-01,  4.43915389e-02,\n        -1.16982080e-01, -6.81264341e-01, -4.82019447e-02,\n         8.88825059e-01]], dtype=float32)>), (None, <tf.Variable 'dense_66/bias:0' shape=(64,) dtype=float32, numpy=\narray([-0.14275962,  0.12303663,  0.15516093,  0.03921328, -0.31357643,\n        0.04173826,  0.25008482, -0.03420429,  0.05145891,  0.1407082 ,\n        0.1969418 , -0.00084376, -0.20729406,  0.1341196 ,  0.01400186,\n       -0.00856347,  0.00493747,  0.20122871,  0.06125824,  0.08437238,\n        0.24233861, -0.1145916 , -0.09452639,  0.30521667,  0.20143194,\n        0.07210688, -0.09911755,  0.24504556, -0.0353566 ,  0.15190093,\n        0.18152124,  0.18272002,  0.2469459 , -0.23727551, -0.08277749,\n       -0.04703134, -0.15508868,  0.16606684, -0.20939565, -0.05252076,\n       -0.06473362,  0.00888592, -0.35461003,  0.25322917, -0.2324123 ,\n       -0.31275442,  0.1935401 , -0.04819728, -0.22602925, -0.01355608,\n       -0.20773624,  0.02598179, -0.25375718,  0.03551491,  0.22597395,\n       -0.15421262,  0.04912753,  0.3042995 ,  0.21580435,  0.12283657,\n       -0.05322834,  0.16771355, -0.1254634 , -0.16185999], dtype=float32)>), (None, <tf.Variable 'dense_67/kernel:0' shape=(64, 3) dtype=float32, numpy=\narray([[ 0.1272789 ,  0.23673779,  0.14301929],\n       [-0.2398035 , -0.05901289, -0.22265899],\n       [-0.29340097,  0.08136925, -0.07350504],\n       [ 0.00273925,  0.01059467, -0.20041272],\n       [ 0.07154113,  0.16490403, -0.28357428],\n       [-0.268446  ,  0.1158078 , -0.23508322],\n       [ 0.10318735,  0.22565073, -0.02348614],\n       [-0.19215818, -0.0590425 , -0.17521572],\n       [-0.17077379,  0.14180595, -0.17960653],\n       [-0.03493848, -0.02565953, -0.2654125 ],\n       [-0.14252128,  0.16973516, -0.27466184],\n       [ 0.23833495,  0.16298136, -0.07334295],\n       [ 0.11083081,  0.23805135, -0.1289928 ],\n       [ 0.01056105,  0.09919703, -0.04312918],\n       [-0.04272321, -0.10081834,  0.03447837],\n       [-0.03046492,  0.01021653, -0.01260817],\n       [ 0.03145823, -0.23514265, -0.12133579],\n       [ 0.03090701,  0.22833067,  0.07376438],\n       [-0.22960865, -0.1971363 ,  0.276281  ],\n       [-0.1864312 , -0.25156876,  0.28987026],\n       [-0.01625124,  0.02043518, -0.27628508],\n       [ 0.09428892,  0.23557258, -0.02225763],\n       [ 0.10112742, -0.02780125, -0.04406732],\n       [-0.2211415 ,  0.01613614, -0.16731386],\n       [ 0.19470492, -0.26813057,  0.08500519],\n       [-0.18760172, -0.13172612, -0.01693845],\n       [-0.2532626 ,  0.04320043, -0.10111922],\n       [-0.06863458,  0.14213842, -0.27803963],\n       [-0.2990075 ,  0.05520165,  0.26332825],\n       [-0.2164362 , -0.0723744 ,  0.11072031],\n       [-0.02131262,  0.2057054 ,  0.29039574],\n       [-0.2784302 ,  0.21685094,  0.02468228],\n       [-0.28684506, -0.27254805,  0.14437789],\n       [ 0.25399512,  0.18717983,  0.12797254],\n       [-0.28825375, -0.12315302, -0.07222956],\n       [ 0.05930513,  0.03978539, -0.1238617 ],\n       [-0.29418242, -0.27272305,  0.18601537],\n       [-0.00688103,  0.2436176 ,  0.16731691],\n       [ 0.26737463, -0.10386117,  0.00249088],\n       [ 0.20259702, -0.10412857, -0.16158645],\n       [-0.27700412,  0.1419119 ,  0.12937364],\n       [ 0.09234685,  0.14208663, -0.19858629],\n       [ 0.27686852,  0.20098436, -0.07311036],\n       [-0.29011384,  0.2006543 ,  0.15554276],\n       [ 0.09814894, -0.23684621, -0.19287565],\n       [-0.17191106, -0.04075542,  0.01165974],\n       [-0.02546203,  0.13985267,  0.24024016],\n       [ 0.18618298,  0.18665537,  0.03725427],\n       [-0.08990118, -0.09366348, -0.18603414],\n       [ 0.169698  ,  0.10624197,  0.27771026],\n       [-0.27884695,  0.07986367, -0.08995384],\n       [ 0.1706213 , -0.11367565,  0.15945038],\n       [-0.2263687 ,  0.06086487,  0.20573479],\n       [ 0.2926786 , -0.10987803, -0.00759822],\n       [ 0.13287154,  0.1222564 , -0.07318363],\n       [-0.27016246, -0.293757  ,  0.059845  ],\n       [-0.02196231,  0.17063615,  0.10595599],\n       [ 0.21012431, -0.13564552, -0.18455839],\n       [-0.26213565,  0.1294998 , -0.27587283],\n       [ 0.20711279, -0.17090592,  0.05813888],\n       [-0.26163667,  0.12921727,  0.04062179],\n       [-0.0602905 ,  0.07416379,  0.27790368],\n       [ 0.01661795, -0.02550456,  0.14288977],\n       [-0.15220918,  0.24946564, -0.27374074]], dtype=float32)>), (None, <tf.Variable 'dense_67/bias:0' shape=(3,) dtype=float32, numpy=array([0., 0., 0.], dtype=float32)>)).",
     "output_type": "error",
     "traceback": [
      "\u001b[1;31m---------------------------------------------------------------------------\u001b[0m",
      "\u001b[1;31mValueError\u001b[0m                                Traceback (most recent call last)",
      "\u001b[1;32m~\\AppData\\Local\\Temp/ipykernel_6444/4253850254.py\u001b[0m in \u001b[0;36m<module>\u001b[1;34m\u001b[0m\n\u001b[0;32m     38\u001b[0m         \u001b[0mloss\u001b[0m \u001b[1;33m=\u001b[0m \u001b[0mtf\u001b[0m\u001b[1;33m.\u001b[0m\u001b[0mabs\u001b[0m\u001b[1;33m(\u001b[0m\u001b[0mrkt\u001b[0m\u001b[1;33m.\u001b[0m\u001b[0mposition\u001b[0m\u001b[1;33m[\u001b[0m\u001b[1;36m1\u001b[0m\u001b[1;33m]\u001b[0m \u001b[1;33m-\u001b[0m \u001b[0mtarget_altitude\u001b[0m\u001b[1;33m)\u001b[0m \u001b[1;33m+\u001b[0m \u001b[0mloss_fn\u001b[0m\u001b[1;33m(\u001b[0m\u001b[0mrkt\u001b[0m\u001b[1;33m.\u001b[0m\u001b[0mvelocity\u001b[0m\u001b[1;33m,\u001b[0m \u001b[0mtarget_velocity\u001b[0m\u001b[1;33m)\u001b[0m\u001b[1;33m\u001b[0m\u001b[1;33m\u001b[0m\u001b[0m\n\u001b[0;32m     39\u001b[0m         \u001b[0mgrads\u001b[0m \u001b[1;33m=\u001b[0m \u001b[0mtape\u001b[0m\u001b[1;33m.\u001b[0m\u001b[0mgradient\u001b[0m\u001b[1;33m(\u001b[0m\u001b[0mloss\u001b[0m\u001b[1;33m,\u001b[0m \u001b[0mpil\u001b[0m\u001b[1;33m.\u001b[0m\u001b[0mtrainable_variables\u001b[0m\u001b[1;33m)\u001b[0m\u001b[1;33m\u001b[0m\u001b[1;33m\u001b[0m\u001b[0m\n\u001b[1;32m---> 40\u001b[1;33m         \u001b[0moptimizer\u001b[0m\u001b[1;33m.\u001b[0m\u001b[0mapply_gradients\u001b[0m\u001b[1;33m(\u001b[0m\u001b[0mzip\u001b[0m\u001b[1;33m(\u001b[0m\u001b[0mgrads\u001b[0m\u001b[1;33m,\u001b[0m \u001b[0mpil\u001b[0m\u001b[1;33m.\u001b[0m\u001b[0mtrainable_variables\u001b[0m\u001b[1;33m)\u001b[0m\u001b[1;33m)\u001b[0m\u001b[1;33m\u001b[0m\u001b[1;33m\u001b[0m\u001b[0m\n\u001b[0m",
      "\u001b[1;32mC:\\ProgramData\\Anaconda3\\lib\\site-packages\\keras\\optimizer_v2\\optimizer_v2.py\u001b[0m in \u001b[0;36mapply_gradients\u001b[1;34m(self, grads_and_vars, name, experimental_aggregate_gradients)\u001b[0m\n\u001b[0;32m    631\u001b[0m       \u001b[0mRuntimeError\u001b[0m\u001b[1;33m:\u001b[0m \u001b[0mIf\u001b[0m \u001b[0mcalled\u001b[0m \u001b[1;32min\u001b[0m \u001b[0ma\u001b[0m \u001b[0mcross\u001b[0m\u001b[1;33m-\u001b[0m\u001b[0mreplica\u001b[0m \u001b[0mcontext\u001b[0m\u001b[1;33m.\u001b[0m\u001b[1;33m\u001b[0m\u001b[1;33m\u001b[0m\u001b[0m\n\u001b[0;32m    632\u001b[0m     \"\"\"\n\u001b[1;32m--> 633\u001b[1;33m     \u001b[0mgrads_and_vars\u001b[0m \u001b[1;33m=\u001b[0m \u001b[0moptimizer_utils\u001b[0m\u001b[1;33m.\u001b[0m\u001b[0mfilter_empty_gradients\u001b[0m\u001b[1;33m(\u001b[0m\u001b[0mgrads_and_vars\u001b[0m\u001b[1;33m)\u001b[0m\u001b[1;33m\u001b[0m\u001b[1;33m\u001b[0m\u001b[0m\n\u001b[0m\u001b[0;32m    634\u001b[0m     \u001b[0mvar_list\u001b[0m \u001b[1;33m=\u001b[0m \u001b[1;33m[\u001b[0m\u001b[0mv\u001b[0m \u001b[1;32mfor\u001b[0m \u001b[1;33m(\u001b[0m\u001b[0m_\u001b[0m\u001b[1;33m,\u001b[0m \u001b[0mv\u001b[0m\u001b[1;33m)\u001b[0m \u001b[1;32min\u001b[0m \u001b[0mgrads_and_vars\u001b[0m\u001b[1;33m]\u001b[0m\u001b[1;33m\u001b[0m\u001b[1;33m\u001b[0m\u001b[0m\n\u001b[0;32m    635\u001b[0m \u001b[1;33m\u001b[0m\u001b[0m\n",
      "\u001b[1;32mC:\\ProgramData\\Anaconda3\\lib\\site-packages\\keras\\optimizer_v2\\utils.py\u001b[0m in \u001b[0;36mfilter_empty_gradients\u001b[1;34m(grads_and_vars)\u001b[0m\n\u001b[0;32m     71\u001b[0m   \u001b[1;32mif\u001b[0m \u001b[1;32mnot\u001b[0m \u001b[0mfiltered\u001b[0m\u001b[1;33m:\u001b[0m\u001b[1;33m\u001b[0m\u001b[1;33m\u001b[0m\u001b[0m\n\u001b[0;32m     72\u001b[0m     \u001b[0mvariable\u001b[0m \u001b[1;33m=\u001b[0m \u001b[1;33m(\u001b[0m\u001b[1;33m[\u001b[0m\u001b[0mv\u001b[0m\u001b[1;33m.\u001b[0m\u001b[0mname\u001b[0m \u001b[1;32mfor\u001b[0m \u001b[0m_\u001b[0m\u001b[1;33m,\u001b[0m \u001b[0mv\u001b[0m \u001b[1;32min\u001b[0m \u001b[0mgrads_and_vars\u001b[0m\u001b[1;33m]\u001b[0m\u001b[1;33m,\u001b[0m\u001b[1;33m)\u001b[0m\u001b[1;33m\u001b[0m\u001b[1;33m\u001b[0m\u001b[0m\n\u001b[1;32m---> 73\u001b[1;33m     raise ValueError(f\"No gradients provided for any variable: {variable}. \"\n\u001b[0m\u001b[0;32m     74\u001b[0m                      f\"Provided `grads_and_vars` is {grads_and_vars}.\")\n\u001b[0;32m     75\u001b[0m   \u001b[1;32mif\u001b[0m \u001b[0mvars_with_empty_grads\u001b[0m\u001b[1;33m:\u001b[0m\u001b[1;33m\u001b[0m\u001b[1;33m\u001b[0m\u001b[0m\n",
      "\u001b[1;31mValueError\u001b[0m: No gradients provided for any variable: (['dense_66/kernel:0', 'dense_66/bias:0', 'dense_67/kernel:0', 'dense_67/bias:0'],). Provided `grads_and_vars` is ((None, <tf.Variable 'dense_66/kernel:0' shape=(6, 64) dtype=float32, numpy=\narray([[ 9.59178209e-02, -1.12824833e+00,  4.93251950e-01,\n         1.37699962e-01, -5.06322861e-01,  1.87164232e-01,\n         1.23776138e+00,  3.55584562e-01,  8.44158530e-01,\n        -2.74397373e-01,  7.58725822e-01,  1.83454618e-01,\n         5.05768538e-01, -5.11059642e-01,  1.64780512e-01,\n        -2.73039311e-01,  3.74590844e-01,  1.56845614e-01,\n        -1.35879233e-01,  1.07894039e+00, -7.35113263e-01,\n         7.90031433e-01, -1.87430650e-01,  3.39283794e-01,\n         1.20461667e+00, -2.68631607e-01, -2.55063564e-01,\n        -6.40080690e-01,  2.14158282e-01, -4.55768943e-01,\n         6.34602010e-02, -4.23817456e-01,  7.74773121e-01,\n         9.73117948e-01,  3.09504300e-01,  3.20115715e-01,\n         2.21625730e-01, -1.21256649e-01,  2.38457285e-02,\n        -6.59496963e-01, -2.66233653e-01, -3.06631833e-01,\n        -9.56848800e-01,  9.27424073e-01, -5.90267539e-01,\n        -7.39966631e-01, -6.25122130e-01, -1.24212730e+00,\n        -8.70210111e-01, -7.56384194e-01,  2.68138021e-01,\n         9.38638985e-01,  6.90368950e-01,  7.00108111e-01,\n        -5.45999348e-01, -7.58735836e-01,  4.18222070e-01,\n         8.18893433e-01,  2.79295355e-01, -6.68667555e-01,\n         7.47598648e-01,  1.93409353e-01,  1.76449656e-01,\n         7.36514851e-02],\n       [-1.09254169e+00,  1.06690061e+00, -5.96260011e-01,\n         7.04429269e-01,  5.42000055e-01, -5.36133945e-01,\n        -5.31904340e-01,  9.40450013e-01,  5.81524253e-01,\n         7.76694298e-01,  5.11008918e-01, -9.91154313e-01,\n         1.01788926e+00,  8.37301373e-01,  6.73732311e-02,\n        -6.98684275e-01, -1.20172870e+00,  1.13736786e-01,\n        -4.33062375e-01,  8.15423727e-02,  6.19155347e-01,\n        -6.12680949e-02,  1.44327044e-01,  3.68248463e-01,\n        -9.41024482e-01,  1.98604129e-02,  2.64924556e-01,\n         3.49070191e-01,  9.98031080e-01, -9.30204511e-01,\n         1.08168364e+00, -6.60233106e-03,  4.37924087e-01,\n        -2.99150854e-01,  4.49461699e-01, -1.33912921e-01,\n        -6.70947433e-01, -3.61081623e-02,  1.68009669e-01,\n         4.54853147e-01, -1.25397825e+00, -1.40665799e-01,\n         6.73950851e-01, -7.10954547e-01, -6.17190450e-02,\n        -9.01582718e-01, -7.25260496e-01,  2.31138200e-01,\n         8.58578861e-01,  8.68813470e-02,  4.94630337e-01,\n        -9.71532464e-01,  1.41774267e-01, -5.00359833e-01,\n        -4.95164879e-02,  1.13416955e-01, -2.73361772e-01,\n        -7.99166143e-01,  4.69511420e-01,  1.16947484e+00,\n         7.63893247e-01, -6.96160674e-01, -3.07467163e-01,\n        -3.61403227e-01],\n       [ 4.35270309e-01, -1.08239226e-01,  1.09678304e+00,\n        -7.63126254e-01, -7.00922668e-01, -3.77904564e-01,\n         2.89162934e-01, -4.70492579e-02, -9.07568276e-01,\n        -7.74376869e-01,  2.99288984e-02, -1.52983859e-01,\n         1.62382141e-01, -2.52417326e-01, -1.04529917e+00,\n        -5.34775779e-02,  3.39103132e-01,  1.11312020e+00,\n         3.82698119e-01, -7.24810600e-01,  2.70313233e-01,\n         1.42296270e-01, -1.86014101e-01, -1.23965943e+00,\n        -5.25266789e-02,  2.58579969e-01, -2.59018332e-01,\n        -4.48081344e-01, -6.24145091e-01, -7.27570057e-01,\n         5.91484129e-01,  7.27914691e-01,  1.07589340e+00,\n         2.52309173e-01,  1.57677844e-01, -1.14268041e+00,\n         2.37677976e-01, -6.17189229e-01,  1.18780243e+00,\n        -7.45270431e-01, -8.14530790e-01, -1.99529063e-02,\n        -1.03941083e+00, -1.10573387e+00, -1.05953202e-01,\n        -9.12828743e-01,  3.77367169e-01,  3.03385165e-02,\n        -9.37477499e-02, -2.11856768e-01,  6.25039697e-01,\n        -2.63627440e-01, -7.43986666e-01,  6.26779079e-01,\n        -1.22721899e+00,  6.10175692e-02, -9.17913839e-02,\n        -3.23318392e-02,  8.05382133e-02, -9.35322270e-02,\n        -2.53437489e-01,  5.06119907e-01,  1.61104977e-01,\n         6.86504185e-01],\n       [ 3.96804810e-01,  8.90140310e-02,  1.08774710e+00,\n         2.72158116e-01,  8.74019265e-01, -6.58750534e-02,\n         2.17293292e-01,  4.13973749e-01, -1.10804424e-01,\n        -4.09680367e-01, -1.94678068e-01, -4.66852248e-01,\n        -1.88641578e-01,  9.68596756e-01, -4.15642560e-01,\n        -6.49452135e-02,  6.18587971e-01,  2.04518884e-01,\n        -8.85001481e-01, -4.40893799e-01,  4.57302451e-01,\n        -1.14934988e-01, -8.32817495e-01, -3.02169889e-01,\n         5.15875757e-01,  1.77737270e-02,  2.50566572e-01,\n        -8.77568901e-01,  5.38059652e-01,  6.56537652e-01,\n         7.65753627e-01,  6.96076512e-01,  3.29894185e-01,\n         2.60578752e-01, -8.80539536e-01,  4.60807234e-01,\n         4.46643889e-01,  2.29135007e-01,  5.58694005e-01,\n         1.03735006e+00,  6.04425967e-01, -3.51334870e-01,\n        -1.73570350e-01, -2.71520436e-01, -8.04395497e-01,\n        -3.09318304e-01,  6.33055091e-01,  2.57561244e-02,\n         7.64574349e-01,  1.12450552e+00,  4.80120480e-02,\n        -5.35056770e-01, -9.96045828e-01, -6.15883231e-01,\n        -3.09110403e-01,  3.33067030e-01, -7.19445109e-01,\n         6.28816545e-01,  2.94269584e-02,  3.00460178e-02,\n         2.71189600e-01, -5.07759571e-01,  1.70797750e-01,\n         5.94958365e-01],\n       [ 1.23661000e-03,  5.68128347e-01,  1.01686634e-01,\n         7.95515478e-01,  9.13412631e-01,  4.91075039e-01,\n        -2.06955403e-01, -3.84899110e-01, -2.14903027e-01,\n         4.88596290e-01,  1.25212288e+00,  6.92935526e-01,\n        -9.24822330e-01, -9.51521099e-01, -7.90699124e-01,\n         6.53247654e-01, -9.71034408e-01, -1.14219688e-01,\n        -3.11690599e-01,  3.68669540e-01,  5.61758757e-01,\n         5.58405221e-01, -2.03570679e-01,  5.01917779e-01,\n        -3.69941473e-01, -7.93852061e-02,  1.95436656e-01,\n         5.28397560e-01,  1.00458610e+00, -8.62688661e-01,\n         4.46506321e-01, -4.49811816e-02,  3.08324456e-01,\n        -4.06221926e-01, -1.68731868e-01, -5.83163872e-02,\n         2.31204964e-02, -2.26881504e-01, -1.08097702e-01,\n         5.44393482e-03, -7.48813927e-01, -6.96968585e-02,\n        -4.83101219e-01,  3.23743224e-01,  1.30550832e-01,\n         5.88935375e-01, -3.34409446e-01, -6.08480155e-01,\n        -2.38564387e-01,  4.43385690e-01,  9.13011909e-01,\n        -1.00582635e+00, -6.83659017e-01,  3.04316252e-01,\n         1.86270446e-01,  3.39499384e-01,  6.65095568e-01,\n        -1.25791533e-02, -1.91616967e-01,  7.88733959e-02,\n         7.49042988e-01,  1.23426430e-01,  2.21801654e-01,\n         4.12877291e-01],\n       [ 7.46831238e-01,  7.87025839e-02,  6.68861568e-01,\n         1.22029282e-01, -1.28512174e-01, -4.20816451e-01,\n        -7.52272427e-01,  3.95063460e-01, -7.08290756e-01,\n        -2.34019473e-01,  3.96796912e-01, -6.26306713e-01,\n         6.53932452e-01,  2.30479650e-02,  2.83021301e-01,\n        -1.94427982e-01, -4.91764694e-02, -2.99693700e-02,\n        -8.85729864e-02,  3.03208712e-03,  7.88314879e-01,\n         6.93909824e-01, -8.14897835e-01, -5.94894774e-02,\n        -6.06364906e-01,  5.06034374e-01, -6.32395148e-01,\n         7.92878628e-01, -1.15030098e+00, -5.56710064e-01,\n         2.12521672e-01,  3.19896162e-01, -1.48241743e-01,\n         5.91406107e-01,  3.59446168e-01,  7.90551126e-01,\n         1.83787659e-01, -1.29609704e-01, -3.86127859e-01,\n        -6.02824032e-01, -1.73105389e-01,  2.87682235e-01,\n         5.42164564e-01,  3.48959714e-01, -3.85187529e-02,\n         8.97264123e-01, -6.14452183e-01, -7.48030901e-01,\n        -1.86149552e-01, -1.93283603e-01, -1.18948507e+00,\n         4.89468008e-01, -8.51125062e-01, -7.56118834e-01,\n         3.16921800e-01, -8.42904925e-01, -1.67784929e-01,\n         3.43642265e-01, -8.84148002e-01,  4.43915389e-02,\n        -1.16982080e-01, -6.81264341e-01, -4.82019447e-02,\n         8.88825059e-01]], dtype=float32)>), (None, <tf.Variable 'dense_66/bias:0' shape=(64,) dtype=float32, numpy=\narray([-0.14275962,  0.12303663,  0.15516093,  0.03921328, -0.31357643,\n        0.04173826,  0.25008482, -0.03420429,  0.05145891,  0.1407082 ,\n        0.1969418 , -0.00084376, -0.20729406,  0.1341196 ,  0.01400186,\n       -0.00856347,  0.00493747,  0.20122871,  0.06125824,  0.08437238,\n        0.24233861, -0.1145916 , -0.09452639,  0.30521667,  0.20143194,\n        0.07210688, -0.09911755,  0.24504556, -0.0353566 ,  0.15190093,\n        0.18152124,  0.18272002,  0.2469459 , -0.23727551, -0.08277749,\n       -0.04703134, -0.15508868,  0.16606684, -0.20939565, -0.05252076,\n       -0.06473362,  0.00888592, -0.35461003,  0.25322917, -0.2324123 ,\n       -0.31275442,  0.1935401 , -0.04819728, -0.22602925, -0.01355608,\n       -0.20773624,  0.02598179, -0.25375718,  0.03551491,  0.22597395,\n       -0.15421262,  0.04912753,  0.3042995 ,  0.21580435,  0.12283657,\n       -0.05322834,  0.16771355, -0.1254634 , -0.16185999], dtype=float32)>), (None, <tf.Variable 'dense_67/kernel:0' shape=(64, 3) dtype=float32, numpy=\narray([[ 0.1272789 ,  0.23673779,  0.14301929],\n       [-0.2398035 , -0.05901289, -0.22265899],\n       [-0.29340097,  0.08136925, -0.07350504],\n       [ 0.00273925,  0.01059467, -0.20041272],\n       [ 0.07154113,  0.16490403, -0.28357428],\n       [-0.268446  ,  0.1158078 , -0.23508322],\n       [ 0.10318735,  0.22565073, -0.02348614],\n       [-0.19215818, -0.0590425 , -0.17521572],\n       [-0.17077379,  0.14180595, -0.17960653],\n       [-0.03493848, -0.02565953, -0.2654125 ],\n       [-0.14252128,  0.16973516, -0.27466184],\n       [ 0.23833495,  0.16298136, -0.07334295],\n       [ 0.11083081,  0.23805135, -0.1289928 ],\n       [ 0.01056105,  0.09919703, -0.04312918],\n       [-0.04272321, -0.10081834,  0.03447837],\n       [-0.03046492,  0.01021653, -0.01260817],\n       [ 0.03145823, -0.23514265, -0.12133579],\n       [ 0.03090701,  0.22833067,  0.07376438],\n       [-0.22960865, -0.1971363 ,  0.276281  ],\n       [-0.1864312 , -0.25156876,  0.28987026],\n       [-0.01625124,  0.02043518, -0.27628508],\n       [ 0.09428892,  0.23557258, -0.02225763],\n       [ 0.10112742, -0.02780125, -0.04406732],\n       [-0.2211415 ,  0.01613614, -0.16731386],\n       [ 0.19470492, -0.26813057,  0.08500519],\n       [-0.18760172, -0.13172612, -0.01693845],\n       [-0.2532626 ,  0.04320043, -0.10111922],\n       [-0.06863458,  0.14213842, -0.27803963],\n       [-0.2990075 ,  0.05520165,  0.26332825],\n       [-0.2164362 , -0.0723744 ,  0.11072031],\n       [-0.02131262,  0.2057054 ,  0.29039574],\n       [-0.2784302 ,  0.21685094,  0.02468228],\n       [-0.28684506, -0.27254805,  0.14437789],\n       [ 0.25399512,  0.18717983,  0.12797254],\n       [-0.28825375, -0.12315302, -0.07222956],\n       [ 0.05930513,  0.03978539, -0.1238617 ],\n       [-0.29418242, -0.27272305,  0.18601537],\n       [-0.00688103,  0.2436176 ,  0.16731691],\n       [ 0.26737463, -0.10386117,  0.00249088],\n       [ 0.20259702, -0.10412857, -0.16158645],\n       [-0.27700412,  0.1419119 ,  0.12937364],\n       [ 0.09234685,  0.14208663, -0.19858629],\n       [ 0.27686852,  0.20098436, -0.07311036],\n       [-0.29011384,  0.2006543 ,  0.15554276],\n       [ 0.09814894, -0.23684621, -0.19287565],\n       [-0.17191106, -0.04075542,  0.01165974],\n       [-0.02546203,  0.13985267,  0.24024016],\n       [ 0.18618298,  0.18665537,  0.03725427],\n       [-0.08990118, -0.09366348, -0.18603414],\n       [ 0.169698  ,  0.10624197,  0.27771026],\n       [-0.27884695,  0.07986367, -0.08995384],\n       [ 0.1706213 , -0.11367565,  0.15945038],\n       [-0.2263687 ,  0.06086487,  0.20573479],\n       [ 0.2926786 , -0.10987803, -0.00759822],\n       [ 0.13287154,  0.1222564 , -0.07318363],\n       [-0.27016246, -0.293757  ,  0.059845  ],\n       [-0.02196231,  0.17063615,  0.10595599],\n       [ 0.21012431, -0.13564552, -0.18455839],\n       [-0.26213565,  0.1294998 , -0.27587283],\n       [ 0.20711279, -0.17090592,  0.05813888],\n       [-0.26163667,  0.12921727,  0.04062179],\n       [-0.0602905 ,  0.07416379,  0.27790368],\n       [ 0.01661795, -0.02550456,  0.14288977],\n       [-0.15220918,  0.24946564, -0.27374074]], dtype=float32)>), (None, <tf.Variable 'dense_67/bias:0' shape=(3,) dtype=float32, numpy=array([0., 0., 0.], dtype=float32)>))."
     ]
    }
   ],
   "source": [
    "trials = 10\n",
    "\n",
    "pil = pilot(1,64)\n",
    "f_threshhold = 0.5\n",
    "l_threshhold = 0.5\n",
    "r_threshhold = 0.5\n",
    "\n",
    "loss_fn = tf.losses.Huber()\n",
    "optimizer = tf.optimizers.Adam(learning_rate=0.001)\n",
    "\n",
    "for trial in range(trials):\n",
    "    rkt = rocket()\n",
    "    with tf.GradientTape() as tape:\n",
    "        tape.watch(tf.convert_to_tensor(rkt.position))\n",
    "        tape.watch(tf.convert_to_tensor(rkt.velocity))\n",
    "        tape.watch(tf.convert_to_tensor(rkt.heading))\n",
    "        while not rkt.is_crashed():\n",
    "            inputs = tf.convert_to_tensor(\n",
    "                [\n",
    "                rkt.position[0],\n",
    "                rkt.position[1],\n",
    "                rkt.velocity[0],\n",
    "                rkt.velocity[1],\n",
    "                rkt.heading[0],\n",
    "                rkt.heading[1]\n",
    "                ]\n",
    "            )\n",
    "            inputs = tf.expand_dims(inputs, 0)\n",
    "            policy = pil.call(inputs)\n",
    "            to_fire, to_torque_l, to_torque_r = policy\n",
    "            if to_fire:\n",
    "                rkt.fire()\n",
    "            if to_torque_l:\n",
    "                rkt.torque()\n",
    "            elif to_torque_r:\n",
    "                rkt.torque(clockwise = True)\n",
    "            rkt.advance()\n",
    "        loss = tf.abs(rkt.position[1] - target_altitude) + loss_fn(rkt.velocity, target_velocity)\n",
    "        grads = tape.gradient(loss, pil.trainable_variables)\n",
    "        optimizer.apply_gradients(zip(grads, pil.trainable_variables))"
   ]
  }
 ],
 "metadata": {
  "kernelspec": {
   "display_name": "Python 3 (ipykernel)",
   "language": "python",
   "name": "python3"
  },
  "language_info": {
   "codemirror_mode": {
    "name": "ipython",
    "version": 3
   },
   "file_extension": ".py",
   "mimetype": "text/x-python",
   "name": "python",
   "nbconvert_exporter": "python",
   "pygments_lexer": "ipython3",
   "version": "3.9.7"
  }
 },
 "nbformat": 4,
 "nbformat_minor": 5
}
