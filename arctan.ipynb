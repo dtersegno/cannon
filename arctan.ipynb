{
 "cells": [
  {
   "cell_type": "markdown",
   "id": "458d1b8b",
   "metadata": {},
   "source": [
    "Modeling ArcTan\n",
    "---"
   ]
  },
  {
   "cell_type": "code",
   "execution_count": 1,
   "id": "f53fd989",
   "metadata": {},
   "outputs": [],
   "source": [
    "import tensorflow as tf\n",
    "import keras\n",
    "import numpy as np\n",
    "import matplotlib.pyplot as plt\n",
    "import numpy as np"
   ]
  },
  {
   "cell_type": "markdown",
   "id": "d854548f",
   "metadata": {},
   "source": [
    "2d aim\n",
    "---\n",
    "place random points and predict the angle."
   ]
  },
  {
   "cell_type": "code",
   "execution_count": 130,
   "id": "bb5a6cc4",
   "metadata": {},
   "outputs": [],
   "source": [
    "initializer = keras.initializers.he_normal\n",
    "\n",
    "pi = np.pi\n",
    "\n",
    "#make a model\n",
    "class actor(keras.models.Sequential):\n",
    "    def __init__(self, num_layers, layer_size):\n",
    "        super().__init__()\n",
    "        for layer in range(num_layers):\n",
    "            self.add(\n",
    "                keras.layers.Dense(\n",
    "                                    layer_size,\n",
    "                                    bias_initializer=initializer,\n",
    "                                    kernel_initializer=initializer,\n",
    "                                    activation = 'relu'\n",
    "                                   )\n",
    "                    )\n",
    "        output = keras.layers.Dense(1, activation = 'tanh')\n",
    "        self.add(output)\n",
    "        \n",
    "    def call(self, x, training = True):\n",
    "        for layer in self.layers:\n",
    "            x = layer(x, training = training)\n",
    "        return tf.squeeze(x)"
   ]
  },
  {
   "cell_type": "code",
   "execution_count": 180,
   "id": "5abdc28f",
   "metadata": {
    "scrolled": false
   },
   "outputs": [
    {
     "name": "stdout",
     "output_type": "stream",
     "text": [
      "trial 0: loss 2.658342123031616\n",
      "trial 100: loss 2.4892563819885254\n",
      "trial 200: loss 2.236659288406372\n",
      "trial 300: loss 0.6689956784248352\n",
      "trial 400: loss 0.5906776785850525\n",
      "trial 500: loss 0.5133078694343567\n",
      "trial 600: loss 0.42622295022010803\n",
      "trial 700: loss 0.3608758747577667\n",
      "trial 800: loss 0.29511189460754395\n",
      "trial 900: loss 0.35593339800834656\n",
      "trial 1000: loss 0.20775626599788666\n",
      "trial 1100: loss 0.19626742601394653\n",
      "trial 1200: loss 0.1967470645904541\n",
      "trial 1300: loss 0.21345485746860504\n",
      "trial 1400: loss 0.17821508646011353\n",
      "trial 1500: loss 0.17762991786003113\n",
      "trial 1600: loss 0.20007635653018951\n",
      "trial 1700: loss 0.1343928873538971\n",
      "trial 1800: loss 0.11143303662538528\n",
      "trial 1900: loss 0.1427234262228012\n",
      "trial 2000: loss 0.10757298022508621\n",
      "trial 2100: loss 0.08159295469522476\n",
      "trial 2200: loss 0.07424650341272354\n",
      "trial 2300: loss 0.06464952230453491\n",
      "trial 2400: loss 0.05005797743797302\n",
      "trial 2500: loss 0.11662865430116653\n",
      "trial 2600: loss 0.04530541971325874\n",
      "trial 2700: loss 0.05116064473986626\n",
      "trial 2800: loss 0.03973973169922829\n",
      "trial 2900: loss 0.03899213671684265\n",
      "trial 3000: loss 0.03365496173501015\n",
      "trial 3100: loss 0.06665503233671188\n",
      "trial 3200: loss 0.03662838041782379\n",
      "trial 3300: loss 0.02308850921690464\n",
      "trial 3400: loss 0.02689633145928383\n",
      "trial 3500: loss 0.02005329355597496\n",
      "trial 3600: loss 0.014850975014269352\n",
      "trial 3700: loss 0.06304847449064255\n",
      "trial 3800: loss 0.015002340078353882\n",
      "trial 3900: loss 0.013103683479130268\n",
      "trial 4000: loss 0.018074192106723785\n",
      "trial 4100: loss 0.017026180401444435\n",
      "trial 4200: loss 0.03006901778280735\n",
      "trial 4300: loss 0.020942848175764084\n",
      "trial 4400: loss 0.016332043334841728\n",
      "trial 4500: loss 0.016730008646845818\n",
      "trial 4600: loss 0.017237164080142975\n",
      "trial 4700: loss 0.019198784604668617\n",
      "trial 4800: loss 0.01872166432440281\n",
      "trial 4900: loss 0.01880539022386074\n",
      "trial 5000: loss 0.013633460737764835\n",
      "trial 5100: loss 0.014478381723165512\n",
      "trial 5200: loss 0.009762321598827839\n",
      "trial 5300: loss 0.013458974659442902\n",
      "trial 5400: loss 0.019609766080975533\n",
      "trial 5500: loss 0.012715188786387444\n",
      "trial 5600: loss 0.008452190086245537\n",
      "trial 5700: loss 0.013496517203748226\n",
      "trial 5800: loss 0.04679561406373978\n",
      "trial 5900: loss 0.013196621090173721\n",
      "trial 6000: loss 0.11288090795278549\n",
      "trial 6100: loss 0.01463119126856327\n",
      "trial 6200: loss 0.011736528016626835\n",
      "trial 6300: loss 0.009668561629951\n",
      "trial 6400: loss 0.01257448922842741\n",
      "trial 6500: loss 0.014688778668642044\n",
      "trial 6600: loss 0.016258351504802704\n",
      "trial 6700: loss 0.012517263181507587\n",
      "trial 6800: loss 0.013409014791250229\n",
      "trial 6900: loss 0.026339512318372726\n",
      "trial 7000: loss 0.010786151513457298\n",
      "trial 7100: loss 0.010206332430243492\n",
      "trial 7200: loss 0.012119351886212826\n",
      "trial 7300: loss 0.012603411450982094\n",
      "trial 7400: loss 0.021666159853339195\n",
      "trial 7500: loss 0.01329108513891697\n",
      "trial 7600: loss 0.008841247297823429\n",
      "trial 7700: loss 0.027921874076128006\n",
      "trial 7800: loss 0.015417352318763733\n",
      "trial 7900: loss 0.006358008366078138\n",
      "trial 8000: loss 0.011989826336503029\n",
      "trial 8100: loss 0.016143890097737312\n",
      "trial 8200: loss 0.011196861043572426\n",
      "trial 8300: loss 0.027620838955044746\n",
      "trial 8400: loss 0.02181229367852211\n",
      "trial 8500: loss 0.014034152030944824\n",
      "trial 8600: loss 0.011554654687643051\n",
      "trial 8700: loss 0.0076204207725822926\n",
      "trial 8800: loss 0.010260695591568947\n",
      "trial 8900: loss 0.060165971517562866\n",
      "trial 9000: loss 0.010746627114713192\n",
      "trial 9100: loss 0.0066682095639407635\n",
      "trial 9200: loss 0.008483530022203922\n",
      "trial 9300: loss 0.011794915422797203\n",
      "trial 9400: loss 0.006110626272857189\n",
      "trial 9500: loss 0.00784890167415142\n",
      "trial 9600: loss 0.09138379991054535\n",
      "trial 9700: loss 0.011604547500610352\n",
      "trial 9800: loss 0.013280058279633522\n",
      "trial 9900: loss 0.010637463070452213\n"
     ]
    }
   ],
   "source": [
    "num_trials = 10000\n",
    "trial_update_period = 100\n",
    "batches_per_trial = 1000\n",
    "target_range = 100.\n",
    "\n",
    "#define rng for random points\n",
    "seed = 2022\n",
    "rng = np.random.default_rng(seed)\n",
    "\n",
    "#create models\n",
    "act = actor(2, 16)\n",
    "crit = actor(2, 16)\n",
    "\n",
    "#define loss function\n",
    "huber_loss = tf.losses.Huber()\n",
    "\n",
    "#define optimizer\n",
    "optimizer = tf.optimizers.Adam(learning_rate=0.001)\n",
    "\n",
    "losses = []\n",
    "for trial in range(num_trials):\n",
    "    targets = rng.uniform(low = -target_range, high = target_range, size = (batches_per_trial,2))\n",
    "    with tf.GradientTape() as tape:\n",
    "        targets = tf.constant(targets)\n",
    "        predicted_angles = pi*act(targets)\n",
    "        true_angles = tf.math.atan2(targets[:,1],targets[:,0])\n",
    "        loss = huber_loss(predicted_angles, true_angles)\n",
    "        losses.append(loss)\n",
    "    grads = tape.gradient(loss, act.trainable_variables)\n",
    "    optimizer.apply_gradients(zip(grads, act.trainable_variables))\n",
    "    if trial%trial_update_period ==0:\n",
    "        print(f'trial {trial}: loss {loss}')\n",
    "    optimizer.learning_rate = optimizer.learning_rate*0.99999"
   ]
  },
  {
   "cell_type": "code",
   "execution_count": 185,
   "id": "40c7229f",
   "metadata": {},
   "outputs": [
    {
     "data": {
      "text/plain": [
       "<tf.Variable 'Adam/learning_rate:0' shape=() dtype=float32, numpy=0.00090471253>"
      ]
     },
     "execution_count": 185,
     "metadata": {},
     "output_type": "execute_result"
    }
   ],
   "source": [
    "optimizer.learning_rate"
   ]
  },
  {
   "cell_type": "code",
   "execution_count": 186,
   "id": "af6c46ea",
   "metadata": {},
   "outputs": [
    {
     "data": {
      "text/plain": [
       "[<matplotlib.lines.Line2D at 0x2ae323eda90>]"
      ]
     },
     "execution_count": 186,
     "metadata": {},
     "output_type": "execute_result"
    },
    {
     "data": {
      "image/png": "[encoded data removed]",
      "text/plain": [
       "<Figure size 432x288 with 1 Axes>"
      ]
     },
     "metadata": {
      "needs_background": "light"
     },
     "output_type": "display_data"
    }
   ],
   "source": [
    "plt.plot(losses)"
   ]
  },
  {
   "cell_type": "code",
   "execution_count": 187,
   "id": "a05c10c2",
   "metadata": {
    "scrolled": true
   },
   "outputs": [
    {
     "data": {
      "text/plain": [
       "[<matplotlib.lines.Line2D at 0x2ae324f90d0>]"
      ]
     },
     "execution_count": 187,
     "metadata": {},
     "output_type": "execute_result"
    },
    {
     "data": {
      "image/png": "[encoded data removed]",
      "text/plain": [
       "<Figure size 432x288 with 1 Axes>"
      ]
     },
     "metadata": {
      "needs_background": "light"
     },
     "output_type": "display_data"
    }
   ],
   "source": [
    "reals =  list(map(lambda target: np.arctan(target[1]/target[0]), targets))\n",
    "preds =  pi*act(targets)\n",
    "\n",
    "plt.scatter(reals, preds)\n",
    "plt.plot(np.linspace(0,1,100),np.linspace(0,1,100))"
   ]
  },
  {
   "cell_type": "markdown",
   "id": "e57cb8a3",
   "metadata": {},
   "source": [
    "Extra lines are due to ambiguity of 1st / 3rd quadrants. This is a success."
   ]
  },
  {
   "cell_type": "code",
   "execution_count": 188,
   "id": "2a1c4c72",
   "metadata": {},
   "outputs": [
    {
     "data": {
      "text/plain": [
       "(array([39., 61., 69., 43., 49., 33., 64., 67., 45., 26., 47., 38., 67.,\n",
       "        55., 29., 58., 51., 66., 62., 31.]),\n",
       " array([-3.1414943 , -2.8280833 , -2.5146723 , -2.201261  , -1.88785   ,\n",
       "        -1.574439  , -1.261028  , -0.94761693, -0.63420594, -0.32079488,\n",
       "        -0.00738382,  0.30602723,  0.6194383 ,  0.9328493 ,  1.2462604 ,\n",
       "         1.5596714 ,  1.8730824 ,  2.1864934 ,  2.4999046 ,  2.8133156 ,\n",
       "         3.1267266 ], dtype=float32),\n",
       " <BarContainer object of 20 artists>)"
      ]
     },
     "execution_count": 188,
     "metadata": {},
     "output_type": "execute_result"
    },
    {
     "data": {
      "image/png": "[encoded data removed]",
      "text/plain": [
       "<Figure size 432x288 with 1 Axes>"
      ]
     },
     "metadata": {
      "needs_background": "light"
     },
     "output_type": "display_data"
    }
   ],
   "source": [
    "plt.hist(pi*np.array(tf.convert_to_tensor(act(targets))), bins = 20)"
   ]
  },
  {
   "cell_type": "code",
   "execution_count": null,
   "id": "dc563e63",
   "metadata": {},
   "outputs": [],
   "source": []
  }
 ],
 "metadata": {
  "kernelspec": {
   "display_name": "Python 3 (ipykernel)",
   "language": "python",
   "name": "python3"
  },
  "language_info": {
   "codemirror_mode": {
    "name": "ipython",
    "version": 3
   },
   "file_extension": ".py",
   "mimetype": "text/x-python",
   "name": "python",
   "nbconvert_exporter": "python",
   "pygments_lexer": "ipython3",
   "version": "3.9.7"
  }
 },
 "nbformat": 4,
 "nbformat_minor": 5
}
