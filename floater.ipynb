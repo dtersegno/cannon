{
 "cells": [
  {
   "cell_type": "markdown",
   "id": "3598a134",
   "metadata": {},
   "source": [
    "Actor Critic Floater\n",
    "---"
   ]
  },
  {
   "cell_type": "code",
   "execution_count": 1,
   "id": "5f40078b",
   "metadata": {},
   "outputs": [],
   "source": [
    "import tensorflow as tf\n",
    "import pandas as pd\n",
    "import keras\n",
    "import numpy as np\n",
    "import matplotlib.pyplot as plt\n",
    "%matplotlib inline\n",
    "plt.style.use('dark_background')"
   ]
  },
  {
   "cell_type": "code",
   "execution_count": 2,
   "id": "6981c77e",
   "metadata": {},
   "outputs": [],
   "source": [
    "class Floater:\n",
    "    def __init__(self, mass = 1., g = 9.81, time_step = 0.1, init_velocity = np.array([0.,0.])):\n",
    "        self.mass = mass\n",
    "        self.time_step = time_step\n",
    "        self.g = np.array([0.,-g])\n",
    "        self.stopwatch = 0.\n",
    "        \n",
    "        self.position = np.array([0.,0.])        \n",
    "        self.hist_position = [self.position]\n",
    "        \n",
    "        self.velocity = init_velocity\n",
    "        self.hist_velocity = [self.velocity]\n",
    "        \n",
    "    ########\n",
    "    # forces\n",
    "    ########\n",
    "        \n",
    "    def apply_gravity(self):\n",
    "        dv = self.g * self.time_step\n",
    "        self.velocity = self.velocity + dv\n",
    "        return self.velocity\n",
    "        \n",
    "    def apply_forces(self):\n",
    "        self.apply_gravity()\n",
    "        return self.velocity\n",
    "        \n",
    "    def update_history(self):\n",
    "        self.hist_position.append(self.position)\n",
    "        self.hist_velocity.append(self.velocity)\n",
    "        return self.hist_position, self.hist_velocity\n",
    "        \n",
    "    #########\n",
    "    # advance\n",
    "    #########\n",
    "        \n",
    "    def advance(self):\n",
    "#         self.apply_forces()\n",
    "        self.position = self.position + self.velocity * self.time_step\n",
    "        self.stopwatch = self.stopwatch + self.time_step\n",
    "        self.update_history()\n",
    "        return self.position\n",
    "    \n",
    "    def above_ground(self, ground_level = 0.):\n",
    "        if self.position[1] > ground_level:\n",
    "            return True\n",
    "        else:\n",
    "            return False\n",
    "        \n",
    "    #########\n",
    "    # viewing\n",
    "    #########\n",
    "    \n",
    "    def plot_trajectory(self, figsize = (12,12), color = 1., to_show = False, xlims = None, ylims=None, label = None):\n",
    "        if to_show:\n",
    "            plt.figure(figsize = figsize)\n",
    "        positions = np.array(self.hist_position)\n",
    "        x = positions[:,0]\n",
    "        y = positions[:,1]\n",
    "        plt.plot(x, y, color = str(color), label = label)\n",
    "        if to_show:\n",
    "            plt.show()\n",
    "    \n",
    "    def plot_velocity(self, figsize = (12,12), color = 1., to_show = False, xlims = None, ylims=None, label = None):\n",
    "        if to_show:\n",
    "            plt.figure(figsize = figsize)\n",
    "        velocities = np.array(self.hist_velocity)\n",
    "        x = velocities[:,0]\n",
    "        y = velocities[:,1]\n",
    "        plt.plot(x, y, color = str(color))\n",
    "        if to_show:\n",
    "            plt.show();\n",
    "\n",
    "class Rocket(Floater):\n",
    "    def __init__(self, isp = 800., fuel_rate = 0.01, dry_mass = 1., g = 9.81, time_step = 0.1, init_velocity = np.array([0.,0.]), wet_mass = 10.):\n",
    "        super().__init__(mass = dry_mass, g = g, time_step = time_step, init_velocity = init_velocity)\n",
    "        \n",
    "        #################\n",
    "        # engine and fuel\n",
    "        #################\n",
    "        \n",
    "        self.dry_mass = dry_mass\n",
    "        self.wet_mass = wet_mass\n",
    "        self.fuel_rate = fuel_rate\n",
    "        self.isp = isp\n",
    "        self.fuel_empty = False\n",
    "        \n",
    "        #has warned already about a weak engine\n",
    "        self.not_warned = True\n",
    "        \n",
    "        right = np.array([1,0])\n",
    "        up = np.array([0,1])\n",
    "        self.directions = {\n",
    "            1:right,\n",
    "            2:up,\n",
    "            3:-right,\n",
    "            4:-up\n",
    "        }\n",
    "        \n",
    "    def fire(self, direction_code):\n",
    "        direction = self.directions[direction_code]\n",
    "        fuel_used = self.fuel_rate * self.time_step\n",
    "        if fuel_used > self.wet_mass:\n",
    "            fuel_used = self.wet_mass\n",
    "        if self.wet_mass == 0. and not self.fuel_empty:\n",
    "            self.fuel_empty = True\n",
    "            print(f'Rocket out of fuel at {self.stopwatch}')\n",
    "        self.wet_mass = self.wet_mass - fuel_used\n",
    "        impulse = fuel_used * self.isp * np.linalg.norm(self.g) * direction\n",
    "        dv = impulse/(self.wet_mass + self.dry_mass)\n",
    "        self.velocity = self.velocity + dv\n",
    "        if self.not_warned and not self.fuel_empty and np.linalg.norm(dv) < 2*np.linalg.norm(self.g*self.time_step):\n",
    "            self.not_warned = not self.not_warned\n",
    "            print(f'Warning: Rocket TWR is {np.linalg.norm(dv)/np.linalg.norm(self.g*self.time_step)}')\n",
    "            if np.linalg.norm(dv) < np.linalg.norm(self.g*self.time_step):\n",
    "                print(f'Rocket cannot support itself.')\n",
    "                \n",
    "        return self.velocity\n",
    "    \n",
    "    def get_state(self):\n",
    "        state = [rocket.position, rocket.velocity, [rocket.dry_mass, rocket.wet_mass]]\n",
    "        state = tf.convert_to_tensor(state)\n",
    "        state = tf.reshape(state, (1,6))\n",
    "        return state\n",
    "\n",
    "        "
   ]
  },
  {
   "cell_type": "code",
   "execution_count": 3,
   "id": "9dd7bcb0",
   "metadata": {
    "scrolled": false
   },
   "outputs": [
    {
     "name": "stdout",
     "output_type": "stream",
     "text": [
      "Rocket out of fuel at 100.09999999999859\n",
      "1499.9999999997312\n"
     ]
    },
    {
     "data": {
      "image/png": "[encoded data removed]",
      "text/plain": [
       "<Figure size 864x864 with 1 Axes>"
      ]
     },
     "metadata": {},
     "output_type": "display_data"
    },
    {
     "data": {
      "image/png": "[encoded data removed]",
      "text/plain": [
       "<Figure size 864x864 with 1 Axes>"
      ]
     },
     "metadata": {},
     "output_type": "display_data"
    }
   ],
   "source": [
    "## see if the rocket is functioning properly\n",
    "\n",
    "seed = 202231\n",
    "rng = np.random.default_rng(seed)\n",
    "\n",
    "vel = np.array([0.,0.])\n",
    "flt = Rocket(init_velocity = vel, wet_mass=1)\n",
    "\n",
    "prob_list = np.array(list(flt.directions.keys())[::-1])/sum(range(1,5))\n",
    "prob_list = [0.5,0,0.5,0]\n",
    "\n",
    "for step in range(15000):\n",
    "    flt.advance()\n",
    "    direction = rng.choice(range(1,5), p=prob_list )\n",
    "    flt.fire(direction)\n",
    "print(flt.stopwatch)\n",
    "flt.plot_trajectory(to_show = True)\n",
    "flt.plot_velocity(to_show = True)\n",
    "    "
   ]
  },
  {
   "cell_type": "code",
   "execution_count": 43,
   "id": "530b3b79",
   "metadata": {},
   "outputs": [],
   "source": [
    "seed =32854\n",
    "\n",
    "class Pilot(tf.keras.Model):\n",
    "    def __init__(self, num_outputs = 5, common_layer_size = 128):\n",
    "        super().__init__()\n",
    "        tf.random.set_seed(seed)\n",
    "        self.common1 = tf.keras.layers.Dense(common_layer_size, activation='relu')\n",
    "        self.dropout = tf.keras.layers.Dropout(0.5)\n",
    "        self.actor = tf.keras.layers.Dense(num_outputs, activation='softmax')\n",
    "        self.critic = tf.keras.layers.Dense(1)\n",
    "        self.build( (1,6))\n",
    "\n",
    "    def call(self, inputs, training=False):\n",
    "        x = self.common1(inputs)\n",
    "        if training:\n",
    "            x = self.dropout(x, training=training)\n",
    "        return tf.squeeze(self.actor(x)), tf.squeeze(self.critic(x))\n",
    "    \n",
    "class Pilot2(tf.keras.Model):\n",
    "    def __init__(self, num_outputs = 5, common_layer_size = 32):\n",
    "        super().__init__()\n",
    "        tf.random.set_seed(seed)\n",
    "        self.common1 = tf.keras.layers.Dense(common_layer_size, activation='relu')\n",
    "        self.common2 = tf.keras.layers.Dense(common_layer_size, activation='relu')\n",
    "        self.dropout = tf.keras.layers.Dropout(0.8)\n",
    "        self.actor = tf.keras.layers.Dense(num_outputs, activation='softmax')\n",
    "        self.critic = tf.keras.layers.Dense(1)\n",
    "\n",
    "    def call(self, inputs, training=False):\n",
    "        x = self.common1(inputs)\n",
    "        x = self.common2(x)\n",
    "        if training:\n",
    "            x = self.dropout(x, training=training)\n",
    "        return tf.squeeze(self.actor(x)), tf.squeeze(self.critic(x))"
   ]
  },
  {
   "cell_type": "code",
   "execution_count": 44,
   "id": "fc33630b",
   "metadata": {},
   "outputs": [],
   "source": [
    "seed = 2022\n",
    "rng = np.random.default_rng(seed)\n",
    "eps = 1e-7"
   ]
  },
  {
   "cell_type": "code",
   "execution_count": 45,
   "id": "9e730763",
   "metadata": {},
   "outputs": [
    {
     "data": {
      "text/plain": [
       "1e-07"
      ]
     },
     "execution_count": 45,
     "metadata": {},
     "output_type": "execute_result"
    }
   ],
   "source": [
    "eps"
   ]
  },
  {
   "cell_type": "code",
   "execution_count": 46,
   "id": "6232267c",
   "metadata": {},
   "outputs": [
    {
     "name": "stdout",
     "output_type": "stream",
     "text": [
      "Model: \"pilot_5\"\n",
      "_________________________________________________________________\n",
      " Layer (type)                Output Shape              Param #   \n",
      "=================================================================\n",
      " dense_19 (Dense)            multiple                  896       \n",
      "                                                                 \n",
      " dropout_6 (Dropout)         multiple                  0 (unused)\n",
      "                                                                 \n",
      " dense_20 (Dense)            multiple                  645       \n",
      "                                                                 \n",
      " dense_21 (Dense)            multiple                  129       \n",
      "                                                                 \n",
      "=================================================================\n",
      "Total params: 1,670\n",
      "Trainable params: 1,670\n",
      "Non-trainable params: 0\n",
      "_________________________________________________________________\n"
     ]
    }
   ],
   "source": [
    "num_actions = 5\n",
    "pilot = Pilot(num_outputs=num_actions)\n",
    "# pilot = Pilot2(num_outputs=num_actions)\n",
    "\n",
    "pilot.summary()"
   ]
  },
  {
   "cell_type": "code",
   "execution_count": 47,
   "id": "33135763",
   "metadata": {},
   "outputs": [],
   "source": [
    "learning_rate = tf.keras.optimizers.schedules.ExponentialDecay(0.00001, 1000, 0.1)\n",
    "# learning_rate = 0.000001\n",
    "optimizer = tf.optimizers.SGD(learning_rate=learning_rate)\n",
    "\n",
    "#learning_rate = 0.0001\n",
    "#optimizer = tf.optimizers.Adam(learning_rate = learning_rate,\n",
    "#                              beta_1=0.999,\n",
    "#                              beta_2=0.9)"
   ]
  },
  {
   "cell_type": "code",
   "execution_count": 48,
   "id": "240dde6e",
   "metadata": {
    "scrolled": false
   },
   "outputs": [
    {
     "name": "stdout",
     "output_type": "stream",
     "text": [
      "Epoch 5, loss 311781.34, remaining fuel 9.993, time 30.00 sec\n",
      "Epoch 10, loss 164714.94, remaining fuel 9.850, time 30.00 sec\n",
      "Epoch 15, loss 71653.65, remaining fuel 9.850, time 30.00 sec\n",
      "Epoch 20, loss 15918838.00, remaining fuel 9.850, time 30.00 sec\n",
      "Epoch 25, loss 12542556.00, remaining fuel 9.850, time 30.00 sec\n",
      "Epoch 30, loss 8873774.00, remaining fuel 9.850, time 30.00 sec\n",
      "Epoch 35, loss 8259471.50, remaining fuel 9.850, time 30.00 sec\n",
      "Epoch 40, loss 8670189.00, remaining fuel 9.850, time 30.00 sec\n",
      "Epoch 45, loss 9259959.00, remaining fuel 9.850, time 30.00 sec\n",
      "Epoch 50, loss 7463799.50, remaining fuel 9.850, time 30.00 sec\n"
     ]
    },
    {
     "data": {
      "image/png": "[encoded data removed]",
      "text/plain": [
       "<Figure size 864x864 with 1 Axes>"
      ]
     },
     "metadata": {},
     "output_type": "display_data"
    },
    {
     "data": {
      "image/png": "[encoded data removed]",
      "text/plain": [
       "<Figure size 432x288 with 1 Axes>"
      ]
     },
     "metadata": {},
     "output_type": "display_data"
    },
    {
     "data": {
      "text/plain": [
       "2    11645\n",
       "0     1888\n",
       "4     1398\n",
       "1       42\n",
       "3       27\n",
       "dtype: int64"
      ]
     },
     "execution_count": 48,
     "metadata": {},
     "output_type": "execute_result"
    }
   ],
   "source": [
    "directions_dict = {0:'coast', 1:'right', 2:'up', 3:'left', 4:'down'}\n",
    "\n",
    "huber = tf.losses.Huber()\n",
    "\n",
    "target_altitude = 50.\n",
    "\n",
    "num_epochs = 50\n",
    "num_updates = 10\n",
    "update_period = num_epochs // num_updates\n",
    "epoch_count = 0.\n",
    "\n",
    "max_time = 30.\n",
    "\n",
    "\n",
    "\n",
    "plt.figure(figsize = (12,12))\n",
    "\n",
    "all_action_history = []\n",
    "for epoch in range(1,num_epochs+1):\n",
    "    init_vel = rng.random(2) - np.array([0.5,0.5])\n",
    "    rocket = Rocket(time_step = 0.1, fuel_rate=0.005, init_velocity=init_vel)\n",
    "    rocket.not_warned = False\n",
    "    state = rocket.get_state()\n",
    "    with tf.GradientTape() as tape:\n",
    "        errors_history = []\n",
    "        critic_values_history = []\n",
    "        action_probs_history= []\n",
    "        while rocket.above_ground(-1000000.) and rocket.stopwatch < max_time:\n",
    "            action_probs, critic_value = pilot.call(state, training=True)\n",
    "            action = rng.choice(num_actions, p = np.squeeze(action_probs))\n",
    "            action_prob = action_probs[action]\n",
    "            if action == 0:\n",
    "                pass\n",
    "            else:\n",
    "                rocket.fire(action)\n",
    "            all_action_history.append(action)\n",
    "            rocket.advance()\n",
    "            state = rocket.get_state()\n",
    "            \n",
    "            errors_history.append((rocket.position[1] - target_altitude)**2)\n",
    "            critic_values_history.append(critic_value)\n",
    "            action_probs_history.append(action_prob)\n",
    "            \n",
    "        losses = []\n",
    "        discount_factor = 0.99\n",
    "        running_discounted_sum = 0\n",
    "        for error, critic_value, action_prob in zip(errors_history, critic_values_history, action_probs_history):\n",
    "            critic_error = huber([error], [critic_value])\n",
    "#             losses.append(discount_factor*(action_prob*critic_error + critic_error))\n",
    "            step_loss = (-tf.math.log(action_prob)*critic_error + critic_error)\n",
    "            losses.append(step_loss + discount_factor*running_discounted_sum)\n",
    "            running_discounted_sum = step_loss + running_discounted_sum*discount_factor\n",
    "\n",
    "        sum_losses = tf.reduce_mean(losses)\n",
    "        grads = tape.gradient(sum_losses, pilot.trainable_variables)\n",
    "        optimizer.apply_gradients(zip(grads, pilot.trainable_variables))\n",
    "\n",
    "    if epoch%update_period == 0:\n",
    "        rocket.plot_trajectory(color = epoch/num_epochs, label = str(epoch))#, rocket.plot_velocity(True, color = epoch/num_epochs)\n",
    "        template = 'Epoch {}, loss {:.2f}, remaining fuel {:.3f}, time {:.2f} sec'\n",
    "        print(template.format(epoch, sum_losses, rocket.wet_mass, rocket.stopwatch))\n",
    "plt.legend();\n",
    "# plt.xlim(-2000,2000)\n",
    "plt.ylim(-100,100)\n",
    "plt.axhline(-50, color = 'blue')\n",
    "plt.axhline(50, color = 'blue')\n",
    "plt.axvline(-50, color = 'blue')\n",
    "plt.axvline(50, color = 'blue')\n",
    "plt.scatter([[0]], [[0]], color = 'red')\n",
    "plt.show()\n",
    "\n",
    "plt.plot(errors_history, label = 'last error history')\n",
    "# plt.plot(critic_losses, label = 'actor losses')\n",
    "# plt.plot(actor_losses, label = 'critic_losses')\n",
    "plt.legend()\n",
    "plt.show();\n",
    "\n",
    "# pd.Series(all_action_history).replace(directions_dict).value_counts()[directions_dict.values()]\n",
    "pd.Series(all_action_history).value_counts()"
   ]
  },
  {
   "cell_type": "code",
   "execution_count": null,
   "id": "508f8cd3",
   "metadata": {},
   "outputs": [],
   "source": []
  }
 ],
 "metadata": {
  "kernelspec": {
   "display_name": "Python 3 (ipykernel)",
   "language": "python",
   "name": "python3"
  },
  "language_info": {
   "codemirror_mode": {
    "name": "ipython",
    "version": 3
   },
   "file_extension": ".py",
   "mimetype": "text/x-python",
   "name": "python",
   "nbconvert_exporter": "python",
   "pygments_lexer": "ipython3",
   "version": "3.9.7"
  }
 },
 "nbformat": 4,
 "nbformat_minor": 5
}
