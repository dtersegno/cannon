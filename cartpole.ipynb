{
 "cells": [
  {
   "cell_type": "markdown",
   "id": "0a93ee64",
   "metadata": {},
   "source": [
    "copying cartpole from openaigym\n",
    "---\n",
    "\n",
    "[keras example](https://keras.io/examples/rl/actor_critic_cartpole/#references)"
   ]
  },
  {
   "cell_type": "code",
   "execution_count": 5,
   "id": "de5c3b84",
   "metadata": {},
   "outputs": [],
   "source": [
    "import gym \n",
    "import tensorflow as tf\n",
    "import numpy as np\n",
    "from tensorflow import keras\n",
    "from keras import layers\n",
    "\n",
    "seed = 2022\n",
    "gamma = 0.99\n",
    "max_steps_per_episode = 10000\n",
    "env = gym.make('CartPole-v0')\n",
    "env.reset(seed=seed)\n",
    "eps = np.finfo(np.float32).eps.item()"
   ]
  },
  {
   "cell_type": "code",
   "execution_count": 6,
   "id": "3c538922",
   "metadata": {},
   "outputs": [],
   "source": [
    "num_inputs = 4\n",
    "num_actions = 2\n",
    "num_hidden = 128\n",
    "\n",
    "inputs = layers.Input(shape = (num_inputs,))\n",
    "common = layers.Dense(num_hidden, activation ='relu')(inputs)\n",
    "action = layers.Dense(num_actions, activation = 'softmax')(common)\n",
    "critic = layers.Dense(1)(common)\n",
    "\n",
    "model = keras.Model(inputs = inputs, outputs = [action, critic])"
   ]
  },
  {
   "cell_type": "code",
   "execution_count": 13,
   "id": "eb9358ee",
   "metadata": {},
   "outputs": [
    {
     "name": "stdout",
     "output_type": "stream",
     "text": [
      "running reward: 11.78 at episode 10\n",
      "running reward: 17.98 at episode 20\n",
      "running reward: 17.73 at episode 30\n",
      "running reward: 14.78 at episode 40\n",
      "running reward: 13.26 at episode 50\n",
      "running reward: 11.88 at episode 60\n",
      "running reward: 11.11 at episode 70\n",
      "running reward: 10.83 at episode 80\n",
      "running reward: 10.72 at episode 90\n",
      "running reward: 11.28 at episode 100\n",
      "running reward: 12.02 at episode 110\n",
      "running reward: 11.52 at episode 120\n",
      "running reward: 11.94 at episode 130\n",
      "running reward: 11.14 at episode 140\n",
      "running reward: 10.73 at episode 150\n",
      "running reward: 11.23 at episode 160\n",
      "running reward: 11.35 at episode 170\n",
      "running reward: 12.03 at episode 180\n",
      "running reward: 15.24 at episode 190\n",
      "running reward: 18.84 at episode 200\n",
      "running reward: 16.57 at episode 210\n",
      "running reward: 24.77 at episode 220\n",
      "running reward: 62.44 at episode 230\n",
      "running reward: 85.22 at episode 240\n",
      "running reward: 81.44 at episode 250\n",
      "running reward: 101.63 at episode 260\n",
      "running reward: 141.10 at episode 270\n",
      "running reward: 164.74 at episode 280\n",
      "running reward: 178.89 at episode 290\n",
      "running reward: 173.89 at episode 300\n",
      "running reward: 169.91 at episode 310\n",
      "running reward: 174.46 at episode 320\n",
      "running reward: 176.74 at episode 330\n",
      "running reward: 186.07 at episode 340\n",
      "running reward: 187.07 at episode 350\n",
      "running reward: 180.57 at episode 360\n",
      "running reward: 182.52 at episode 370\n",
      "running reward: 179.17 at episode 380\n",
      "running reward: 134.84 at episode 390\n",
      "running reward: 149.39 at episode 400\n",
      "running reward: 164.63 at episode 410\n",
      "running reward: 175.29 at episode 420\n",
      "running reward: 169.31 at episode 430\n",
      "running reward: 156.02 at episode 440\n",
      "running reward: 155.45 at episode 450\n",
      "running reward: 170.02 at episode 460\n",
      "running reward: 178.90 at episode 470\n",
      "running reward: 172.64 at episode 480\n",
      "running reward: 169.55 at episode 490\n",
      "running reward: 170.07 at episode 500\n",
      "running reward: 181.46 at episode 510\n",
      "running reward: 184.08 at episode 520\n",
      "running reward: 177.53 at episode 530\n",
      "running reward: 161.31 at episode 540\n",
      "running reward: 147.46 at episode 550\n",
      "running reward: 141.25 at episode 560\n",
      "running reward: 136.05 at episode 570\n",
      "running reward: 133.42 at episode 580\n",
      "running reward: 134.17 at episode 590\n",
      "running reward: 132.39 at episode 600\n",
      "running reward: 130.43 at episode 610\n",
      "running reward: 126.68 at episode 620\n",
      "running reward: 123.60 at episode 630\n",
      "running reward: 121.83 at episode 640\n",
      "running reward: 114.15 at episode 650\n",
      "running reward: 113.80 at episode 660\n",
      "running reward: 117.25 at episode 670\n",
      "running reward: 130.96 at episode 680\n",
      "running reward: 151.69 at episode 690\n",
      "running reward: 171.08 at episode 700\n",
      "running reward: 182.68 at episode 710\n",
      "running reward: 189.63 at episode 720\n",
      "running reward: 193.79 at episode 730\n",
      "Solved at episode 735\n"
     ]
    }
   ],
   "source": [
    "optimizer = tf.optimizers.Adam(learning_rate=0.01)\n",
    "huber = tf.losses.Huber()\n",
    "action_probs_history = []\n",
    "critic_value_history = []\n",
    "rewards_history = []\n",
    "running_reward = 0\n",
    "episode_count = 0\n",
    "\n",
    "while True:\n",
    "    state = env.reset()\n",
    "    episode_reward = 0\n",
    "    with tf.GradientTape() as tape:\n",
    "        for timestep in range(1,max_steps_per_episode):\n",
    "            #env.render()\n",
    "            state = tf.convert_to_tensor(state)\n",
    "            state = tf.expand_dims(state, 0)\n",
    "            \n",
    "            action_probs, critic_value = model(state)\n",
    "            critic_value_history.append(critic_value[0,0])\n",
    "            \n",
    "            action = np.random.choice(num_actions, p = np.squeeze(action_probs))\n",
    "            action_probs_history.append(tf.math.log(action_probs[0,action]))\n",
    "            \n",
    "            state, reward, done, _ = env.step(action)\n",
    "            rewards_history.append(reward)\n",
    "            episode_reward += reward\n",
    "            \n",
    "            if done:\n",
    "                break\n",
    "                \n",
    "        running_reward = 0.05 * episode_reward + (1-0.05) * running_reward\n",
    "\n",
    "        returns = []\n",
    "        discounted_sum = 0\n",
    "        for r in rewards_history[::-1]:\n",
    "            discounted_sum = r + gamma*discounted_sum\n",
    "            returns.insert(0, discounted_sum)\n",
    "\n",
    "        returns = np.array(returns)\n",
    "        returns = (returns - np.mean(returns)) / (np.std(returns) + eps)\n",
    "        returns = returns.tolist()\n",
    "\n",
    "        history = zip(action_probs_history, critic_value_history, returns)\n",
    "        actor_losses = []\n",
    "        critic_losses = []\n",
    "        for log_prob, value, ret in history:\n",
    "            diff = ret - value\n",
    "            actor_losses.append(-log_prob*diff)\n",
    "\n",
    "            critic_losses.append(\n",
    "                huber(tf.expand_dims(value, 0), tf.expand_dims(ret, 0))\n",
    "            )\n",
    "\n",
    "        loss_value = sum(actor_losses) + sum(critic_losses)\n",
    "        grads = tape.gradient(loss_value, model.trainable_variables)\n",
    "        optimizer.apply_gradients(zip(grads, model.trainable_variables))\n",
    "\n",
    "        action_probs_history.clear()\n",
    "        critic_value_history.clear()\n",
    "        rewards_history.clear()\n",
    "    \n",
    "    episode_count += 1\n",
    "    if episode_count % 10 == 0:\n",
    "        template = 'running reward: {:.2f} at episode {}'\n",
    "        print(template.format(running_reward, episode_count))\n",
    "    if running_reward > 195:\n",
    "        print('Solved at episode {}'.format(episode_count))\n",
    "        break\n",
    "    "
   ]
  },
  {
   "cell_type": "code",
   "execution_count": 14,
   "id": "cbd50957",
   "metadata": {},
   "outputs": [
    {
     "data": {
      "text/plain": [
       "array([-0.29101545, -0.34158212, -0.02133838,  0.22399257], dtype=float32)"
      ]
     },
     "execution_count": 14,
     "metadata": {},
     "output_type": "execute_result"
    }
   ],
   "source": [
    "state"
   ]
  },
  {
   "cell_type": "code",
   "execution_count": 15,
   "id": "4078a1dd",
   "metadata": {},
   "outputs": [
    {
     "data": {
      "text/plain": [
       "numpy.ndarray"
      ]
     },
     "execution_count": 15,
     "metadata": {},
     "output_type": "execute_result"
    }
   ],
   "source": [
    "type(state)"
   ]
  },
  {
   "cell_type": "code",
   "execution_count": 16,
   "id": "1d70ca26",
   "metadata": {},
   "outputs": [
    {
     "data": {
      "text/plain": [
       "float"
      ]
     },
     "execution_count": 16,
     "metadata": {},
     "output_type": "execute_result"
    }
   ],
   "source": [
    "type(reward)"
   ]
  },
  {
   "cell_type": "code",
   "execution_count": null,
   "id": "d548c962",
   "metadata": {},
   "outputs": [],
   "source": []
  }
 ],
 "metadata": {
  "kernelspec": {
   "display_name": "Python 3 (ipykernel)",
   "language": "python",
   "name": "python3"
  },
  "language_info": {
   "codemirror_mode": {
    "name": "ipython",
    "version": 3
   },
   "file_extension": ".py",
   "mimetype": "text/x-python",
   "name": "python",
   "nbconvert_exporter": "python",
   "pygments_lexer": "ipython3",
   "version": "3.9.7"
  }
 },
 "nbformat": 4,
 "nbformat_minor": 5
}
