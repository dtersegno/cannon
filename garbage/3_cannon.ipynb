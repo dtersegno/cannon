{
 "cells": [
  {
   "cell_type": "markdown",
   "id": "7ac3b448",
   "metadata": {},
   "source": [
    "cannon 3\n",
    "---"
   ]
  },
  {
   "cell_type": "code",
   "execution_count": 1,
   "id": "d8e9509f",
   "metadata": {},
   "outputs": [],
   "source": [
    "import numpy as np\n",
    "import matplotlib.pyplot as plt\n",
    "plt.style.use('dark_background')\n",
    "%matplotlib inline\n",
    "import tensorflow as tf\n",
    "import keras"
   ]
  },
  {
   "cell_type": "markdown",
   "id": "03a4bc1c",
   "metadata": {},
   "source": [
    "Simulation function"
   ]
  },
  {
   "cell_type": "code",
   "execution_count": 2,
   "id": "aa8d6caa",
   "metadata": {},
   "outputs": [],
   "source": [
    "pi = np.pi\n",
    "\n",
    "#simulates a ballistic trajectory and returns the smallest distance to the target position\n",
    "def simulate_trajectory_distance(speed, azi, pitch, target, origin = np.array([0.,0.,0.]), timestep = 0.1, g = -10.):\n",
    "    #get cartesian velocity from spherical coordinates\n",
    "    velocity = speed*np.array([\n",
    "        np.cos(azi)*np.cos(pitch),\n",
    "        np.sin(azi)*np.cos(pitch),\n",
    "        np.sin(pitch)\n",
    "    ])\n",
    "#     print(f'Starting velocity {velocity}.')\n",
    "    #make acceleration vector\n",
    "    acc = np.array([0.,0., g])\n",
    "    #record origin and first position after 1 timestep\n",
    "    history = [origin, origin+ velocity*timestep + (1/2)*acc*timestep**2]\n",
    "    position = history[-1]\n",
    "#     print(history)\n",
    "    #record distances\n",
    "    distances = [np.linalg.norm(target - origin), np.linalg.norm(target - position)]\n",
    "    #while the ball is above the ground, timestep to change position\n",
    "    while position[2] >= 0:\n",
    "#         print(history[-1])\n",
    "        position = 2*history[-1] - history[-2] + acc*(timestep**2)\n",
    "        distances.append(np.linalg.norm(target - position))\n",
    "        history.append(position)\n",
    "    return np.array(distances).min()\n",
    "    \n",
    "def tf_simulate_trajectory(speed, azi, pitch, target, origin = tf.constant([0.,0.,0.], dtype = 'float32'), timestep = 0.1, g = -10., distance_only = True):\n",
    "    #get cartesian velocity from spherical coordinates\n",
    "    velocity = speed*tf.convert_to_tensor([\n",
    "        tf.math.cos(azi)*tf.math.cos(pitch),\n",
    "        tf.math.sin(azi)*tf.math.cos(pitch),\n",
    "        tf.math.sin(pitch)\n",
    "    ])\n",
    "    acc = tf.constant([0.,0., g], dtype='float32')\n",
    "    history = [origin, origin+ velocity*timestep + (1/2)*acc*timestep**2]\n",
    "    position = history[-1]\n",
    "    distances = [\n",
    "        tf.norm(target - origin),\n",
    "        tf.norm(target - position)\n",
    "    ]\n",
    "    #while the ball is above the ground, timestep to change position\n",
    "    while position[2] >= 0:\n",
    "#         print(history[-1])\n",
    "        position = 2*history[-1] - history[-2] + acc*(timestep**2)\n",
    "        distances.append(tf.norm(target - position))\n",
    "        history.append(position)\n",
    "    if distance_only:\n",
    "        return tf.reduce_min(tf.convert_to_tensor(distances))\n",
    "    else:\n",
    "        return tf.convert_to_tensor(history)    "
   ]
  },
  {
   "cell_type": "code",
   "execution_count": 3,
   "id": "b87cdc47",
   "metadata": {},
   "outputs": [
    {
     "data": {
      "text/plain": [
       "<tf.Tensor: shape=(), dtype=float32, numpy=221.16388>"
      ]
     },
     "execution_count": 3,
     "metadata": {},
     "output_type": "execute_result"
    }
   ],
   "source": [
    "distance = tf_simulate_trajectory(100., 0., pi/3, tf.constant([100.,200.,300.], dtype='float32'))\n",
    "distance"
   ]
  },
  {
   "cell_type": "code",
   "execution_count": 4,
   "id": "1a3c337a",
   "metadata": {},
   "outputs": [
    {
     "data": {
      "text/plain": [
       "<tf.Tensor: shape=(), dtype=float32, numpy=220.66388>"
      ]
     },
     "execution_count": 4,
     "metadata": {},
     "output_type": "execute_result"
    }
   ],
   "source": [
    "loss_fn = tf.losses.Huber()\n",
    "loss_fn([0.],[distance])"
   ]
  },
  {
   "cell_type": "code",
   "execution_count": 5,
   "id": "316c8c2f",
   "metadata": {
    "scrolled": true
   },
   "outputs": [
    {
     "name": "stdout",
     "output_type": "stream",
     "text": [
      "got to optimizing\n",
      "finished with trial 1\n",
      "avg loss: 3260.6982421875\n",
      "got to optimizing\n",
      "finished with trial 2\n",
      "avg loss: 3301.713623046875\n",
      "got to optimizing\n",
      "finished with trial 3\n",
      "avg loss: 3451.8203125\n",
      "got to optimizing\n",
      "finished with trial 4\n",
      "avg loss: 3566.407470703125\n",
      "got to optimizing\n",
      "finished with trial 5\n",
      "avg loss: 3414.883544921875\n",
      "got to optimizing\n",
      "finished with trial 6\n",
      "avg loss: 3047.005126953125\n",
      "got to optimizing\n",
      "finished with trial 7\n",
      "avg loss: 2624.349365234375\n",
      "got to optimizing\n",
      "finished with trial 8\n",
      "avg loss: 2612.920654296875\n",
      "got to optimizing\n",
      "finished with trial 9\n",
      "avg loss: 2626.783447265625\n"
     ]
    },
    {
     "name": "stderr",
     "output_type": "stream",
     "text": [
      "\n",
      "KeyboardInterrupt\n",
      "\n"
     ]
    }
   ],
   "source": [
    "seed = 2022\n",
    "rng = np.random.default_rng(seed)\n",
    "\n",
    "#eps == 1.1920928955078125e-07\n",
    "eps = np.finfo(np.float32).eps.item()\n",
    "\n",
    "gamma = 0.99\n",
    "rounds_per_load = 3\n",
    "maximum_acceptable_loss = 500.\n",
    "scores_to_average = 3\n",
    "max_speed = 100. #m/s\n",
    "field_size = 2000. #m\n",
    "\n",
    "hit_distance = 5 #5m radius of target\n",
    "#miss_penalty = 500 #add this distance as a penalty for missing\n",
    "num_inputs = 3 #target x, y, z\n",
    "num_outputs = 3 #speed/max_speed, azimuth/(2pi), pitch/(pi)(\n",
    "num_hidden = 32\n",
    "\n",
    "#make model\n",
    "# inputs = keras.layers.Input(shape = (num_inputs,))\n",
    "# dense_1 = keras.layers.Dense(num_hidden, activation = 'relu', kernel_initializer=tf.initializers.he_normal)(inputs)\n",
    "# outputs = keras.layers.Dense(num_outputs)(dense_1)\n",
    "# model = keras.Model(inputs = inputs, outputs = outputs)\n",
    "\n",
    "inputs = keras.layers.Input(shape = (num_inputs,))\n",
    "dense_1 = keras.layers.Dense(num_hidden, activation = 'relu', bias_initializer=tf.initializers.he_normal, kernel_initializer=tf.initializers.he_normal)(inputs)\n",
    "outputs = keras.layers.Dense(num_outputs)(dense_1)\n",
    "model = keras.Model(inputs = inputs, outputs = outputs)\n",
    "\n",
    "#optimizer and loss function\n",
    "optimizer = tf.optimizers.Adam(learning_rate = 0.05)\n",
    "loss_fn = tf.losses.Huber()\n",
    "\n",
    "avg_recent_loss = 1000000.\n",
    "all_scores = []\n",
    "total_loss = tf.constant(0.)\n",
    "\n",
    "# model.trainable_variables[1] = tf.convert_to\n",
    "\n",
    "while avg_recent_loss > maximum_acceptable_loss:\n",
    "    with tf.GradientTape() as tape:\n",
    "        command_history = []\n",
    "        loss_history = []\n",
    "        #reload the cannon and shoot all shots\n",
    "        for shot in range(rounds_per_load):\n",
    "#             print(f'round {shot}')\n",
    "            target = field_size*rng.random(3) - field_size/2\n",
    "            target[2] = abs(target[2])\n",
    "            target = tf.convert_to_tensor(target, dtype = 'float32')\n",
    "            tape.watch(target)\n",
    "            #this just makes it so the model doesn't think these are separate collections of inputs\n",
    "            target = tf.expand_dims(target, 0)\n",
    "            \n",
    "            command = model(target)\n",
    "            speed, azi, pitch = command[0]\n",
    "            speed = speed*max_speed\n",
    "            azi = azi*2*pi\n",
    "            pitch = pitch*pi\n",
    "            \n",
    "            loss = tf_simulate_trajectory(speed, azi, pitch, target, timestep = 2)\n",
    "            loss = loss_fn([0.], [loss])\n",
    "            loss_history.append(loss)\n",
    "            \n",
    "        total_loss = sum(loss_history)\n",
    "        grads = tape.gradient(total_loss, model.trainable_variables)\n",
    "        if grads == [None, None, None, None]:\n",
    "            grads = [-.1,.1,-.2,.2]\n",
    "\n",
    "    print('got to optimizing')\n",
    "    optimizer.apply_gradients(zip(grads, model.trainable_variables))\n",
    "\n",
    "    all_scores.append(total_loss)\n",
    "    loss_history.clear()\n",
    "    avg_recent_loss = tf.reduce_mean(all_scores[-scores_to_average:])\n",
    "    if len(all_scores)%1 == 0:\n",
    "        print(f'finished with trial {len(all_scores)}')\n",
    "        print(f'avg loss: {avg_recent_loss}')"
   ]
  },
  {
   "cell_type": "code",
   "execution_count": null,
   "id": "b7ef623e",
   "metadata": {},
   "outputs": [],
   "source": [
    "#successive trainings\n",
    "\n",
    "while avg_recent_loss > maximum_acceptable_loss:\n",
    "    with tf.GradientTape() as tape:\n",
    "        command_history = []\n",
    "        loss_history = []\n",
    "        #reload the cannon and shoot all shots\n",
    "        for shot in range(rounds_per_load):\n",
    "#             print(f'round {shot}')\n",
    "            target = field_size*rng.random(3) - field_size/2\n",
    "            target[2] = abs(target[2])\n",
    "            target = tf.convert_to_tensor(target, dtype = 'float32')\n",
    "            tape.watch(target)\n",
    "            #this just makes it so the model doesn't think these are separate collections of inputs\n",
    "            target = tf.expand_dims(target, 0)\n",
    "            \n",
    "            command = model(target)\n",
    "            speed, azi, pitch = command[0]\n",
    "            speed = speed*max_speed\n",
    "            azi = azi*2*pi\n",
    "            pitch = pitch*pi\n",
    "            \n",
    "            loss = tf_simulate_trajectory(speed, azi, pitch, target, timestep = 2)\n",
    "            loss = loss_fn([0.], [loss])\n",
    "            loss_history.append(loss)\n",
    "            \n",
    "        total_loss = sum(loss_history)\n",
    "        grads = tape.gradient(total_loss, model.trainable_variables)\n",
    "\n",
    "    print('got to optimizing')\n",
    "    optimizer.apply_gradients(zip(grads, model.trainable_variables))\n",
    "\n",
    "    all_scores.append(total_loss)\n",
    "    loss_history.clear()\n",
    "    avg_recent_loss = tf.reduce_mean(all_scores[-scores_to_average:])\n",
    "    if len(all_scores)%1 == 0:\n",
    "        print(f'finished with trial {len(all_scores)}')\n",
    "        print(f'avg loss: {avg_recent_loss}')"
   ]
  },
  {
   "cell_type": "code",
   "execution_count": null,
   "id": "839284ef",
   "metadata": {},
   "outputs": [],
   "source": []
  }
 ],
 "metadata": {
  "kernelspec": {
   "display_name": "Python 3 (ipykernel)",
   "language": "python",
   "name": "python3"
  },
  "language_info": {
   "codemirror_mode": {
    "name": "ipython",
    "version": 3
   },
   "file_extension": ".py",
   "mimetype": "text/x-python",
   "name": "python",
   "nbconvert_exporter": "python",
   "pygments_lexer": "ipython3",
   "version": "3.9.7"
  }
 },
 "nbformat": 4,
 "nbformat_minor": 5
}
